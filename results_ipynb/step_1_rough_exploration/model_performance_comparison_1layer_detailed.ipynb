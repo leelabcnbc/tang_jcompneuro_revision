{
 "cells": [
  {
   "cell_type": "markdown",
   "metadata": {},
   "source": [
    "right now, this compares 9 channel CNN vs. GLMs, in terms of raw performance (cc^2 or cc), on ALL neurons (so no subset stuff yet)"
   ]
  },
  {
   "cell_type": "code",
   "execution_count": 1,
   "metadata": {},
   "outputs": [],
   "source": [
    "%matplotlib inline\n",
    "import matplotlib.pyplot as plt"
   ]
  },
  {
   "cell_type": "code",
   "execution_count": 2,
   "metadata": {},
   "outputs": [],
   "source": [
    "from collections import OrderedDict\n",
    "from itertools import product\n",
    "import h5py\n",
    "import numpy as np\n",
    "import pandas as pd"
   ]
  },
  {
   "cell_type": "code",
   "execution_count": 3,
   "metadata": {},
   "outputs": [],
   "source": [
    "from tang_jcompneuro.model_fitting_postprocess import load_model_performance"
   ]
  },
  {
   "cell_type": "code",
   "execution_count": 4,
   "metadata": {},
   "outputs": [],
   "source": [
    "def check_all():\n",
    "    subsets_to_check = ('all',\n",
    "#                         'OT'\n",
    "                       )\n",
    "    datasets_to_check = ('MkA_Shape',\n",
    "#                          'MkE2_Shape'\n",
    "                        )\n",
    "    \n",
    "    models_to_examine = [\n",
    "        ('cnn', 'b.9'),\n",
    "        ('cnn', 'b.9_avg'),\n",
    "        ('cnn', 'b.9_halfsq'),\n",
    "        ('cnn', 'b.9_avg_halfsq'),\n",
    "        ('cnn', 'b.9_sq'),\n",
    "        ('cnn', 'b.9_avg_sq'),\n",
    "        ('cnn', 'b.9_linear'),\n",
    "        ('cnn', 'b.9_avg_linear'),\n",
    "    ] # TODO should make this a ordered dict.\n",
    "      # so that it will be easier to collect best val model for each model class.\n",
    "    \n",
    "    score_all = []\n",
    "    for dataset, subset in product(datasets_to_check, subsets_to_check):\n",
    "        \n",
    "        print(dataset, subset)\n",
    "        for (model_type, model_subtype) in models_to_examine: \n",
    "            score_new_cc = np.asarray(\n",
    "                [load_model_performance(dataset, subset, 100, s, model_type, model_subtype)['corr'] for s in range(1)]\n",
    "            ).mean(axis=0)\n",
    "            \n",
    "            score_new_cc2 = np.asarray(\n",
    "                [load_model_performance(dataset, subset, 100, s, model_type, model_subtype)['corr']**2 for s in range(1)]\n",
    "            ).mean(axis=0)\n",
    "            \n",
    "            score_all.append({\n",
    "                'dataset': dataset,\n",
    "                'subset': subset,\n",
    "                'model': model_type + '_' + model_subtype,\n",
    "                'cc': score_new_cc.mean(),\n",
    "                'cc2': score_new_cc2.mean(),\n",
    "                # later on, I can add neuron subset, etc.\n",
    "            })\n",
    "            \n",
    "    score_all = pd.DataFrame(score_all,\n",
    "                             columns = ['dataset', 'subset', 'model', 'cc', 'cc2']).set_index(['dataset', 'subset', 'model'], verify_integrity=True)\n",
    "    return score_all"
   ]
  },
  {
   "cell_type": "code",
   "execution_count": 5,
   "metadata": {
    "scrolled": true
   },
   "outputs": [
    {
     "name": "stdout",
     "output_type": "stream",
     "text": [
      "MkA_Shape all\n"
     ]
    }
   ],
   "source": [
    "df_all = check_all()"
   ]
  },
  {
   "cell_type": "code",
   "execution_count": 6,
   "metadata": {},
   "outputs": [],
   "source": [
    "df_all.columns.name = 'metric'"
   ]
  },
  {
   "cell_type": "code",
   "execution_count": 7,
   "metadata": {},
   "outputs": [],
   "source": [
    "# this is the way to change a multiindex's names.\n",
    "# df_all.index.rename(['haha','haha2','haha3'], inplace=True)"
   ]
  },
  {
   "cell_type": "code",
   "execution_count": 8,
   "metadata": {
    "scrolled": false
   },
   "outputs": [
    {
     "data": {
      "text/html": [
       "<div>\n",
       "<style scoped>\n",
       "    .dataframe tbody tr th:only-of-type {\n",
       "        vertical-align: middle;\n",
       "    }\n",
       "\n",
       "    .dataframe tbody tr th {\n",
       "        vertical-align: top;\n",
       "    }\n",
       "\n",
       "    .dataframe thead tr th {\n",
       "        text-align: left;\n",
       "    }\n",
       "\n",
       "    .dataframe thead tr:last-of-type th {\n",
       "        text-align: right;\n",
       "    }\n",
       "</style>\n",
       "<table border=\"1\" class=\"dataframe\">\n",
       "  <thead>\n",
       "    <tr>\n",
       "      <th></th>\n",
       "      <th>metric</th>\n",
       "      <th>cc</th>\n",
       "      <th>cc2</th>\n",
       "    </tr>\n",
       "    <tr>\n",
       "      <th></th>\n",
       "      <th>subset</th>\n",
       "      <th>all</th>\n",
       "      <th>all</th>\n",
       "    </tr>\n",
       "    <tr>\n",
       "      <th>dataset</th>\n",
       "      <th>model</th>\n",
       "      <th></th>\n",
       "      <th></th>\n",
       "    </tr>\n",
       "  </thead>\n",
       "  <tbody>\n",
       "    <tr>\n",
       "      <th rowspan=\"8\" valign=\"top\">MkA_Shape</th>\n",
       "      <th>cnn_b.9</th>\n",
       "      <td>0.431644</td>\n",
       "      <td>0.220070</td>\n",
       "    </tr>\n",
       "    <tr>\n",
       "      <th>cnn_b.9_avg</th>\n",
       "      <td>0.415119</td>\n",
       "      <td>0.204510</td>\n",
       "    </tr>\n",
       "    <tr>\n",
       "      <th>cnn_b.9_avg_halfsq</th>\n",
       "      <td>0.412280</td>\n",
       "      <td>0.204517</td>\n",
       "    </tr>\n",
       "    <tr>\n",
       "      <th>cnn_b.9_avg_linear</th>\n",
       "      <td>0.218611</td>\n",
       "      <td>0.062131</td>\n",
       "    </tr>\n",
       "    <tr>\n",
       "      <th>cnn_b.9_avg_sq</th>\n",
       "      <td>0.381723</td>\n",
       "      <td>0.172631</td>\n",
       "    </tr>\n",
       "    <tr>\n",
       "      <th>cnn_b.9_halfsq</th>\n",
       "      <td>0.435210</td>\n",
       "      <td>0.223077</td>\n",
       "    </tr>\n",
       "    <tr>\n",
       "      <th>cnn_b.9_linear</th>\n",
       "      <td>0.401524</td>\n",
       "      <td>0.190735</td>\n",
       "    </tr>\n",
       "    <tr>\n",
       "      <th>cnn_b.9_sq</th>\n",
       "      <td>0.419590</td>\n",
       "      <td>0.206657</td>\n",
       "    </tr>\n",
       "  </tbody>\n",
       "</table>\n",
       "</div>"
      ],
      "text/plain": [
       "metric                              cc       cc2\n",
       "subset                             all       all\n",
       "dataset   model                                 \n",
       "MkA_Shape cnn_b.9             0.431644  0.220070\n",
       "          cnn_b.9_avg         0.415119  0.204510\n",
       "          cnn_b.9_avg_halfsq  0.412280  0.204517\n",
       "          cnn_b.9_avg_linear  0.218611  0.062131\n",
       "          cnn_b.9_avg_sq      0.381723  0.172631\n",
       "          cnn_b.9_halfsq      0.435210  0.223077\n",
       "          cnn_b.9_linear      0.401524  0.190735\n",
       "          cnn_b.9_sq          0.419590  0.206657"
      ]
     },
     "execution_count": 8,
     "metadata": {},
     "output_type": "execute_result"
    }
   ],
   "source": [
    "df_all.unstack('subset')"
   ]
  }
 ],
 "metadata": {
  "kernelspec": {
   "display_name": "Python 3",
   "language": "python",
   "name": "python3"
  },
  "language_info": {
   "codemirror_mode": {
    "name": "ipython",
    "version": 3
   },
   "file_extension": ".py",
   "mimetype": "text/x-python",
   "name": "python",
   "nbconvert_exporter": "python",
   "pygments_lexer": "ipython3",
   "version": "3.6.4"
  }
 },
 "nbformat": 4,
 "nbformat_minor": 2
}

{
 "cells": [
  {
   "cell_type": "markdown",
   "metadata": {},
   "source": [
    "check amount of variance perserved."
   ]
  },
  {
   "cell_type": "code",
   "execution_count": 1,
   "metadata": {},
   "outputs": [],
   "source": [
    "import h5py\n",
    "import numpy as np\n",
    "import os.path\n",
    "# from tang_jcompneuro import dir_dictionary\n",
    "from tang_jcompneuro.glm_data_preprocessing import generate_ready_transformer_dict\n",
    "from tang_jcompneuro.data_preprocessing import split_file_name_gen"
   ]
  },
  {
   "cell_type": "code",
   "execution_count": 2,
   "metadata": {},
   "outputs": [],
   "source": [
    "def callback_check(name, obj):\n",
    "    if isinstance(obj, h5py.Group) and 'per_dim_var' in obj.attrs:\n",
    "        print(name)\n",
    "        per_dim_var = obj.attrs['per_dim_var']\n",
    "        print(per_dim_var.shape)\n",
    "        # check \n",
    "        # https://github.com/scikit-learn/scikit-learn/blob/a24c8b46/sklearn/decomposition/pca.py#L435-L436\n",
    "        print(np.cumsum(per_dim_var)[:10])\n",
    "        print(np.searchsorted(np.cumsum(per_dim_var),0.95)+1)\n"
   ]
  },
  {
   "cell_type": "code",
   "execution_count": 3,
   "metadata": {},
   "outputs": [],
   "source": [
    "def main():\n",
    "    for model_to_check in ('linear',):\n",
    "        print(model_to_check)\n",
    "        with h5py.File(split_file_name_gen(model_to_check), 'r') as f:\n",
    "            f.visititems(callback_check)"
   ]
  },
  {
   "cell_type": "code",
   "execution_count": 4,
   "metadata": {
    "scrolled": false
   },
   "outputs": [
    {
     "name": "stdout",
     "output_type": "stream",
     "text": [
      "linear\n",
      "MkA_Shape/OT/without_val/100/0\n",
      "(400,)\n",
      "[ 0.23538415  0.32276267  0.39817764  0.4457523   0.4867857   0.5180647\n",
      "  0.54151284  0.5634878   0.57975062  0.5952905 ]\n",
      "119\n",
      "MkA_Shape/OT/without_val/100/1\n",
      "(400,)\n",
      "[ 0.23746262  0.32006675  0.4014471   0.44915826  0.49019394  0.51964325\n",
      "  0.5428734   0.56554974  0.58280857  0.59778009]\n",
      "119\n",
      "MkA_Shape/OT/without_val/100/2\n",
      "(400,)\n",
      "[ 0.23737181  0.32147536  0.40004324  0.44581889  0.48808614  0.51983403\n",
      "  0.54345043  0.56564007  0.58255653  0.59766808]\n",
      "119\n",
      "MkA_Shape/OT/without_val/100/3\n",
      "(400,)\n",
      "[ 0.23319439  0.31854076  0.40003597  0.4477163   0.4880143   0.51960257\n",
      "  0.54323894  0.56619572  0.5836252   0.59863323]\n",
      "119\n",
      "MkA_Shape/OT/without_val/100/4\n",
      "(400,)\n",
      "[ 0.24073431  0.32202564  0.40023857  0.44851982  0.4888873   0.51907711\n",
      "  0.5419107   0.56365119  0.58017492  0.59543966]\n",
      "119\n",
      "MkA_Shape/all/without_val/100/0\n",
      "(400,)\n",
      "[ 0.20830409  0.34885047  0.48671948  0.53915334  0.58108365  0.61568737\n",
      "  0.63827738  0.6599862   0.67526837  0.68914363]\n",
      "129\n",
      "MkA_Shape/all/without_val/100/1\n",
      "(400,)\n",
      "[ 0.20847241  0.34873496  0.48669833  0.5384384   0.58048244  0.61605217\n",
      "  0.63864064  0.66054855  0.67561697  0.6894144 ]\n",
      "129\n",
      "MkA_Shape/all/without_val/100/2\n",
      "(400,)\n",
      "[ 0.20605748  0.34711831  0.48623981  0.53862659  0.58088222  0.61614857\n",
      "  0.63871463  0.66059692  0.67572738  0.68954762]\n",
      "129\n",
      "MkA_Shape/all/without_val/100/3\n",
      "(400,)\n",
      "[ 0.20627543  0.34774144  0.48596067  0.5382073   0.58060857  0.61534745\n",
      "  0.63818521  0.66016427  0.67528898  0.68906975]\n",
      "129\n",
      "MkA_Shape/all/without_val/100/4\n",
      "(400,)\n",
      "[ 0.20824509  0.34787965  0.48584283  0.53779481  0.58053335  0.61553428\n",
      "  0.63817687  0.66017994  0.67548751  0.68923681]\n",
      "129\n",
      "MkE2_Shape/OT/without_val/100/0\n",
      "(400,)\n",
      "[ 0.2332396   0.3152552   0.3946737   0.44826501  0.49281337  0.52604086\n",
      "  0.55312921  0.57747141  0.59987708  0.62019232]\n",
      "97\n",
      "MkE2_Shape/OT/without_val/100/1\n",
      "(400,)\n",
      "[ 0.22703741  0.31030898  0.39100691  0.43772209  0.48131723  0.51688674\n",
      "  0.54418802  0.5689265   0.59064989  0.610299  ]\n",
      "98\n",
      "MkE2_Shape/OT/without_val/100/2\n",
      "(400,)\n",
      "[ 0.24159472  0.32438684  0.40035853  0.45289722  0.4966166   0.53042747\n",
      "  0.55553444  0.58025812  0.60205304  0.62213724]\n",
      "97\n",
      "MkE2_Shape/OT/without_val/100/3\n",
      "(400,)\n",
      "[ 0.23601185  0.32070474  0.39739382  0.44809629  0.49004515  0.5241275\n",
      "  0.54909587  0.57271996  0.59540147  0.61714169]\n",
      "97\n",
      "MkE2_Shape/OT/without_val/100/4\n",
      "(400,)\n",
      "[ 0.2411637   0.32894394  0.40295204  0.45560409  0.49660304  0.53026126\n",
      "  0.55606316  0.57983378  0.60243255  0.6219761 ]\n",
      "97\n",
      "MkE2_Shape/all/without_val/100/0\n",
      "(400,)\n",
      "[ 0.20814962  0.34977896  0.486095    0.53931333  0.58144732  0.61685187\n",
      "  0.63970876  0.66238591  0.67724094  0.69132721]\n",
      "119\n",
      "MkE2_Shape/all/without_val/100/1\n",
      "(400,)\n",
      "[ 0.20869457  0.35018884  0.48843833  0.54072751  0.58286387  0.61852257\n",
      "  0.64144885  0.6634112   0.67822999  0.69238235]\n",
      "119\n",
      "MkE2_Shape/all/without_val/100/2\n",
      "(400,)\n",
      "[ 0.20987121  0.35330584  0.48695297  0.53836379  0.58140362  0.6171968\n",
      "  0.63998338  0.66228423  0.67723396  0.69130629]\n",
      "119\n",
      "MkE2_Shape/all/without_val/100/3\n",
      "(400,)\n",
      "[ 0.20602929  0.34613078  0.4834375   0.53540995  0.57864634  0.61496522\n",
      "  0.63776771  0.6601521   0.67519453  0.68940326]\n",
      "119\n",
      "MkE2_Shape/all/without_val/100/4\n",
      "(400,)\n",
      "[ 0.20961263  0.34967722  0.48678397  0.54016373  0.58297156  0.61873725\n",
      "  0.64188419  0.66361292  0.67849913  0.69250503]\n",
      "119\n"
     ]
    }
   ],
   "source": [
    "main()"
   ]
  }
 ],
 "metadata": {
  "kernelspec": {
   "display_name": "Python 3",
   "language": "python",
   "name": "python3"
  },
  "language_info": {
   "codemirror_mode": {
    "name": "ipython",
    "version": 3
   },
   "file_extension": ".py",
   "mimetype": "text/x-python",
   "name": "python",
   "nbconvert_exporter": "python",
   "pygments_lexer": "ipython3",
   "version": "3.6.4"
  }
 },
 "nbformat": 4,
 "nbformat_minor": 2
}

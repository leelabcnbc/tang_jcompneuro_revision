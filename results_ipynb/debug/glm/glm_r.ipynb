{
 "cells": [
  {
   "cell_type": "markdown",
   "metadata": {},
   "source": [
    "this file makes sure that my glm r wrapper works as expected.\n",
    "\n",
    "mostly, I need to check that I can extract intercept and coefficients correctly."
   ]
  },
  {
   "cell_type": "code",
   "execution_count": 1,
   "metadata": {},
   "outputs": [
    {
     "name": "stderr",
     "output_type": "stream",
     "text": [
      "/home/yimengzh_everyday/miniconda2/envs/tf15/lib/python3.6/site-packages/rpy2/rinterface/__init__.py:186: RRuntimeWarning: Loading required package: Matrix\n",
      "\n",
      "  warnings.warn(x, RRuntimeWarning)\n",
      "/home/yimengzh_everyday/miniconda2/envs/tf15/lib/python3.6/site-packages/rpy2/rinterface/__init__.py:186: RRuntimeWarning: Loading required package: foreach\n",
      "\n",
      "  warnings.warn(x, RRuntimeWarning)\n",
      "/home/yimengzh_everyday/miniconda2/envs/tf15/lib/python3.6/site-packages/rpy2/rinterface/__init__.py:186: RRuntimeWarning: Loaded glmnet 2.0-13\n",
      "\n",
      "\n",
      "  warnings.warn(x, RRuntimeWarning)\n"
     ]
    }
   ],
   "source": [
    "import numpy as np\n",
    "from tang_jcompneuro.glm_r import _glmnet, _glmnet_coef, _glmnet_lambda, _glmnet_bias, _glmnet_predict, glmnet_interface\n",
    "from tang_jcompneuro.glm import glm_predict as glm_predict_generic"
   ]
  },
  {
   "cell_type": "code",
   "execution_count": 2,
   "metadata": {},
   "outputs": [],
   "source": [
    "# try toy model.\n",
    "\n",
    "def prepare_data(family):\n",
    "    rng_state = np.random.RandomState(seed=0)\n",
    "    X_train = rng_state.randn(1000,5)\n",
    "    coef = np.zeros(5)\n",
    "    coef[[1, 3, 4]] = np.array([.4, .2, .3])\n",
    "    bias = 1\n",
    "    y_linear = X_train@coef + bias\n",
    "    y_linear = y_linear[:,np.newaxis]\n",
    "    if family == 'gaussian':\n",
    "        return X_train, y_linear\n",
    "    elif family == 'poisson':\n",
    "        return X_train, np.exp(y_linear)\n",
    "    else:\n",
    "        raise NotImplementedError"
   ]
  },
  {
   "cell_type": "code",
   "execution_count": 3,
   "metadata": {},
   "outputs": [],
   "source": [
    "def generate_set_of_params(family):\n",
    "    return {\n",
    "        'std': {'alpha': 1.0, 'standardize': True, 'family': family},\n",
    "        'nostd': {'alpha': 1.0, 'standardize': False, 'family': family}\n",
    "    }\n",
    "\n"
   ]
  },
  {
   "cell_type": "code",
   "execution_count": 4,
   "metadata": {},
   "outputs": [],
   "source": [
    "def check_prediction(lambda_seq, coef_seq, bias_seq, X, family, fit):\n",
    "    for lam, coeff_this, bias_this in zip(lambda_seq, coef_seq, bias_seq):\n",
    "        prediction_generic = glm_predict_generic(X.copy(), coeff_this, bias_this, family)\n",
    "        prediction_specific = _glmnet_predict(fit, X.copy(), np.array([lam])).ravel()\n",
    "        assert prediction_generic.shape == prediction_specific.shape == (X.shape[0],)\n",
    "        assert abs(prediction_generic-prediction_specific).max() < 1e-10"
   ]
  },
  {
   "cell_type": "code",
   "execution_count": 5,
   "metadata": {},
   "outputs": [],
   "source": [
    "def work_on_one_family(family):\n",
    "    X, y = prepare_data(family)\n",
    "    for setup_name, kwargs in generate_set_of_params(family).items():\n",
    "        fit = _glmnet(X, y, **kwargs)\n",
    "        # print lambda \n",
    "        lambda_seq = _glmnet_lambda(fit)\n",
    "        bias_seq = _glmnet_bias(fit)\n",
    "        #print(lambda_seq, bias_seq)\n",
    "        n_lam = lambda_seq.size\n",
    "        print(setup_name, n_lam)\n",
    "        assert n_lam > 0\n",
    "        assert lambda_seq.shape == bias_seq.shape and lambda_seq.ndim == 1\n",
    "        coef_and_bias_seq = _glmnet_coef(fit, True).T\n",
    "        bias_seq_debug = coef_and_bias_seq[:, 0]\n",
    "        coef_seq = coef_and_bias_seq[:, 1:]\n",
    "        coef_seq_debug = _glmnet_coef(fit, False).T\n",
    "        #print(coef_seq.shape)\n",
    "        assert np.array_equal(bias_seq_debug, bias_seq)\n",
    "        assert np.array_equal(coef_seq_debug, coef_seq)\n",
    "        \n",
    "        assert coef_seq.shape == (n_lam, X.shape[1])\n",
    "        check_prediction(lambda_seq, coef_seq, bias_seq, X.copy(), family, fit)\n",
    "        # finally, use my wrapper.\n",
    "        lam_seq_XXX, coef_seq_XXX, bias_seq_XXX = glmnet_interface(X, y, **kwargs)\n",
    "        assert np.array_equal(coef_seq, coef_seq_XXX)\n",
    "        assert np.array_equal(lambda_seq, lam_seq_XXX)\n",
    "        assert np.array_equal(bias_seq, bias_seq_XXX)"
   ]
  },
  {
   "cell_type": "code",
   "execution_count": 6,
   "metadata": {
    "scrolled": false
   },
   "outputs": [
    {
     "name": "stdout",
     "output_type": "stream",
     "text": [
      "std 41\n",
      "nostd 40\n"
     ]
    }
   ],
   "source": [
    "work_on_one_family('gaussian')"
   ]
  },
  {
   "cell_type": "code",
   "execution_count": 7,
   "metadata": {},
   "outputs": [
    {
     "name": "stdout",
     "output_type": "stream",
     "text": [
      "std 40\n",
      "nostd 40\n"
     ]
    }
   ],
   "source": [
    "work_on_one_family('poisson')"
   ]
  }
 ],
 "metadata": {
  "kernelspec": {
   "display_name": "Python 3",
   "language": "python",
   "name": "python3"
  },
  "language_info": {
   "codemirror_mode": {
    "name": "ipython",
    "version": 3
   },
   "file_extension": ".py",
   "mimetype": "text/x-python",
   "name": "python",
   "nbconvert_exporter": "python",
   "pygments_lexer": "ipython3",
   "version": "3.6.4"
  }
 },
 "nbformat": 4,
 "nbformat_minor": 2
}

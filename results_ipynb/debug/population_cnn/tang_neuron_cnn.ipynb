{
 "cells": [
  {
   "cell_type": "code",
   "execution_count": 1,
   "metadata": {},
   "outputs": [],
   "source": [
    "%matplotlib inline\n",
    "import matplotlib.pyplot as plt\n",
    "import numpy as np\n",
    "from torch.backends import cudnn\n",
    "cudnn.benchmark = True\n",
    "cudnn.enabled = True"
   ]
  },
  {
   "cell_type": "code",
   "execution_count": 2,
   "metadata": {},
   "outputs": [],
   "source": [
    "# load cell classification dict\n",
    "from tang_jcompneuro.cell_classification import get_ready_to_use_classification\n",
    "cell_class_dict = get_ready_to_use_classification()"
   ]
  },
  {
   "cell_type": "code",
   "execution_count": 3,
   "metadata": {},
   "outputs": [
    {
     "name": "stdout",
     "output_type": "stream",
     "text": [
      "(6080, 1, 20, 20)\n",
      "(6080, 1142)\n",
      "(6080, 1142) [ 0.3305665   0.40650404  0.38186221 ...,  0.47243628  0.33701788\n",
      "  0.47037201]\n",
      "0.364467475667 0.177206700132 1.7273072627\n",
      "(1900, 1, 20, 20)\n",
      "(1900, 1142)\n",
      "(1900, 1142) [ 0.33074297  0.41074199  0.38362263 ...,  0.4728108   0.3405088\n",
      "  0.47498101]\n",
      "0.365467919 0.177957142692 1.72359397086\n",
      "(1520, 1, 20, 20)\n",
      "(1520, 1142)\n",
      "(1520, 1142) [ 0.32992763  0.41212338  0.38461031 ...,  0.47626194  0.3380989\n",
      "  0.47011715]\n",
      "0.36502551484 0.177134537388 1.71715092768\n"
     ]
    }
   ],
   "source": [
    "# load data\n",
    "# remember to scale y to make them have mean around 0.5\n",
    "from tang_jcompneuro.io import load_split_dataset\n",
    "datasets_all = load_split_dataset('MkA_Shape', 'all', True, slice(None), seed=0)\n",
    "def scale_dataset():\n",
    "    datasets_all_new = []\n",
    "    for idx, x in enumerate(datasets_all):\n",
    "        print(x.shape)\n",
    "        if idx % 2:\n",
    "            y=x*2\n",
    "            print(y.shape, y.mean(axis=0))\n",
    "            print(np.median(y.mean(axis=0)), y.mean(axis=0).min(), y.mean(axis=0).max())\n",
    "            # looks good to me.\n",
    "        else:\n",
    "            y=x\n",
    "        datasets_all_new.append(y)\n",
    "    return tuple(datasets_all_new)\n",
    "datasets_all = scale_dataset()"
   ]
  },
  {
   "cell_type": "code",
   "execution_count": 4,
   "metadata": {},
   "outputs": [],
   "source": [
    "from tang_jcompneuro.model_fitting_postprocess import load_model_performance"
   ]
  },
  {
   "cell_type": "code",
   "execution_count": 5,
   "metadata": {},
   "outputs": [
    {
     "name": "stdout",
     "output_type": "stream",
     "text": [
      "(427,) 0.296250691538\n"
     ]
    }
   ],
   "source": [
    "# load b.9 performance as baseline\n",
    "# let's work on OT neurons first.\n",
    "neuron_subset = 'OT'\n",
    "baseline_perf = load_model_performance('MkA_Shape', 'all',\n",
    "                                       100, 0, 'cnn', 'b.9')['corr'][cell_class_dict['MkA_Shape'][neuron_subset]]\n",
    "print(baseline_perf.shape, (baseline_perf**2).mean())"
   ]
  },
  {
   "cell_type": "code",
   "execution_count": 6,
   "metadata": {},
   "outputs": [
    {
     "name": "stdout",
     "output_type": "stream",
     "text": [
      "(6080, 1, 20, 20)\n",
      "(6080, 1142)\n",
      "(1900, 1, 20, 20)\n",
      "(1900, 1142)\n",
      "(1520, 1, 20, 20)\n",
      "(1520, 1142)\n"
     ]
    }
   ],
   "source": [
    "# trim datasets_all\n",
    "def trim_dataset():\n",
    "    datasets_all_new = []\n",
    "    for idx, x in enumerate(datasets_all):\n",
    "        print(x.shape)\n",
    "        if idx % 2:\n",
    "            y=x[:, cell_class_dict['MkA_Shape'][neuron_subset]]\n",
    "        else:\n",
    "            y=x\n",
    "        datasets_all_new.append(y)\n",
    "    return tuple(datasets_all_new)\n",
    "datasets = trim_dataset()"
   ]
  },
  {
   "cell_type": "code",
   "execution_count": 7,
   "metadata": {},
   "outputs": [
    {
     "data": {
      "text/plain": [
       "{'act_fn': 'softplus',\n",
       " 'conv': [{'bn': True,\n",
       "   'bn_affine': True,\n",
       "   'dilation': 1,\n",
       "   'kernel_size': 9,\n",
       "   'out_channel': 118,\n",
       "   'padding': 0,\n",
       "   'pool': None,\n",
       "   'stride': 1},\n",
       "  {'bn': True,\n",
       "   'bn_affine': True,\n",
       "   'dilation': 1,\n",
       "   'kernel_size': 3,\n",
       "   'out_channel': 118,\n",
       "   'padding': 1,\n",
       "   'pool': None,\n",
       "   'stride': 1},\n",
       "  {'bn': True,\n",
       "   'bn_affine': True,\n",
       "   'dilation': 1,\n",
       "   'kernel_size': 3,\n",
       "   'out_channel': 118,\n",
       "   'padding': 1,\n",
       "   'pool': None,\n",
       "   'stride': 1}],\n",
       " 'conv_last_no_act': True,\n",
       " 'fc': {'dropout': None,\n",
       "  'factored': True,\n",
       "  'factored_constraint': 'abs',\n",
       "  'mlp': None},\n",
       " 'linear_output': False}"
      ]
     },
     "execution_count": 7,
     "metadata": {},
     "output_type": "execute_result"
    }
   ],
   "source": [
    "# arch config\n",
    "# follow https://github.com/leelabcnbc/thesis-proposal-yimeng/blob/master/results_ipynb_blocks/population_neuron_fitting/maskcnn_v1_training_113017_explore.ipynb\n",
    "from maskcnn import cnn_aux\n",
    "arch_config = cnn_aux.get_maskcnn_v1_arch_config(out_channel=118, kernel_size_l1=9, kernel_size_l23=3,\n",
    "                                                 act_fn='softplus')\n",
    "arch_config"
   ]
  },
  {
   "cell_type": "code",
   "execution_count": 8,
   "metadata": {},
   "outputs": [],
   "source": [
    "# optim config\n",
    "# well, I will simply assume that smoothness and group is best to be 0, \n",
    "# as shown in my fitting to summer's data as well.\n",
    "#\n",
    "#\n",
    "# so I will play with scale, kernel size (L1/L23), num channel.\n",
    "# and loss type.\n",
    "# that is all.\n",
    "#\n",
    "opt_config = cnn_aux.get_maskcnn_v1_opt_config(scale=0.0001, bn_scale_nolearning=False, smoothness=0.0,group=0.0)"
   ]
  },
  {
   "cell_type": "code",
   "execution_count": 9,
   "metadata": {},
   "outputs": [],
   "source": [
    "# generate model\n",
    "from tang_jcompneuro.cnn import CNN\n",
    "model = CNN(arch_config,\n",
    "            cnn_aux.v1_maskcnn_generator(),\n",
    "            input_size=datasets[0].shape[2], n=datasets[1].shape[1],\n",
    "            seed=0, mean_response=datasets[1].mean(axis=0))\n",
    "\n",
    "model = model.cuda()\n",
    "model = model.train()"
   ]
  },
  {
   "cell_type": "code",
   "execution_count": null,
   "metadata": {},
   "outputs": [],
   "source": []
  },
  {
   "cell_type": "code",
   "execution_count": 10,
   "metadata": {},
   "outputs": [
    {
     "name": "stdout",
     "output_type": "stream",
     "text": [
      "multi 373199\n",
      "single 377041\n"
     ]
    }
   ],
   "source": [
    "from tang_jcompneuro.training_aux import count_params\n",
    "print('multi', count_params(model))\n",
    "print('single', 883*cell_class_dict['MkA_Shape'][neuron_subset].sum())"
   ]
  },
  {
   "cell_type": "code",
   "execution_count": 11,
   "metadata": {
    "scrolled": false
   },
   "outputs": [
    {
     "name": "stdout",
     "output_type": "stream",
     "text": [
      "========starting phase 1/3==========\n",
      "========starting epoch 500==========\n",
      "val metric\n",
      " {'loss': 0.018761892, 'corr': None, 'corr2_mean': 0.18346079}\n",
      "test metric\n",
      " {'loss': 0.018700182, 'corr': None, 'corr2_mean': 0.18101051}\n",
      "========done epoch 500==========\n",
      "========starting epoch 1000==========\n",
      "val metric\n",
      " {'loss': 0.017902512, 'corr': None, 'corr2_mean': 0.23712955}\n",
      "test metric\n",
      " {'loss': 0.01794165, 'corr': None, 'corr2_mean': 0.23100382}\n",
      "========done epoch 1000==========\n",
      "========starting epoch 1500==========\n",
      "val metric\n",
      " {'loss': 0.017508274, 'corr': None, 'corr2_mean': 0.26431599}\n",
      "test metric\n",
      " {'loss': 0.017510958, 'corr': None, 'corr2_mean': 0.25949883}\n",
      "========done epoch 1500==========\n",
      "========starting epoch 2000==========\n",
      "val metric\n",
      " {'loss': 0.015805643, 'corr': None, 'corr2_mean': 0.27820116}\n",
      "test metric\n",
      " {'loss': 0.015798347, 'corr': None, 'corr2_mean': 0.27399424}\n",
      "========done epoch 2000==========\n",
      "========starting epoch 2500==========\n",
      "val metric\n",
      " {'loss': 0.016692121, 'corr': None, 'corr2_mean': 0.28651586}\n",
      "test metric\n",
      " {'loss': 0.016600594, 'corr': None, 'corr2_mean': 0.28273293}\n",
      "========done epoch 2500==========\n",
      "early stopping after epoch 2500\n",
      "========end phase 1/3==========\n",
      "========starting phase 2/3==========\n",
      "for grp of size 12, reducing lr from 0.001000 to 0.000333\n",
      "========starting epoch 500==========\n",
      "val metric\n",
      " {'loss': 0.015462934, 'corr': None, 'corr2_mean': 0.29140189}\n",
      "test metric\n",
      " {'loss': 0.015435994, 'corr': None, 'corr2_mean': 0.28686643}\n",
      "========done epoch 500==========\n",
      "========starting epoch 1000==========\n",
      "val metric\n",
      " {'loss': 0.015700376, 'corr': None, 'corr2_mean': 0.29668045}\n",
      "test metric\n",
      " {'loss': 0.015661512, 'corr': None, 'corr2_mean': 0.29214752}\n",
      "========done epoch 1000==========\n",
      "========starting epoch 1500==========\n",
      "val metric\n",
      " {'loss': 0.015505387, 'corr': None, 'corr2_mean': 0.29851761}\n",
      "test metric\n",
      " {'loss': 0.0155005, 'corr': None, 'corr2_mean': 0.29394421}\n",
      "========done epoch 1500==========\n",
      "early stopping after epoch 1900\n",
      "========end phase 2/3==========\n",
      "========starting phase 3/3==========\n",
      "for grp of size 12, reducing lr from 0.000333 to 0.000111\n",
      "========starting epoch 500==========\n",
      "val metric\n",
      " {'loss': 0.014979045, 'corr': None, 'corr2_mean': 0.30526841}\n",
      "test metric\n",
      " {'loss': 0.014956675, 'corr': None, 'corr2_mean': 0.30068442}\n",
      "========done epoch 500==========\n",
      "early stopping after epoch 600\n",
      "========end phase 3/3==========\n"
     ]
    }
   ],
   "source": [
    "# train\n",
    "from maskcnn import training_aux\n",
    "train_results = training_aux.train_one_case(model, datasets, opt_config,\n",
    "                                           seed=0,eval_loss_type='mse',show_every=500)"
   ]
  },
  {
   "cell_type": "code",
   "execution_count": 12,
   "metadata": {},
   "outputs": [],
   "source": [
    "# show corr between b.9 performance and this one."
   ]
  },
  {
   "cell_type": "code",
   "execution_count": 14,
   "metadata": {},
   "outputs": [
    {
     "data": {
      "image/png": "[encoded data removed]",
      "text/plain": [
       "<matplotlib.figure.Figure at 0x2b11ff88a7f0>"
      ]
     },
     "metadata": {},
     "output_type": "display_data"
    }
   ],
   "source": [
    "from tang_jcompneuro.plotting import show_one_basic\n",
    "plt.close('all')\n",
    "show_one_basic((baseline_perf**2), train_results[1]**2,\n",
    "              xlabel='b.9', ylabel='pop', title=f'population vs single {neuron_subset}')\n",
    "plt.show()"
   ]
  }
 ],
 "metadata": {
  "kernelspec": {
   "display_name": "Python 3",
   "language": "python",
   "name": "python3"
  },
  "language_info": {
   "codemirror_mode": {
    "name": "ipython",
    "version": 3
   },
   "file_extension": ".py",
   "mimetype": "text/x-python",
   "name": "python",
   "nbconvert_exporter": "python",
   "pygments_lexer": "ipython3",
   "version": "3.6.4"
  }
 },
 "nbformat": 4,
 "nbformat_minor": 2
}

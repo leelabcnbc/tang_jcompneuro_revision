{
 "cells": [
  {
   "cell_type": "code",
   "execution_count": 1,
   "metadata": {},
   "outputs": [],
   "source": [
    "%matplotlib inline\n",
    "import matplotlib.pyplot as plt\n",
    "import numpy as np"
   ]
  },
  {
   "cell_type": "code",
   "execution_count": 2,
   "metadata": {},
   "outputs": [],
   "source": [
    "from maskcnn import training_aux_wrapper\n",
    "from tang_jcompneuro.model_fitting_postprocess import load_model_performance"
   ]
  },
  {
   "cell_type": "code",
   "execution_count": 3,
   "metadata": {},
   "outputs": [],
   "source": [
    "from tang_jcompneuro.cell_classification import get_ready_to_use_classification\n",
    "cell_class_dict = get_ready_to_use_classification()"
   ]
  },
  {
   "cell_type": "code",
   "execution_count": 4,
   "metadata": {},
   "outputs": [
    {
     "name": "stdout",
     "output_type": "stream",
     "text": [
      "(338,) 0.219384397298\n"
     ]
    }
   ],
   "source": [
    "# load b.9 performance as baseline\n",
    "# let's work on OT neurons first.\n",
    "neuron_subset = 'HO'\n",
    "baseline_perf = load_model_performance('MkA_Shape', 'all',\n",
    "                                       100, 0, 'cnn', 'b.9')['corr'][cell_class_dict['MkA_Shape'][neuron_subset]]\n",
    "print(baseline_perf.shape, (baseline_perf**2).mean())"
   ]
  },
  {
   "cell_type": "code",
   "execution_count": null,
   "metadata": {},
   "outputs": [],
   "source": []
  },
  {
   "cell_type": "code",
   "execution_count": 5,
   "metadata": {},
   "outputs": [
    {
     "data": {
      "text/plain": [
       "{'act_fn': 'softplus',\n",
       " 'conv': [{'bn': True,\n",
       "   'bn_affine': True,\n",
       "   'dilation': 1,\n",
       "   'kernel_size': 9,\n",
       "   'out_channel': 106,\n",
       "   'padding': 0,\n",
       "   'pool': None,\n",
       "   'stride': 1},\n",
       "  {'bn': True,\n",
       "   'bn_affine': True,\n",
       "   'dilation': 1,\n",
       "   'kernel_size': 3,\n",
       "   'out_channel': 106,\n",
       "   'padding': 1,\n",
       "   'pool': None,\n",
       "   'stride': 1},\n",
       "  {'bn': True,\n",
       "   'bn_affine': True,\n",
       "   'dilation': 1,\n",
       "   'kernel_size': 3,\n",
       "   'out_channel': 106,\n",
       "   'padding': 1,\n",
       "   'pool': None,\n",
       "   'stride': 1}],\n",
       " 'conv_last_no_act': True,\n",
       " 'fc': {'dropout': None,\n",
       "  'factored': True,\n",
       "  'factored_constraint': 'abs',\n",
       "  'mlp': None},\n",
       " 'linear_output': False}"
      ]
     },
     "execution_count": 5,
     "metadata": {},
     "output_type": "execute_result"
    }
   ],
   "source": [
    "arch_config = '9_3_100'\n",
    "training_aux_wrapper.gen_all_arch_config('MkA_Shape', 'all', neuron_subset)[arch_config]"
   ]
  },
  {
   "cell_type": "code",
   "execution_count": 6,
   "metadata": {},
   "outputs": [
    {
     "data": {
      "text/plain": [
       "{'conv': [{'group': 0.0, 'smoothness': 0.0},\n",
       "  {'group': 0.0, 'smoothness': 0.0},\n",
       "  {'group': 0.0, 'smoothness': 0.0}],\n",
       " 'fc': {'scale': 0.0001},\n",
       " 'legacy': True,\n",
       " 'loss': 'mse',\n",
       " 'optimizer': {'bn_scale_nolearning': False,\n",
       "  'lr': 0.001,\n",
       "  'optimizer_type': 'adam'}}"
      ]
     },
     "execution_count": 6,
     "metadata": {},
     "output_type": "execute_result"
    }
   ],
   "source": [
    "opt_config = 'mse_100'\n",
    "training_aux_wrapper.all_opt_configs[opt_config]"
   ]
  },
  {
   "cell_type": "code",
   "execution_count": 7,
   "metadata": {},
   "outputs": [
    {
     "name": "stdout",
     "output_type": "stream",
     "text": [
      "single 298454\n"
     ]
    }
   ],
   "source": [
    "print('single', 883*cell_class_dict['MkA_Shape'][neuron_subset].sum())"
   ]
  },
  {
   "cell_type": "code",
   "execution_count": 8,
   "metadata": {
    "scrolled": false
   },
   "outputs": [
    {
     "name": "stdout",
     "output_type": "stream",
     "text": [
      "(6080, 1, 20, 20)\n",
      "(6080, 1142)\n",
      "(1900, 1, 20, 20)\n",
      "(1900, 1142)\n",
      "(1520, 1, 20, 20)\n",
      "(1520, 1142)\n",
      "num_param 296308\n",
      "========starting phase 1/3==========\n",
      "========starting epoch 500==========\n",
      "val metric\n",
      " {'loss': 0.014330951, 'corr': None, 'corr2_mean': 0.10760848}\n",
      "test metric\n",
      " {'loss': 0.0141576, 'corr': None, 'corr2_mean': 0.10979404}\n",
      "========done epoch 500==========\n",
      "========starting epoch 1000==========\n",
      "val metric\n",
      " {'loss': 0.014296006, 'corr': None, 'corr2_mean': 0.14212026}\n",
      "test metric\n",
      " {'loss': 0.014122534, 'corr': None, 'corr2_mean': 0.14427501}\n",
      "========done epoch 1000==========\n",
      "========starting epoch 1500==========\n",
      "val metric\n",
      " {'loss': 0.013485111, 'corr': None, 'corr2_mean': 0.16377486}\n",
      "test metric\n",
      " {'loss': 0.013373004, 'corr': None, 'corr2_mean': 0.16583255}\n",
      "========done epoch 1500==========\n",
      "========starting epoch 2000==========\n",
      "val metric\n",
      " {'loss': 0.0130432, 'corr': None, 'corr2_mean': 0.17983258}\n",
      "test metric\n",
      " {'loss': 0.012929517, 'corr': None, 'corr2_mean': 0.18254565}\n",
      "========done epoch 2000==========\n",
      "========starting epoch 2500==========\n",
      "val metric\n",
      " {'loss': 0.012856808, 'corr': None, 'corr2_mean': 0.19288842}\n",
      "test metric\n",
      " {'loss': 0.012782519, 'corr': None, 'corr2_mean': 0.19461393}\n",
      "========done epoch 2500==========\n",
      "early stopping after epoch 2850\n",
      "========end phase 1/3==========\n",
      "========starting phase 2/3==========\n",
      "for grp of size 12, reducing lr from 0.001000 to 0.000333\n",
      "========starting epoch 500==========\n",
      "val metric\n",
      " {'loss': 0.012199945, 'corr': None, 'corr2_mean': 0.20735534}\n",
      "test metric\n",
      " {'loss': 0.012176175, 'corr': None, 'corr2_mean': 0.20778477}\n",
      "========done epoch 500==========\n",
      "early stopping after epoch 650\n",
      "========end phase 2/3==========\n",
      "========starting phase 3/3==========\n",
      "for grp of size 12, reducing lr from 0.000333 to 0.000111\n",
      "========starting epoch 500==========\n",
      "val metric\n",
      " {'loss': 0.012011662, 'corr': None, 'corr2_mean': 0.20826872}\n",
      "test metric\n",
      " {'loss': 0.011987373, 'corr': None, 'corr2_mean': 0.20875506}\n",
      "========done epoch 500==========\n",
      "early stopping after epoch 600\n",
      "========end phase 3/3==========\n"
     ]
    }
   ],
   "source": [
    "train_results = training_aux_wrapper.train_one_wrapper('MkA_Shape', 'all', neuron_subset, 0, arch_config, opt_config, save=False)"
   ]
  },
  {
   "cell_type": "code",
   "execution_count": 9,
   "metadata": {},
   "outputs": [],
   "source": [
    "# show corr between b.9 performance and this one."
   ]
  },
  {
   "cell_type": "code",
   "execution_count": 10,
   "metadata": {},
   "outputs": [
    {
     "data": {
      "image/png": "[encoded data removed]",
      "text/plain": [
       "<matplotlib.figure.Figure at 0x2aee815f4940>"
      ]
     },
     "metadata": {},
     "output_type": "display_data"
    }
   ],
   "source": [
    "from tang_jcompneuro.plotting import show_one_basic\n",
    "plt.close('all')\n",
    "show_one_basic((baseline_perf**2), train_results[2]**2,\n",
    "              xlabel='b.9', ylabel='pop', title=f'population vs single {neuron_subset}')\n",
    "plt.show()"
   ]
  },
  {
   "cell_type": "code",
   "execution_count": 11,
   "metadata": {
    "scrolled": false
   },
   "outputs": [
    {
     "name": "stdout",
     "output_type": "stream",
     "text": [
      "MkA_Shape/all/HO/0/cnn_population/9_3_100+mse_100/HO start\n",
      "(6080, 1, 20, 20)\n",
      "(6080, 1142)\n",
      "(1900, 1, 20, 20)\n",
      "(1900, 1142)\n",
      "(1520, 1, 20, 20)\n",
      "(1520, 1142)\n",
      "num_param 296308\n",
      "========starting phase 1/3==========\n",
      "========starting epoch 500==========\n",
      "val metric\n",
      " {'loss': 0.014266292, 'corr': None, 'corr2_mean': 0.1077299}\n",
      "test metric\n",
      " {'loss': 0.014091041, 'corr': None, 'corr2_mean': 0.10998072}\n",
      "========done epoch 500==========\n",
      "========starting epoch 1000==========\n",
      "val metric\n",
      " {'loss': 0.014106071, 'corr': None, 'corr2_mean': 0.14301506}\n",
      "test metric\n",
      " {'loss': 0.013933333, 'corr': None, 'corr2_mean': 0.14523061}\n",
      "========done epoch 1000==========\n",
      "========starting epoch 1500==========\n",
      "val metric\n",
      " {'loss': 0.013355805, 'corr': None, 'corr2_mean': 0.16382939}\n",
      "test metric\n",
      " {'loss': 0.0132527, 'corr': None, 'corr2_mean': 0.1657269}\n",
      "========done epoch 1500==========\n",
      "========starting epoch 2000==========\n",
      "val metric\n",
      " {'loss': 0.013054514, 'corr': None, 'corr2_mean': 0.18021108}\n",
      "test metric\n",
      " {'loss': 0.012937525, 'corr': None, 'corr2_mean': 0.18325043}\n",
      "========done epoch 2000==========\n",
      "========starting epoch 2500==========\n",
      "val metric\n",
      " {'loss': 0.012802659, 'corr': None, 'corr2_mean': 0.19302341}\n",
      "test metric\n",
      " {'loss': 0.012729906, 'corr': None, 'corr2_mean': 0.19500209}\n",
      "========done epoch 2500==========\n",
      "========starting epoch 3000==========\n",
      "val metric\n",
      " {'loss': 0.01305433, 'corr': None, 'corr2_mean': 0.20222996}\n",
      "test metric\n",
      " {'loss': 0.013036203, 'corr': None, 'corr2_mean': 0.20280132}\n",
      "========done epoch 3000==========\n",
      "early stopping after epoch 3000\n",
      "========end phase 1/3==========\n",
      "========starting phase 2/3==========\n",
      "for grp of size 12, reducing lr from 0.001000 to 0.000333\n",
      "========starting epoch 500==========\n",
      "val metric\n",
      " {'loss': 0.012685795, 'corr': None, 'corr2_mean': 0.20889027}\n",
      "test metric\n",
      " {'loss': 0.012636878, 'corr': None, 'corr2_mean': 0.2088154}\n",
      "========done epoch 500==========\n",
      "early stopping after epoch 550\n",
      "========end phase 2/3==========\n",
      "========starting phase 3/3==========\n",
      "for grp of size 12, reducing lr from 0.000333 to 0.000111\n",
      "========starting epoch 500==========\n",
      "val metric\n",
      " {'loss': 0.011967862, 'corr': None, 'corr2_mean': 0.20972013}\n",
      "test metric\n",
      " {'loss': 0.011944585, 'corr': None, 'corr2_mean': 0.20986184}\n",
      "========done epoch 500==========\n",
      "early stopping after epoch 750\n",
      "========end phase 3/3==========\n",
      "MkA_Shape/all/HO/0/cnn_population/9_3_100+mse_100/HO done\n",
      "MkA_Shape/all/HO/1/cnn_population/9_3_100+mse_100/HO start\n",
      "(6080, 1, 20, 20)\n",
      "(6080, 1142)\n",
      "(1900, 1, 20, 20)\n",
      "(1900, 1142)\n",
      "(1520, 1, 20, 20)\n",
      "(1520, 1142)\n",
      "num_param 296308\n",
      "========starting phase 1/3==========\n",
      "========starting epoch 500==========\n",
      "val metric\n",
      " {'loss': 0.014674568, 'corr': None, 'corr2_mean': 0.10287739}\n",
      "test metric\n",
      " {'loss': 0.014610375, 'corr': None, 'corr2_mean': 0.10774326}\n",
      "========done epoch 500==========\n",
      "========starting epoch 1000==========\n",
      "val metric\n",
      " {'loss': 0.013960956, 'corr': None, 'corr2_mean': 0.14024656}\n",
      "test metric\n",
      " {'loss': 0.013900062, 'corr': None, 'corr2_mean': 0.14418851}\n",
      "========done epoch 1000==========\n",
      "========starting epoch 1500==========\n",
      "val metric\n",
      " {'loss': 0.013915603, 'corr': None, 'corr2_mean': 0.16390647}\n",
      "test metric\n",
      " {'loss': 0.013864916, 'corr': None, 'corr2_mean': 0.16799767}\n",
      "========done epoch 1500==========\n",
      "========starting epoch 2000==========\n",
      "val metric\n",
      " {'loss': 0.013562086, 'corr': None, 'corr2_mean': 0.17844495}\n",
      "test metric\n",
      " {'loss': 0.013436195, 'corr': None, 'corr2_mean': 0.18388297}\n",
      "========done epoch 2000==========\n",
      "========starting epoch 2500==========\n",
      "val metric\n",
      " {'loss': 0.014342686, 'corr': None, 'corr2_mean': 0.19218685}\n",
      "test metric\n",
      " {'loss': 0.014238172, 'corr': None, 'corr2_mean': 0.19789331}\n",
      "========done epoch 2500==========\n",
      "early stopping after epoch 2900\n",
      "========end phase 1/3==========\n",
      "========starting phase 2/3==========\n",
      "for grp of size 12, reducing lr from 0.001000 to 0.000333\n",
      "========starting epoch 500==========\n",
      "val metric\n",
      " {'loss': 0.012810021, 'corr': None, 'corr2_mean': 0.20239651}\n",
      "test metric\n",
      " {'loss': 0.012635166, 'corr': None, 'corr2_mean': 0.20892291}\n",
      "========done epoch 500==========\n",
      "early stopping after epoch 900\n",
      "========end phase 2/3==========\n",
      "========starting phase 3/3==========\n",
      "for grp of size 12, reducing lr from 0.000333 to 0.000111\n",
      "========starting epoch 500==========\n",
      "val metric\n",
      " {'loss': 0.012103441, 'corr': None, 'corr2_mean': 0.20908847}\n",
      "test metric\n",
      " {'loss': 0.012009925, 'corr': None, 'corr2_mean': 0.2151919}\n",
      "========done epoch 500==========\n",
      "early stopping after epoch 550\n",
      "========end phase 3/3==========\n",
      "MkA_Shape/all/HO/1/cnn_population/9_3_100+mse_100/HO done\n"
     ]
    }
   ],
   "source": [
    "training_aux_wrapper.train_one_wrapper('MkA_Shape', 'all', neuron_subset, 0, arch_config, opt_config)\n",
    "training_aux_wrapper.train_one_wrapper('MkA_Shape', 'all', neuron_subset, 1, arch_config, opt_config)"
   ]
  },
  {
   "cell_type": "code",
   "execution_count": 12,
   "metadata": {},
   "outputs": [
    {
     "data": {
      "image/png": "[encoded data removed]",
      "text/plain": [
       "<matplotlib.figure.Figure at 0x2aedd0a90f98>"
      ]
     },
     "metadata": {},
     "output_type": "display_data"
    }
   ],
   "source": [
    "from maskcnn import postprocess\n",
    "plt.close('all')\n",
    "show_one_basic((baseline_perf**2),\n",
    "               postprocess.load_model_performance('MkA_Shape', 'all', neuron_subset, 0, arch_config, opt_config)['corr']**2,\n",
    "              xlabel='b.9', ylabel='pop', title=f'population vs single {neuron_subset}')\n",
    "plt.show()"
   ]
  },
  {
   "cell_type": "code",
   "execution_count": 13,
   "metadata": {},
   "outputs": [],
   "source": [
    "baseline_perf_2 = load_model_performance('MkA_Shape', 'all',\n",
    "                                       100, 1, 'cnn', 'b.9')['corr'][cell_class_dict['MkA_Shape'][neuron_subset]]"
   ]
  },
  {
   "cell_type": "code",
   "execution_count": 14,
   "metadata": {},
   "outputs": [
    {
     "data": {
      "image/png": "[encoded data removed]",
      "text/plain": [
       "<matplotlib.figure.Figure at 0x2aee81604cf8>"
      ]
     },
     "metadata": {},
     "output_type": "display_data"
    }
   ],
   "source": [
    "plt.close('all')\n",
    "show_one_basic((baseline_perf_2**2),\n",
    "               postprocess.load_model_performance('MkA_Shape', 'all', neuron_subset, 1, arch_config, opt_config)['corr']**2,\n",
    "              xlabel='b.9', ylabel='pop', title=f'population vs single {neuron_subset}')\n",
    "plt.show()"
   ]
  }
 ],
 "metadata": {
  "kernelspec": {
   "display_name": "Python 3",
   "language": "python",
   "name": "python3"
  },
  "language_info": {
   "codemirror_mode": {
    "name": "ipython",
    "version": 3
   },
   "file_extension": ".py",
   "mimetype": "text/x-python",
   "name": "python",
   "nbconvert_exporter": "python",
   "pygments_lexer": "ipython3",
   "version": "3.6.4"
  }
 },
 "nbformat": 4,
 "nbformat_minor": 2
}

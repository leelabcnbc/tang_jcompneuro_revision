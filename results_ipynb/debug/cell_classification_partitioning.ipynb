{
 "cells": [
  {
   "cell_type": "markdown",
   "metadata": {},
   "source": [
    "this notebook verifies that the partioning of neurons is correct."
   ]
  },
  {
   "cell_type": "code",
   "execution_count": 1,
   "metadata": {},
   "outputs": [],
   "source": [
    "import numpy as np\n",
    "from tang_jcompneuro.model_fitting_postprocess import get_ready_to_use_classification_lazy"
   ]
  },
  {
   "cell_type": "code",
   "execution_count": 2,
   "metadata": {},
   "outputs": [],
   "source": [
    "coarse_dict = get_ready_to_use_classification_lazy(True)\n",
    "fine_dict = get_ready_to_use_classification_lazy(False)"
   ]
  },
  {
   "cell_type": "code",
   "execution_count": 3,
   "metadata": {
    "scrolled": false
   },
   "outputs": [],
   "source": [
    "def check():\n",
    "    for dataset_name, dataset_size in zip(('MkA_Shape', 'MkE2_Shape'), (1142, 979)):\n",
    "        print(dataset_name)\n",
    "        coarse_dict_this = coarse_dict[dataset_name]\n",
    "        fine_dict_this = fine_dict[dataset_name]\n",
    "        for x, y in coarse_dict_this.items():\n",
    "            print(x)\n",
    "            assert y.shape == (dataset_size,)\n",
    "            assert y.dtype == np.bool_\n",
    "            \n",
    "            fine_dict_this_x = fine_dict_this[x]\n",
    "            counter = np.zeros_like(y, dtype=np.int64)\n",
    "            for x_inner, y_inner in fine_dict_this_x.items():\n",
    "                print(x_inner, y_inner.sum())\n",
    "                assert y_inner.shape == (dataset_size,)\n",
    "                assert y_inner.dtype == np.bool_\n",
    "                counter += y_inner.astype(np.int64)\n",
    "            assert np.array_equal(counter.astype(np.bool_), y)\n",
    "            assert np.array_equal(np.unique(counter), np.array([0,1]))"
   ]
  },
  {
   "cell_type": "code",
   "execution_count": 4,
   "metadata": {},
   "outputs": [
    {
     "name": "stdout",
     "output_type": "stream",
     "text": [
      "MkA_Shape\n",
      "OT\n",
      "SS 266\n",
      "EB 161\n",
      "HO\n",
      "CV 59\n",
      "CN 77\n",
      "CRS 16\n",
      "Other 47\n",
      "Multi 139\n",
      "MkE2_Shape\n",
      "OT\n",
      "SS 204\n",
      "EB 197\n",
      "HO\n",
      "CV 66\n",
      "CN 93\n",
      "CRS 31\n",
      "Other 50\n",
      "Multi 174\n"
     ]
    }
   ],
   "source": [
    "check()\n",
    "# check this against \n",
    "# https://github.com/leelabcnbc/tang-paper-2017/blob/master/population_analysis/noise_correlation_analysis.ipynb"
   ]
  }
 ],
 "metadata": {
  "kernelspec": {
   "display_name": "Python 3",
   "language": "python",
   "name": "python3"
  },
  "language_info": {
   "codemirror_mode": {
    "name": "ipython",
    "version": 3
   },
   "file_extension": ".py",
   "mimetype": "text/x-python",
   "name": "python",
   "nbconvert_exporter": "python",
   "pygments_lexer": "ipython3",
   "version": "3.6.4"
  }
 },
 "nbformat": 4,
 "nbformat_minor": 2
}

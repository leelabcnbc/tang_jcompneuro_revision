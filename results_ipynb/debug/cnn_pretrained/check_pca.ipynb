{
 "cells": [
  {
   "cell_type": "markdown",
   "metadata": {},
   "source": [
    "this makes sure that I can recover the PCAed vgg features."
   ]
  },
  {
   "cell_type": "code",
   "execution_count": 1,
   "metadata": {},
   "outputs": [],
   "source": [
    "import os\n",
    "from itertools import product\n",
    "import numpy as np\n",
    "import h5py"
   ]
  },
  {
   "cell_type": "code",
   "execution_count": 2,
   "metadata": {},
   "outputs": [],
   "source": [
    "from tang_jcompneuro.io import load_split_dataset, load_split_dataset_idx, load_split_dataset_pretrained_pca_params\n",
    "from tang_jcompneuro import dir_dictionary\n",
    "from tang_jcompneuro.cnn_pretrained import blob_corresponding_info"
   ]
  },
  {
   "cell_type": "code",
   "execution_count": 3,
   "metadata": {},
   "outputs": [],
   "source": [
    "blob_names = list(blob_corresponding_info['vgg19'].keys())"
   ]
  },
  {
   "cell_type": "code",
   "execution_count": 4,
   "metadata": {},
   "outputs": [],
   "source": [
    "# dataset = load_split_dataset('MkA_Shape', 'all', True, slice(None), last_val=False, suffix='vgg19/legacy/conv3_1')"
   ]
  },
  {
   "cell_type": "code",
   "execution_count": 5,
   "metadata": {},
   "outputs": [],
   "source": [
    "# len(dataset)"
   ]
  },
  {
   "cell_type": "code",
   "execution_count": 6,
   "metadata": {},
   "outputs": [],
   "source": [
    "# data_idx = load_split_dataset_idx('MkA_Shape', 'all', True, last_val=False)"
   ]
  },
  {
   "cell_type": "code",
   "execution_count": 7,
   "metadata": {},
   "outputs": [],
   "source": [
    "# len(data_idx)"
   ]
  },
  {
   "cell_type": "code",
   "execution_count": 8,
   "metadata": {},
   "outputs": [],
   "source": [
    "# print(dataset[0].shape)\n",
    "# print(dataset[1].shape)\n",
    "# print(dataset[2].shape)\n",
    "# print(dataset[3].shape)\n",
    "# print(dataset[4].shape)\n",
    "# print(dataset[5].shape)"
   ]
  },
  {
   "cell_type": "code",
   "execution_count": 9,
   "metadata": {},
   "outputs": [],
   "source": [
    "# print(data_idx[0].shape)\n",
    "# print(data_idx[1].shape)\n",
    "# print(data_idx[2].shape)"
   ]
  },
  {
   "cell_type": "code",
   "execution_count": 10,
   "metadata": {},
   "outputs": [],
   "source": [
    "# load original VGG features"
   ]
  },
  {
   "cell_type": "code",
   "execution_count": 11,
   "metadata": {},
   "outputs": [],
   "source": [
    "def load_original_features(layer_name):\n",
    "    file_in = os.path.join(dir_dictionary['features'], 'cnn_feature_extraction.hdf5')\n",
    "    layer_idx = blob_names.index(layer_name)\n",
    "    key_to_extract = '/'.join(['vgg19', 'legacy', str(layer_idx)])\n",
    "    with h5py.File(file_in, 'r') as f:\n",
    "        feature_this = f[f'Shape_9500/{key_to_extract}'][...].astype(np.float64, copy=False)\n",
    "    print(feature_this.shape)\n",
    "    return feature_this"
   ]
  },
  {
   "cell_type": "code",
   "execution_count": 12,
   "metadata": {},
   "outputs": [],
   "source": [
    "# load_original_features('conv3_1')"
   ]
  },
  {
   "cell_type": "code",
   "execution_count": null,
   "metadata": {},
   "outputs": [],
   "source": []
  },
  {
   "cell_type": "code",
   "execution_count": 13,
   "metadata": {},
   "outputs": [],
   "source": [
    "# pca_mean.shape"
   ]
  },
  {
   "cell_type": "code",
   "execution_count": 14,
   "metadata": {},
   "outputs": [],
   "source": [
    "# pca_components.shape"
   ]
  },
  {
   "cell_type": "code",
   "execution_count": 15,
   "metadata": {},
   "outputs": [],
   "source": [
    "def check_one_layer(layer_name, seed):\n",
    "    \n",
    "    suffix=f'vgg19/legacy/{layer_name}'\n",
    "    dataset = load_split_dataset('MkA_Shape', 'all', True, slice(None), last_val=False, suffix=suffix, seed=seed)\n",
    "    dataset = (dataset[0], dataset[2], dataset[4])\n",
    "    data_idx = load_split_dataset_idx('MkA_Shape', 'all', True, last_val=False, seed=seed)\n",
    "    assert len(data_idx) == len(dataset) == 3\n",
    "    pca_mean, pca_components = load_split_dataset_pretrained_pca_params('MkA_Shape', 'all', suffix=suffix, seed=seed)\n",
    "    features_original = load_original_features(layer_name)\n",
    "    features_original = features_original.reshape(features_original.shape[0], -1)\n",
    "    \n",
    "    # ok. let's check\n",
    "    for (dataset_out_this, dataset_idx_this) in zip(dataset, data_idx):\n",
    "        print(dataset_idx_this.shape)\n",
    "        assert (dataset_out_this.shape[0],) == dataset_idx_this.shape\n",
    "        \n",
    "        dataset_out_this_debug = (features_original[dataset_idx_this] - pca_mean)@pca_components.T\n",
    "        assert dataset_out_this_debug.shape == dataset_out_this.shape\n",
    "        assert np.allclose(dataset_out_this_debug, dataset_out_this)\n",
    "        print(np.array_equal(dataset_out_this_debug, dataset_out_this))"
   ]
  },
  {
   "cell_type": "code",
   "execution_count": 16,
   "metadata": {},
   "outputs": [],
   "source": [
    "def check_all():\n",
    "    for layer_name, seed in product(['conv2_1', 'conv3_1', 'conv4_1'], range(2)):\n",
    "        print(layer_name, seed)\n",
    "        check_one_layer(layer_name, seed)"
   ]
  },
  {
   "cell_type": "code",
   "execution_count": 17,
   "metadata": {},
   "outputs": [
    {
     "name": "stdout",
     "output_type": "stream",
     "text": [
      "conv2_1 0\n",
      "(9500, 128, 8, 8)\n",
      "(6080,)\n",
      "True\n",
      "(1520,)\n",
      "True\n",
      "(1900,)\n",
      "True\n",
      "conv2_1 1\n",
      "(9500, 128, 8, 8)\n",
      "(6080,)\n",
      "True\n",
      "(1520,)\n",
      "True\n",
      "(1900,)\n",
      "True\n",
      "conv3_1 0\n",
      "(9500, 256, 2, 2)\n",
      "(6080,)\n",
      "True\n",
      "(1520,)\n",
      "True\n",
      "(1900,)\n",
      "True\n",
      "conv3_1 1\n",
      "(9500, 256, 2, 2)\n",
      "(6080,)\n",
      "True\n",
      "(1520,)\n",
      "True\n",
      "(1900,)\n",
      "True\n",
      "conv4_1 0\n",
      "(9500, 512, 1, 1)\n",
      "(6080,)\n",
      "True\n",
      "(1520,)\n",
      "True\n",
      "(1900,)\n",
      "True\n",
      "conv4_1 1\n",
      "(9500, 512, 1, 1)\n",
      "(6080,)\n",
      "True\n",
      "(1520,)\n",
      "True\n",
      "(1900,)\n",
      "True\n"
     ]
    }
   ],
   "source": [
    "check_all()"
   ]
  }
 ],
 "metadata": {
  "kernelspec": {
   "display_name": "Python 3",
   "language": "python",
   "name": "python3"
  },
  "language_info": {
   "codemirror_mode": {
    "name": "ipython",
    "version": 3
   },
   "file_extension": ".py",
   "mimetype": "text/x-python",
   "name": "python",
   "nbconvert_exporter": "python",
   "pygments_lexer": "ipython3",
   "version": "3.6.4"
  }
 },
 "nbformat": 4,
 "nbformat_minor": 2
}

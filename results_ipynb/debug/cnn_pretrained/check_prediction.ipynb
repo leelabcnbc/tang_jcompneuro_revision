{
 "cells": [
  {
   "cell_type": "markdown",
   "metadata": {},
   "source": [
    "this makes sure that I can recover the predicted responses from saved parameters."
   ]
  },
  {
   "cell_type": "code",
   "execution_count": 1,
   "metadata": {},
   "outputs": [],
   "source": [
    "import os\n",
    "from itertools import product\n",
    "import numpy as np\n",
    "import h5py"
   ]
  },
  {
   "cell_type": "code",
   "execution_count": 2,
   "metadata": {},
   "outputs": [],
   "source": [
    "from tang_jcompneuro.io import load_split_dataset, load_split_dataset_idx\n",
    "from tang_jcompneuro.model_fitting_postprocess import load_one_cnnpre_model\n",
    "from tang_jcompneuro import dir_dictionary\n",
    "from tang_jcompneuro.cnn_pretrained import blob_corresponding_info"
   ]
  },
  {
   "cell_type": "code",
   "execution_count": 3,
   "metadata": {},
   "outputs": [],
   "source": [
    "blob_names = list(blob_corresponding_info['vgg19'].keys())"
   ]
  },
  {
   "cell_type": "code",
   "execution_count": 4,
   "metadata": {},
   "outputs": [],
   "source": [
    "def check_one_layer(layer_name, seed):\n",
    "    \n",
    "    suffix=f'vgg19/legacy/{layer_name}'\n",
    "    dataset = load_split_dataset('MkA_Shape', 'all', True, slice(None), last_val=False, suffix=suffix, seed=seed)\n",
    "    dataset = dataset[4]\n",
    "    print(dataset.shape)\n",
    "    data_idx = load_split_dataset_idx('MkA_Shape', 'all', True, last_val=False, seed=seed)[2]\n",
    "    assert data_idx.shape == (1900,)\n",
    "    assert dataset.shape[0] == 1900 and dataset.ndim == 2\n",
    "    \n",
    "    # some random neurons.\n",
    "    neurons_to_check = (0, 500, 231, 543)\n",
    "    for neuron_idx in neurons_to_check:\n",
    "        print(neuron_idx)\n",
    "        model_this = load_one_cnnpre_model('MkA_Shape', 'all', suffix.replace('/','+'), neuron_idx, seed=seed)\n",
    "        # ok. let's check\n",
    "        # \n",
    "        y_test_hat = model_this['y_test_hat']\n",
    "        assert y_test_hat.shape == (1900,1)\n",
    "        assert model_this['model_coeff'].ndim == 1\n",
    "        assert np.isscalar(model_this['model_bias'])\n",
    "        y_test_hat_debug = np.exp(dataset@model_this['model_coeff'] + model_this['model_bias'])[:,np.newaxis]\n",
    "        assert y_test_hat_debug.shape == y_test_hat.shape\n",
    "#         print(abs(y_test_hat_debug-y_test_hat).max())\n",
    "        assert abs(y_test_hat_debug-y_test_hat).max()<1e-10\n",
    "        \n",
    "    "
   ]
  },
  {
   "cell_type": "code",
   "execution_count": 5,
   "metadata": {},
   "outputs": [],
   "source": [
    "def check_all():\n",
    "    for layer_name, seed in product(['conv2_1', 'conv3_1', 'conv4_1'], range(2)):\n",
    "        print(layer_name, seed)\n",
    "        check_one_layer(layer_name, seed)"
   ]
  },
  {
   "cell_type": "code",
   "execution_count": 6,
   "metadata": {},
   "outputs": [
    {
     "name": "stdout",
     "output_type": "stream",
     "text": [
      "conv2_1 0\n",
      "(1900, 882)\n",
      "0\n",
      "500\n",
      "231\n",
      "543\n",
      "conv2_1 1\n",
      "(1900, 882)\n",
      "0\n",
      "500\n",
      "231\n",
      "543\n",
      "conv3_1 0\n",
      "(1900, 882)\n",
      "0\n",
      "500\n",
      "231\n",
      "543\n",
      "conv3_1 1\n",
      "(1900, 882)\n",
      "0\n",
      "500\n",
      "231\n",
      "543\n",
      "conv4_1 0\n",
      "(1900, 512)\n",
      "0\n",
      "500\n",
      "231\n",
      "543\n",
      "conv4_1 1\n",
      "(1900, 512)\n",
      "0\n",
      "500\n",
      "231\n",
      "543\n"
     ]
    }
   ],
   "source": [
    "check_all()"
   ]
  }
 ],
 "metadata": {
  "kernelspec": {
   "display_name": "Python 3",
   "language": "python",
   "name": "python3"
  },
  "language_info": {
   "codemirror_mode": {
    "name": "ipython",
    "version": 3
   },
   "file_extension": ".py",
   "mimetype": "text/x-python",
   "name": "python",
   "nbconvert_exporter": "python",
   "pygments_lexer": "ipython3",
   "version": "3.6.4"
  }
 },
 "nbformat": 4,
 "nbformat_minor": 2
}

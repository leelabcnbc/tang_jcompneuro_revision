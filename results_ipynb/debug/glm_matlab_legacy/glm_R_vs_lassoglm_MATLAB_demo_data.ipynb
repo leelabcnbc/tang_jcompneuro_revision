{
 "cells": [
  {
   "cell_type": "code",
   "execution_count": 1,
   "metadata": {},
   "outputs": [],
   "source": [
    "%matplotlib inline\n",
    "import numpy as np\n",
    "import matplotlib.pyplot as plt\n",
    "from scipy.stats import pearsonr\n",
    "import time"
   ]
  },
  {
   "cell_type": "code",
   "execution_count": 2,
   "metadata": {},
   "outputs": [],
   "source": [
    "class Timer(object):\n",
    "    def __init__(self, name=None):\n",
    "        self.name = name\n",
    "\n",
    "    def __enter__(self):\n",
    "        self.tstart = time.time()\n",
    "\n",
    "    def __exit__(self, type, value, traceback):\n",
    "        if self.name:\n",
    "            print('[%s]' % self.name, end=' ')\n",
    "        print('Elapsed: %s' % (time.time() - self.tstart))"
   ]
  },
  {
   "cell_type": "code",
   "execution_count": 3,
   "metadata": {},
   "outputs": [
    {
     "name": "stderr",
     "output_type": "stream",
     "text": [
      "/home/yimengzh_everyday/miniconda2/envs/tf15/lib/python3.6/site-packages/rpy2/rinterface/__init__.py:186: RRuntimeWarning: Loading required package: Matrix\n",
      "\n",
      "  warnings.warn(x, RRuntimeWarning)\n",
      "/home/yimengzh_everyday/miniconda2/envs/tf15/lib/python3.6/site-packages/rpy2/rinterface/__init__.py:186: RRuntimeWarning: Loading required package: foreach\n",
      "\n",
      "  warnings.warn(x, RRuntimeWarning)\n",
      "/home/yimengzh_everyday/miniconda2/envs/tf15/lib/python3.6/site-packages/rpy2/rinterface/__init__.py:186: RRuntimeWarning: Loaded glmnet 2.0-13\n",
      "\n",
      "\n",
      "  warnings.warn(x, RRuntimeWarning)\n"
     ]
    }
   ],
   "source": [
    "from tang_jcompneuro_legacy import glm, glm_matlab, glm_matlab_aux"
   ]
  },
  {
   "cell_type": "code",
   "execution_count": 4,
   "metadata": {},
   "outputs": [],
   "source": [
    "# # use MATLAB example.\n",
    "# rng_state = np.random.RandomState(seed=0)\n",
    "# X = rng_state.randn(1000,20)\n",
    "# coef = np.zeros(20)\n",
    "# coef[[4, 9, 14]] = np.array([.4, .2, .3])\n",
    "# bias = 1\n",
    "# y_linear = X@coef + bias\n",
    "# foldid = glm_matlab.convert_sklearn_kfold_to_glmnet_foldid(1000, 5, seed=0)"
   ]
  },
  {
   "cell_type": "code",
   "execution_count": 5,
   "metadata": {},
   "outputs": [],
   "source": [
    "# dummy data\n",
    "# use MATLAB example.\n",
    "rng_state = np.random.RandomState(seed=0)\n",
    "X_train_pca = rng_state.randn(1000,5)\n",
    "coef = np.zeros(5)\n",
    "coef[[1, 3, 4]] = np.array([.4, .2, .3])\n",
    "bias = 1\n",
    "y_linear = X_train_pca@coef + bias\n",
    "y_linear = y_linear[:,np.newaxis]\n",
    "y_linear = np.log(np.exp(y_linear) + 1)\n",
    "foldid = glm_matlab.convert_sklearn_kfold_to_glmnet_foldid(1000, 5, seed=0)"
   ]
  },
  {
   "cell_type": "code",
   "execution_count": 6,
   "metadata": {},
   "outputs": [],
   "source": [
    "# first, do Gaussian.\n",
    "def test_gaussian(X, y):\n",
    "    with Timer('Gaussian R'):\n",
    "        fit_R = glm.glmnet_cv(X, y, standardize=False, type_measure='mse',\n",
    "                            family='gaussian',\n",
    "                            foldid=foldid, alpha=1.0, keep=True)\n",
    "        predicted_y_R = glm.glmnet_extract_preval(fit_R, 'lambda.min')\n",
    "#     print(np.array(fit_R.rx2('lambda')), predicted_y_R.shape)\n",
    "    \n",
    "    # then let's use default value of matlab\n",
    "    with Timer('Gaussian MATLAB'):\n",
    "        predicted_y_matlab, fit_matlab = glm_matlab.glmnet_cv_best_result(X,y,standardize=False,\n",
    "                            family='gaussian',foldid=foldid, alpha=1.0, debug=True)\n",
    "#     print(fit_matlab['FitInfo']['Lambda'], predicted_y_matlab.shape)\n",
    "#     predicted_y_R, predicted_y_matlab\n",
    "    with Timer('Gaussian MATLAB lambda seq'):\n",
    "        lambda_seq = glm_matlab.glmnet_lambda_sequence(X,y,standardize=False,\n",
    "                            family='gaussian', alpha=1.0)\n",
    "    \n",
    "    # check their lambda\n",
    "    print(np.array(fit_R.rx2('lambda')),\n",
    "          fit_matlab['FitInfo']['Lambda'][0,0].ravel()[::-1])\n",
    "    lam_size = min(fit_matlab['FitInfo']['Lambda'][0,0].ravel().size, lambda_seq.size)\n",
    "    #print(fit_matlab['FitInfo']['Lambda'][0,0].ravel()[::-1][:lam_size]-lambda_seq[::-1][:lam_size])\n",
    "    # it's not equal, because in glmfitting, total weight is multiplied then divided.\n",
    "    assert np.allclose(fit_matlab['FitInfo']['Lambda'][0,0].ravel()[::-1][:lam_size],\n",
    "                          lambda_seq[::-1][:lam_size])\n",
    "    \n",
    "    # check their deviance\n",
    "    print(np.array(fit_R.rx2('cvm')),\n",
    "          fit_matlab['FitInfo']['Deviance'][0,0].ravel()[::-1]/1000)\n",
    "    \n",
    "    \n",
    "    plt.close()\n",
    "    plt.figure()\n",
    "    plt.scatter(predicted_y_R, predicted_y_matlab)\n",
    "    plt.title(f'{pearsonr(predicted_y_R, predicted_y_matlab)[0]}')\n",
    "    plt.axis('equal')\n",
    "    plt.plot([-1,3],[-1,3])\n",
    "    plt.show()\n",
    "    \n",
    "    \n",
    "    plt.close()\n",
    "    plt.figure()\n",
    "    plt.scatter(y, predicted_y_matlab)\n",
    "    plt.title(f'{pearsonr(y.ravel(), predicted_y_matlab)[0]}')\n",
    "    plt.axis('equal')\n",
    "    plt.plot([0,3],[0,3])\n",
    "    plt.show()\n",
    "    return predicted_y_R, predicted_y_matlab"
   ]
  },
  {
   "cell_type": "code",
   "execution_count": 7,
   "metadata": {
    "scrolled": false
   },
   "outputs": [
    {
     "name": "stdout",
     "output_type": "stream",
     "text": [
      "[Gaussian R] Elapsed: 0.8467562198638916\n",
      "[Gaussian MATLAB] Elapsed: 10.790034055709839\n",
      "[Gaussian MATLAB lambda seq] Elapsed: 9.88962197303772\n",
      "[ 0.25636076  0.23358638  0.21283521  0.19392752  0.17669953  0.16100203\n",
      "  0.14669905  0.13366672  0.12179213  0.11097246  0.10111397  0.09213128\n",
      "  0.08394659  0.07648901  0.06969394  0.06350252  0.05786113  0.05272091\n",
      "  0.04803733  0.04376982  0.03988143  0.03633848  0.03311027  0.03016884\n",
      "  0.02748872  0.0250467   0.02282162  0.02079421  0.01894691  0.01726372\n",
      "  0.01573006  0.01433264  0.01305937  0.01189921  0.01084212  0.00987894\n",
      "  0.00900132  0.00820167  0.00747305  0.00680917  0.00620426  0.00565309\n",
      "  0.00515089  0.00469329  0.00427636  0.00389646  0.00355031  0.00323491\n",
      "  0.00294753  0.00268568  0.00244709  0.0022297   0.00203162  0.00185113\n",
      "  0.00168668  0.00153684] [  2.56360765e-01   2.33586381e-01   2.12835211e-01   1.93927517e-01\n",
      "   1.76699531e-01   1.61002032e-01   1.46699055e-01   1.33666715e-01\n",
      "   1.21792133e-01   1.10972455e-01   1.01113968e-01   9.21312819e-02\n",
      "   8.39465927e-02   7.64890088e-02   6.96939361e-02   6.35025189e-02\n",
      "   5.78611301e-02   5.27209068e-02   4.80373267e-02   4.37698230e-02\n",
      "   3.98814326e-02   3.63384760e-02   3.31102660e-02   3.01688412e-02\n",
      "   2.74887245e-02   2.50467020e-02   2.28216220e-02   2.07942120e-02\n",
      "   1.89469115e-02   1.72637201e-02   1.57300588e-02   1.43326437e-02\n",
      "   1.30593712e-02   1.18992126e-02   1.08421194e-02   9.87893537e-03\n",
      "   9.00131798e-03   8.20166570e-03   7.47305232e-03   6.80916695e-03\n",
      "   6.20425933e-03   5.65309003e-03   5.15088509e-03   4.69329466e-03\n",
      "   4.27635529e-03   3.89645568e-03   3.55030529e-03   3.23490596e-03\n",
      "   2.94752583e-03   2.68567576e-03   2.44708772e-03   2.22969519e-03\n",
      "   2.03161522e-03   1.85113212e-03   1.68668265e-03   1.53684241e-03\n",
      "   1.40031356e-03   1.27591357e-03   1.16256492e-03   1.05928586e-03\n",
      "   9.65181823e-04   8.79437730e-04   8.01310906e-04   7.30124653e-04\n",
      "   6.65262391e-04   6.06162314e-04   5.52312525e-04   5.03246602e-04\n",
      "   4.58539561e-04   4.17804170e-04   3.80687599e-04   3.46868362e-04\n",
      "   3.16053533e-04   2.87976208e-04   2.62393195e-04   2.39082907e-04\n",
      "   2.17843441e-04   1.98490830e-04   1.80857452e-04   1.64790574e-04\n",
      "   1.50151034e-04   1.36812030e-04   1.24658026e-04   1.13583751e-04\n",
      "   1.03493283e-04   9.42992251e-05   8.59219419e-05   7.82888734e-05\n",
      "   7.13339056e-05   6.49967981e-05   5.92226617e-05   5.39614836e-05\n",
      "   4.91676941e-05   4.47997717e-05   4.08198835e-05   3.71935575e-05\n",
      "   3.38893844e-05   3.08787449e-05   2.81355623e-05   2.56360765e-05]\n",
      "[ 0.14684703  0.13553583  0.12167852  0.10503837  0.09109742  0.07935037\n",
      "  0.06804423  0.0567646   0.04738318  0.0395938   0.03312622  0.0277561\n",
      "  0.02329716  0.01959474  0.01652045  0.01396768  0.01184794  0.01008773\n",
      "  0.00862604  0.00741222  0.00640421  0.0055671   0.00487189  0.0042945\n",
      "  0.00381496  0.00341666  0.00308583  0.00281103  0.00258276  0.00239312\n",
      "  0.00223557  0.00210467  0.00199591  0.00190553  0.00183043  0.001768\n",
      "  0.00171612  0.00167298  0.00163712  0.0016073   0.0015825   0.00156188\n",
      "  0.00154472  0.00153044  0.00151855  0.00150866  0.00150042  0.00149356\n",
      "  0.00148785  0.00148308  0.00147912  0.00147587  0.00147321  0.00147111\n",
      "  0.0014693   0.00146773] [ 0.14684703  0.13583388  0.12182987  0.10503837  0.09109742  0.07952308\n",
      "  0.06806354  0.0567646   0.04738318  0.0395938   0.03312622  0.0277561\n",
      "  0.02329716  0.01959474  0.01652045  0.01396768  0.01184794  0.01008773\n",
      "  0.00862604  0.00741222  0.00640421  0.0055671   0.00487189  0.0042945\n",
      "  0.00381496  0.00341666  0.00308583  0.00281103  0.00258276  0.00239312\n",
      "  0.00223557  0.00210467  0.00199591  0.00190553  0.00183043  0.001768\n",
      "  0.00171612  0.00167298  0.00163712  0.0016073   0.0015825   0.00156188\n",
      "  0.00154472  0.00153044  0.00151855  0.00150866  0.00150042  0.00149356\n",
      "  0.00148785  0.00148308  0.00147911  0.00147587  0.00147321  0.00147111\n",
      "  0.00146934  0.00146773  0.0014664   0.00146515  0.00146402  0.0014629\n",
      "  0.00146197  0.00146121  0.00146058  0.00146006  0.00145953  0.00145908\n",
      "  0.00145869  0.00145837  0.0014581   0.00145787  0.00145768  0.00145752\n",
      "  0.00145738  0.00145726  0.00145716  0.00145708  0.00145701  0.00145695\n",
      "  0.0014569   0.00145685  0.00145681  0.00145678  0.00145675  0.00145673\n",
      "  0.00145671  0.00145669  0.00145667  0.00145666  0.00145665  0.00145664\n",
      "  0.00145663  0.00145662  0.00145661  0.00145661  0.0014566   0.0014566\n",
      "  0.00145659  0.00145659  0.00145659  0.00145658]\n"
     ]
    },
    {
     "data": {
      "image/png": "[encoded data removed]",
      "text/plain": [
       "<matplotlib.figure.Figure at 0x7fa826893ac8>"
      ]
     },
     "metadata": {},
     "output_type": "display_data"
    },
    {
     "data": {
      "image/png": "[encoded data removed]",
      "text/plain": [
       "<matplotlib.figure.Figure at 0x7fa8241706a0>"
      ]
     },
     "metadata": {},
     "output_type": "display_data"
    }
   ],
   "source": [
    "y_R, y_matlab = test_gaussian(X_train_pca, y_linear)"
   ]
  },
  {
   "cell_type": "code",
   "execution_count": 8,
   "metadata": {},
   "outputs": [],
   "source": [
    "# first, do Gaussian.\n",
    "def test_softplus(X, y):\n",
    "    with Timer('Gaussian R'):\n",
    "        fit_R = glm.glmnet_cv(X, y, standardize=False, type_measure='mse',\n",
    "                            family='gaussian',\n",
    "                            foldid=foldid, alpha=1.0, keep=True)\n",
    "        predicted_y_R = glm.glmnet_extract_preval(fit_R, 'lambda.min')\n",
    "#     print(np.array(fit_R.rx2('lambda')), predicted_y_R.shape)\n",
    "    \n",
    "    # then let's use default value of matlab\n",
    "    with Timer('softplus MATLAB'):\n",
    "        predicted_y_matlab, fit_matlab = glm_matlab.glmnet_cv_best_result(X,y,standardize=False,\n",
    "                            family='softplus',foldid=foldid, alpha=1.0, debug=True)\n",
    "#     print(fit_matlab['FitInfo']['Lambda'], predicted_y_matlab.shape)\n",
    "#     predicted_y_R, predicted_y_matlab\n",
    "    with Timer('softplus MATLAB lambda seq'):\n",
    "        lambda_seq = glm_matlab.glmnet_lambda_sequence(X,y,standardize=False,\n",
    "                        family='softplus', alpha=1.0)\n",
    "    \n",
    "    # check their lambda\n",
    "    print(np.array(fit_R.rx2('lambda')),\n",
    "          fit_matlab['FitInfo']['Lambda'][0,0].ravel()[::-1])\n",
    "    lam_size = min(fit_matlab['FitInfo']['Lambda'][0,0].ravel().size, lambda_seq.size)\n",
    "    assert np.allclose(fit_matlab['FitInfo']['Lambda'][0,0].ravel()[::-1][:lam_size],\n",
    "                         lambda_seq[::-1][:lam_size])\n",
    "    # check their deviance\n",
    "    print(np.array(fit_R.rx2('cvm')),\n",
    "          fit_matlab['FitInfo']['Deviance'][0,0].ravel()[::-1]/1000)\n",
    "    \n",
    "    plt.close()\n",
    "    plt.figure()\n",
    "    plt.scatter(predicted_y_R, predicted_y_matlab)\n",
    "    plt.title(f'{pearsonr(predicted_y_R, predicted_y_matlab)[0]}')\n",
    "    plt.axis('equal')\n",
    "    plt.plot([-1,3],[-1,3])\n",
    "    plt.show()\n",
    "    \n",
    "    \n",
    "    plt.close()\n",
    "    plt.figure()\n",
    "    plt.scatter(y, predicted_y_matlab)\n",
    "    plt.title(f'{pearsonr(y.ravel(), predicted_y_matlab)[0]}')\n",
    "    plt.axis('equal')\n",
    "    plt.plot([0,3],[0,3])\n",
    "    plt.show()\n",
    "    return predicted_y_R, predicted_y_matlab"
   ]
  },
  {
   "cell_type": "code",
   "execution_count": 9,
   "metadata": {
    "scrolled": false
   },
   "outputs": [
    {
     "name": "stdout",
     "output_type": "stream",
     "text": [
      "[Gaussian R] Elapsed: 0.7663099765777588\n",
      "[softplus MATLAB] Elapsed: 10.620922803878784\n",
      "[softplus MATLAB lambda seq] Elapsed: 9.412582635879517\n",
      "[ 0.25636076  0.23358638  0.21283521  0.19392752  0.17669953  0.16100203\n",
      "  0.14669905  0.13366672  0.12179213  0.11097246  0.10111397  0.09213128\n",
      "  0.08394659  0.07648901  0.06969394  0.06350252  0.05786113  0.05272091\n",
      "  0.04803733  0.04376982  0.03988143  0.03633848  0.03311027  0.03016884\n",
      "  0.02748872  0.0250467   0.02282162  0.02079421  0.01894691  0.01726372\n",
      "  0.01573006  0.01433264  0.01305937  0.01189921  0.01084212  0.00987894\n",
      "  0.00900132  0.00820167  0.00747305  0.00680917  0.00620426  0.00565309\n",
      "  0.00515089  0.00469329  0.00427636  0.00389646  0.00355031  0.00323491\n",
      "  0.00294753  0.00268568  0.00244709  0.0022297   0.00203162  0.00185113\n",
      "  0.00168668  0.00153684] [ 0.18958874  0.1727462   0.1573999   0.14341693  0.13067616  0.11906725\n",
      "  0.10848965  0.09885173  0.09007001  0.08206844  0.07477771  0.06813466\n",
      "  0.06208176  0.05656659  0.05154137  0.04696258  0.04279055  0.03898916\n",
      "  0.03552547  0.03236948  0.02949387  0.02687371  0.02448633  0.02231103\n",
      "  0.02032898  0.01852301  0.01687748  0.01537813  0.01401198  0.01276719\n",
      "  0.01163299  0.01059955  0.00965791  0.00879993  0.00801817  0.00730586\n",
      "  0.00665682  0.00606545  0.00552661  0.00503564  0.00458829]\n",
      "[ 0.14684703  0.13553583  0.12167852  0.10503837  0.09109742  0.07935037\n",
      "  0.06804423  0.0567646   0.04738318  0.0395938   0.03312622  0.0277561\n",
      "  0.02329716  0.01959474  0.01652045  0.01396768  0.01184794  0.01008773\n",
      "  0.00862604  0.00741222  0.00640421  0.0055671   0.00487189  0.0042945\n",
      "  0.00381496  0.00341666  0.00308583  0.00281103  0.00258276  0.00239312\n",
      "  0.00223557  0.00210467  0.00199591  0.00190553  0.00183043  0.001768\n",
      "  0.00171612  0.00167298  0.00163712  0.0016073   0.0015825   0.00156188\n",
      "  0.00154472  0.00153044  0.00151855  0.00150866  0.00150042  0.00149356\n",
      "  0.00148785  0.00148308  0.00147912  0.00147587  0.00147321  0.00147111\n",
      "  0.0014693   0.00146773] [  1.46699382e-01   1.35646810e-01   1.21013291e-01   1.03924790e-01\n",
      "   8.99080109e-02   7.82973912e-02   6.66030752e-02   5.53953916e-02\n",
      "   4.61126818e-02   3.84076896e-02   3.20021796e-02   2.66709385e-02\n",
      "   2.22302503e-02   1.85293428e-02   1.54438993e-02   1.28710603e-02\n",
      "   1.07254869e-02   8.93623346e-03   7.44422984e-03   6.20023869e-03\n",
      "   5.16319292e-03   4.29881925e-03   3.57850563e-03   2.97836319e-03\n",
      "   2.47844610e-03   2.06210186e-03   1.71542932e-03   1.42682629e-03\n",
      "   1.18661144e-03   9.86708055e-04   8.20380100e-04   6.82011352e-04\n",
      "   5.66919468e-04   4.71202627e-04   3.91609964e-04   3.25433635e-04\n",
      "   2.70418642e-04   2.24687520e-04   1.86631429e-04   1.54991180e-04\n",
      "   1.28763319e-04]\n"
     ]
    },
    {
     "data": {
      "image/png": "[encoded data removed]",
      "text/plain": [
       "<matplotlib.figure.Figure at 0x7fa8240f0048>"
      ]
     },
     "metadata": {},
     "output_type": "display_data"
    },
    {
     "data": {
      "image/png": "[encoded data removed]",
      "text/plain": [
       "<matplotlib.figure.Figure at 0x7fa8240bc588>"
      ]
     },
     "metadata": {},
     "output_type": "display_data"
    }
   ],
   "source": [
    "y_R, y_matlab = test_softplus(X_train_pca, y_linear)"
   ]
  },
  {
   "cell_type": "code",
   "execution_count": 10,
   "metadata": {},
   "outputs": [],
   "source": [
    "# first, do Gaussian.\n",
    "def test_poisson(X, y):\n",
    "    with Timer('poisson R'):\n",
    "        fit_R = glm.glmnet_cv(X, y, standardize=False, type_measure='deviance',\n",
    "                            family='poisson',\n",
    "                            foldid=foldid, alpha=1.0, keep=True)\n",
    "        predicted_y_R = glm.glmnet_extract_preval(fit_R, 'lambda.min')\n",
    "#     print(np.array(fit_R.rx2('lambda')), predicted_y_R.shape)\n",
    "    \n",
    "    # then let's use default value of matlab\n",
    "    with Timer('poisson MATLAB'):\n",
    "        predicted_y_matlab, fit_matlab = glm_matlab.glmnet_cv_best_result(X,y,standardize=False,\n",
    "                            family='poisson',foldid=foldid, alpha=1.0, debug=True)\n",
    "#     print(fit_matlab['FitInfo']['Lambda'], predicted_y_matlab.shape)\n",
    "#     predicted_y_R, predicted_y_matlab\n",
    "    with Timer('poisson MATLAB lambda seq'):\n",
    "        lambda_seq = glm_matlab.glmnet_lambda_sequence(X,y,standardize=False,\n",
    "                        family='poisson', alpha=1.0)\n",
    "    \n",
    "    # check their lambda\n",
    "    print(np.array(fit_R.rx2('lambda')),\n",
    "          fit_matlab['FitInfo']['Lambda'][0,0].ravel()[::-1])\n",
    "    lam_size = min(fit_matlab['FitInfo']['Lambda'][0,0].ravel().size, lambda_seq.size)\n",
    "    assert np.allclose(fit_matlab['FitInfo']['Lambda'][0,0].ravel()[::-1][:lam_size],\n",
    "                         lambda_seq[::-1][:lam_size])\n",
    "    # check their deviance\n",
    "    print(np.array(fit_R.rx2('cvm')),\n",
    "          fit_matlab['FitInfo']['Deviance'][0,0].ravel()[::-1]/1000)\n",
    "    \n",
    "    plt.close()\n",
    "    plt.figure()\n",
    "    plt.scatter(np.exp(predicted_y_R), predicted_y_matlab)\n",
    "    plt.title(f'{pearsonr(np.exp(predicted_y_R), predicted_y_matlab)[0]}')\n",
    "    plt.axis('equal')\n",
    "    plt.plot([-1,3],[-1,3])\n",
    "    plt.show()\n",
    "    \n",
    "    \n",
    "    plt.close()\n",
    "    plt.figure()\n",
    "    plt.scatter(y, predicted_y_matlab)\n",
    "    plt.title(f'{pearsonr(y.ravel(), predicted_y_matlab)[0]}')\n",
    "    plt.axis('equal')\n",
    "    plt.plot([0,3],[0,3])\n",
    "    plt.show()\n",
    "    return predicted_y_R, predicted_y_matlab"
   ]
  },
  {
   "cell_type": "code",
   "execution_count": 11,
   "metadata": {
    "scrolled": false
   },
   "outputs": [
    {
     "name": "stdout",
     "output_type": "stream",
     "text": [
      "[poisson R] Elapsed: 0.2905845642089844\n",
      "[poisson MATLAB] Elapsed: 10.765320062637329\n",
      "[poisson MATLAB lambda seq] Elapsed: 10.231109380722046\n",
      "[ 0.25636076  0.23358638  0.21283521  0.19392752  0.17669953  0.16100203\n",
      "  0.14669905  0.13366672  0.12179213  0.11097246  0.10111397  0.09213128\n",
      "  0.08394659  0.07648901  0.06969394  0.06350252  0.05786113  0.05272091\n",
      "  0.04803733  0.04376982  0.03988143  0.03633848  0.03311027  0.03016884\n",
      "  0.02748872  0.0250467   0.02282162  0.02079421  0.01894691  0.01726372\n",
      "  0.01573006  0.01433264  0.01305937  0.01189921  0.01084212  0.00987894\n",
      "  0.00900132  0.00820167  0.00747305  0.00680917  0.00620426  0.00565309\n",
      "  0.00515089  0.00469329  0.00427636  0.00389646  0.00355031  0.00323491\n",
      "  0.00294753  0.00268568  0.00244709  0.0022297   0.00203162] [  2.56360765e-01   2.33586381e-01   2.12835211e-01   1.93927517e-01\n",
      "   1.76699531e-01   1.61002032e-01   1.46699055e-01   1.33666715e-01\n",
      "   1.21792133e-01   1.10972455e-01   1.01113968e-01   9.21312819e-02\n",
      "   8.39465927e-02   7.64890088e-02   6.96939361e-02   6.35025189e-02\n",
      "   5.78611301e-02   5.27209068e-02   4.80373267e-02   4.37698230e-02\n",
      "   3.98814326e-02   3.63384760e-02   3.31102660e-02   3.01688412e-02\n",
      "   2.74887245e-02   2.50467020e-02   2.28216220e-02   2.07942120e-02\n",
      "   1.89469115e-02   1.72637201e-02   1.57300588e-02   1.43326437e-02\n",
      "   1.30593712e-02   1.18992126e-02   1.08421194e-02   9.87893537e-03\n",
      "   9.00131798e-03   8.20166570e-03   7.47305232e-03   6.80916695e-03\n",
      "   6.20425933e-03   5.65309003e-03   5.15088509e-03   4.69329466e-03\n",
      "   4.27635529e-03   3.89645568e-03   3.55030529e-03   3.23490596e-03\n",
      "   2.94752583e-03   2.68567576e-03   2.44708772e-03   2.22969519e-03\n",
      "   2.03161522e-03   1.85113212e-03   1.68668265e-03   1.53684241e-03\n",
      "   1.40031356e-03   1.27591357e-03   1.16256492e-03   1.05928586e-03\n",
      "   9.65181823e-04   8.79437730e-04   8.01310906e-04   7.30124653e-04\n",
      "   6.65262391e-04   6.06162314e-04   5.52312525e-04   5.03246602e-04\n",
      "   4.58539561e-04   4.17804170e-04   3.80687599e-04   3.46868362e-04\n",
      "   3.16053533e-04   2.87976208e-04   2.62393195e-04   2.39082907e-04\n",
      "   2.17843441e-04   1.98490830e-04   1.80857452e-04   1.64790574e-04\n",
      "   1.50151034e-04   1.36812030e-04   1.24658026e-04   1.13583751e-04\n",
      "   1.03493283e-04   9.42992251e-05   8.59219419e-05   7.82888734e-05\n",
      "   7.13339056e-05   6.49967981e-05   5.92226617e-05   5.39614836e-05\n",
      "   4.91676941e-05   4.47997717e-05   4.08198835e-05   3.71935575e-05\n",
      "   3.38893844e-05   3.08787449e-05   2.81355623e-05   2.56360765e-05]\n",
      "[ 0.10759726  0.09919254  0.08891076  0.07658838  0.06629328  0.05765129\n",
      "  0.04940842  0.04114395  0.03429021  0.0286142   0.02391303  0.02001981\n",
      "  0.01679409  0.01411992  0.01190399  0.01006766  0.00854585  0.00728466\n",
      "  0.00623944  0.00537321  0.00465535  0.00406045  0.00356749  0.00315903\n",
      "  0.00282061  0.00254026  0.00230803  0.0021157   0.00195644  0.00182459\n",
      "  0.00171546  0.00162515  0.00155044  0.00148866  0.00143758  0.00139536\n",
      "  0.0013605   0.00133171  0.00130795  0.00128836  0.00127222  0.00125892\n",
      "  0.00124798  0.00123899  0.00123161  0.00122555  0.00122059  0.00121649\n",
      "  0.00121296  0.00120984  0.00120704  0.00120476  0.0012026 ] [ 0.10759813  0.09941048  0.08902147  0.07658669  0.06629204  0.05776712\n",
      "  0.04942003  0.04114301  0.03428951  0.02861367  0.02391241  0.02001784\n",
      "  0.01679117  0.01411761  0.01190217  0.01006624  0.00854475  0.0072838\n",
      "  0.00623878  0.0053727   0.00465496  0.00406015  0.00356726  0.00315885\n",
      "  0.00282048  0.00254015  0.00230795  0.00211564  0.0019564   0.00182456\n",
      "  0.00171543  0.00162513  0.00155043  0.00148864  0.00143757  0.00139536\n",
      "  0.00136049  0.0013317   0.00130795  0.00128836  0.00127222  0.00125892\n",
      "  0.00124798  0.00123899  0.00123161  0.00122555  0.00122059  0.0012165\n",
      "  0.00121299  0.00120984  0.00120704  0.00120476  0.0012026   0.00120084\n",
      "  0.0011994   0.00119831  0.00119747  0.00119684  0.00119636  0.00119599\n",
      "  0.00119572  0.00119552  0.00119535  0.00119524  0.00119515  0.00119507\n",
      "  0.00119503  0.001195    0.001195    0.00119501  0.00119502  0.00119505\n",
      "  0.00119508  0.00119511  0.00119515  0.00119518  0.00119522  0.00119526\n",
      "  0.00119529  0.00119533  0.00119536  0.00119539  0.00119542  0.00119545\n",
      "  0.00119547  0.0011955   0.00119552  0.00119553  0.00119554  0.00119555\n",
      "  0.00119556  0.00119557  0.00119558  0.00119559  0.0011956   0.0011956\n",
      "  0.00119561  0.00119562  0.00119562  0.00119563]\n"
     ]
    },
    {
     "data": {
      "image/png": "[encoded data removed]",
      "text/plain": [
       "<matplotlib.figure.Figure at 0x7fa824085eb8>"
      ]
     },
     "metadata": {},
     "output_type": "display_data"
    },
    {
     "data": {
      "image/png": "[encoded data removed]",
      "text/plain": [
       "<matplotlib.figure.Figure at 0x7fa8240c0cc0>"
      ]
     },
     "metadata": {},
     "output_type": "display_data"
    }
   ],
   "source": [
    "y_R, y_matlab = test_poisson(X_train_pca, y_linear)"
   ]
  }
 ],
 "metadata": {
  "kernelspec": {
   "display_name": "Python 3",
   "language": "python",
   "name": "python3"
  },
  "language_info": {
   "codemirror_mode": {
    "name": "ipython",
    "version": 3
   },
   "file_extension": ".py",
   "mimetype": "text/x-python",
   "name": "python",
   "nbconvert_exporter": "python",
   "pygments_lexer": "ipython3",
   "version": "3.6.4"
  }
 },
 "nbformat": 4,
 "nbformat_minor": 2
}

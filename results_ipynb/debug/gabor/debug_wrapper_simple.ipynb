{
 "cells": [
  {
   "cell_type": "markdown",
   "metadata": {},
   "source": [
    "double check against <https://github.com/leelabcnbc/tang_jcompneuro/blob/master/results_ipynb/debug/gabor_debug/gabor_fitting_debug_simple_one_neuron.ipynb>"
   ]
  },
  {
   "cell_type": "code",
   "execution_count": 1,
   "metadata": {},
   "outputs": [],
   "source": [
    "from tang_jcompneuro.io import load_split_dataset"
   ]
  },
  {
   "cell_type": "code",
   "execution_count": 2,
   "metadata": {},
   "outputs": [],
   "source": [
    "# get trainer.\n",
    "from tang_jcompneuro.model_fitting_gabor import get_trainer"
   ]
  },
  {
   "cell_type": "code",
   "execution_count": 3,
   "metadata": {
    "scrolled": true
   },
   "outputs": [
    {
     "name": "stdout",
     "output_type": "stream",
     "text": [
      "-0.85 0.983125 6.10622663544e-19\n",
      "(7600,) -1.42108547152e-16 1.42108547152e-16\n",
      "-0.84375 0.983125 2.38405786341e-19\n",
      "(1900,) -1.42108547152e-16 1.06581410364e-16\n"
     ]
    }
   ],
   "source": [
    "datasets = load_split_dataset('MkA_Shape', 'all', False, 33, subtract_mean=True, last_val=True)\n",
    "X = datasets[0]\n",
    "print(X.min(), X.max(), X.mean())\n",
    "X_mean = X.reshape(len(X), -1).mean(axis=1)\n",
    "print(X_mean.shape, X_mean.min(), X_mean.max())\n",
    "X = datasets[2]\n",
    "print(X.min(), X.max(), X.mean())\n",
    "X_mean = X.reshape(len(X), -1).mean(axis=1)\n",
    "print(X_mean.shape, X_mean.min(), X_mean.max())"
   ]
  },
  {
   "cell_type": "code",
   "execution_count": 4,
   "metadata": {},
   "outputs": [
    {
     "name": "stdout",
     "output_type": "stream",
     "text": [
      "simple None\n",
      "bad index 0/384\n"
     ]
    }
   ],
   "source": [
    "trainer = get_trainer('simple')\n",
    "results = trainer(datasets)"
   ]
  },
  {
   "cell_type": "code",
   "execution_count": 5,
   "metadata": {},
   "outputs": [
    {
     "data": {
      "text/plain": [
       "{'attrs': {'corr_train': 0.57938111},\n",
       " 'corr': 0.64788389,\n",
       " 'model': functools.partial(<function save_model_to_hdf5_group at 0x2b8fd49bd510>, saved_params={'loc': array([[ 0.06150125],\n",
       "        [-0.1337308 ]], dtype=float32), 'sigma': array([[ 0.20994249],\n",
       "        [ 0.08868654]], dtype=float32), 'orientation': array([ 0.9331919], dtype=float32), 'frequency': array([ 1.17384231], dtype=float32), 'output_a': array([ 0.04350113], dtype=float32), 'output_b': 0.17815343, 'phase': array([ 4.66572618], dtype=float32), 'bias': array([ 0.10475681], dtype=float32)}),\n",
       " 'y_test_hat': array([[ 0.17815343,  0.17815343,  0.17815343, ...,  0.36278272,\n",
       "          0.44004801,  0.17815343]], dtype=float32)}"
      ]
     },
     "execution_count": 5,
     "metadata": {},
     "output_type": "execute_result"
    }
   ],
   "source": [
    "# pretty match what I got before last cell in previous notebook.\n",
    "# difference might be due to CUDA version, PyTorch internal difference, etc.\n",
    "results"
   ]
  },
  {
   "cell_type": "code",
   "execution_count": 6,
   "metadata": {},
   "outputs": [],
   "source": [
    "assert callable(results['model'])"
   ]
  },
  {
   "cell_type": "code",
   "execution_count": 7,
   "metadata": {},
   "outputs": [
    {
     "name": "stdout",
     "output_type": "stream",
     "text": [
      "{'bias': array([ 0.10475681], dtype=float32), 'frequency': array([ 1.17384231], dtype=float32), 'loc': array([[ 0.06150125],\n",
      "       [-0.1337308 ]], dtype=float32), 'orientation': array([ 0.9331919], dtype=float32), 'output_a': array([ 0.04350113], dtype=float32), 'output_b': 0.17815343, 'phase': array([ 4.66572618], dtype=float32), 'sigma': array([[ 0.20994249],\n",
      "       [ 0.08868654]], dtype=float32)}\n"
     ]
    }
   ],
   "source": [
    "# see if we can save models.\n",
    "import h5py\n",
    "from tempfile import NamedTemporaryFile\n",
    "from tang_jcompneuro.gabor import load_model_from_hdf5_group\n",
    "\n",
    "with NamedTemporaryFile() as f:\n",
    "    with h5py.File(f.name) as f_tmp:\n",
    "        results['model'](f_tmp)\n",
    "        # probably I should not go out of this second with, as that may close f.\n",
    "        # to avoid all these issues, best way would be create a temp dir, rather than a temp file.\n",
    "        # but whatever.\n",
    "        best_params_complex_OUT = load_model_from_hdf5_group(f_tmp)\n",
    "print(best_params_complex_OUT)"
   ]
  }
 ],
 "metadata": {
  "kernelspec": {
   "display_name": "Python 3",
   "language": "python",
   "name": "python3"
  },
  "language_info": {
   "codemirror_mode": {
    "name": "ipython",
    "version": 3
   },
   "file_extension": ".py",
   "mimetype": "text/x-python",
   "name": "python",
   "nbconvert_exporter": "python",
   "pygments_lexer": "ipython3",
   "version": "3.6.4"
  }
 },
 "nbformat": 4,
 "nbformat_minor": 2
}

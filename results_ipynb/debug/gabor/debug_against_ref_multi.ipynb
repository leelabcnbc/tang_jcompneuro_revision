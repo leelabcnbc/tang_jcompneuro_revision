{
 "cells": [
  {
   "cell_type": "markdown",
   "metadata": {},
   "source": [
    "double check against <https://github.com/leelabcnbc/tang_jcompneuro/blob/master/results_ipynb/debug/gabor_debug/gabor_fitting_debug_multi_one_neuron.ipynb>"
   ]
  },
  {
   "cell_type": "code",
   "execution_count": 1,
   "metadata": {},
   "outputs": [],
   "source": [
    "from tang_jcompneuro.io import load_image_dataset, load_neural_dataset"
   ]
  },
  {
   "cell_type": "code",
   "execution_count": 2,
   "metadata": {},
   "outputs": [
    {
     "name": "stdout",
     "output_type": "stream",
     "text": [
      "-0.85 0.983125 -7.86739094924e-19\n",
      "(9500,) -1.7763568394e-16 2.48689957516e-16\n"
     ]
    }
   ],
   "source": [
    "neuron_to_work_on = 33\n",
    "y = load_neural_dataset('MkA_Shape')[:, neuron_to_work_on:neuron_to_work_on+1]\n",
    "X = load_image_dataset('Shape_9500', trans=True, scale=0.5, subtract_mean=True, legacy_rescale=True)\n",
    "print(X.min(), X.max(), X.mean())\n",
    "X_mean = X.reshape(len(X), -1).mean(axis=1)\n",
    "print(X_mean.shape, X_mean.min(), X_mean.max())"
   ]
  },
  {
   "cell_type": "code",
   "execution_count": 3,
   "metadata": {},
   "outputs": [],
   "source": [
    "datasets = (X, y, None, None, None, None)"
   ]
  },
  {
   "cell_type": "code",
   "execution_count": 4,
   "metadata": {},
   "outputs": [],
   "source": [
    "# get trainer.\n",
    "from tang_jcompneuro.model_fitting_gabor import get_trainer"
   ]
  },
  {
   "cell_type": "code",
   "execution_count": 5,
   "metadata": {},
   "outputs": [
    {
     "name": "stdout",
     "output_type": "stream",
     "text": [
      "multi {'num_simple': 1, 'num_complex': 1}\n",
      "bad index 0/128\n",
      "bad index 0/128\n"
     ]
    }
   ],
   "source": [
    "trainer = get_trainer('multi,1,1')\n",
    "results = trainer(datasets)"
   ]
  },
  {
   "cell_type": "code",
   "execution_count": 6,
   "metadata": {},
   "outputs": [
    {
     "data": {
      "text/plain": [
       "{'attrs': {'corr_train': 0.6240257},\n",
       " 'corr': 0.62402576,\n",
       " 'model': functools.partial(<function save_model_to_hdf5_group at 0x2b39dc138598>, saved_params={'output_b': -0.01599367, 'complex': {'loc': array([[ 0.04148952],\n",
       "        [-0.21626778]], dtype=float32), 'sigma': array([[ 0.19938755],\n",
       "        [ 0.19072005]], dtype=float32), 'orientation': array([ 0.82106137], dtype=float32), 'frequency': array([ 2.60349417], dtype=float32), 'output_a': array([ 0.0047269], dtype=float32)}, 'simple': {'loc': array([[ 0.07270939],\n",
       "        [-0.10084875]], dtype=float32), 'sigma': array([[ 0.19451664],\n",
       "        [ 0.11972045]], dtype=float32), 'orientation': array([ 0.97761887], dtype=float32), 'frequency': array([ 1.68466985], dtype=float32), 'output_a': array([ 0.00950284], dtype=float32), 'phase': array([ 4.57942057], dtype=float32), 'bias': array([ 0.82199126], dtype=float32)}}),\n",
       " 'y_test_hat': array([[-0.01516442, -0.01516442, -0.01516442, ..., -0.00878793,\n",
       "          0.23867159, -0.00480555]], dtype=float32)}"
      ]
     },
     "execution_count": 6,
     "metadata": {},
     "output_type": "execute_result"
    }
   ],
   "source": [
    "# pretty match what I got before last cell in previous notebook.\n",
    "# difference might be due to CUDA version, PyTorch internal difference, etc.\n",
    "results"
   ]
  },
  {
   "cell_type": "code",
   "execution_count": 7,
   "metadata": {},
   "outputs": [],
   "source": [
    "assert callable(results['model'])"
   ]
  },
  {
   "cell_type": "code",
   "execution_count": 8,
   "metadata": {},
   "outputs": [
    {
     "name": "stdout",
     "output_type": "stream",
     "text": [
      "{'complex': {'frequency': array([ 2.60349417], dtype=float32), 'loc': array([[ 0.04148952],\n",
      "       [-0.21626778]], dtype=float32), 'orientation': array([ 0.82106137], dtype=float32), 'output_a': array([ 0.0047269], dtype=float32), 'sigma': array([[ 0.19938755],\n",
      "       [ 0.19072005]], dtype=float32)}, 'output_b': -0.01599367, 'simple': {'bias': array([ 0.82199126], dtype=float32), 'frequency': array([ 1.68466985], dtype=float32), 'loc': array([[ 0.07270939],\n",
      "       [-0.10084875]], dtype=float32), 'orientation': array([ 0.97761887], dtype=float32), 'output_a': array([ 0.00950284], dtype=float32), 'phase': array([ 4.57942057], dtype=float32), 'sigma': array([[ 0.19451664],\n",
      "       [ 0.11972045]], dtype=float32)}}\n"
     ]
    }
   ],
   "source": [
    "# see if we can save models.\n",
    "import h5py\n",
    "from tempfile import NamedTemporaryFile\n",
    "from tang_jcompneuro.gabor import load_model_from_hdf5_group\n",
    "\n",
    "with NamedTemporaryFile() as f:\n",
    "    with h5py.File(f.name) as f_tmp:\n",
    "        results['model'](f_tmp)\n",
    "        # probably I should not go out of this second with, as that may close f.\n",
    "        # to avoid all these issues, best way would be create a temp dir, rather than a temp file.\n",
    "        # but whatever.\n",
    "        best_params_complex_OUT = load_model_from_hdf5_group(f_tmp)\n",
    "print(best_params_complex_OUT)"
   ]
  }
 ],
 "metadata": {
  "kernelspec": {
   "display_name": "Python 3",
   "language": "python",
   "name": "python3"
  },
  "language_info": {
   "codemirror_mode": {
    "name": "ipython",
    "version": 3
   },
   "file_extension": ".py",
   "mimetype": "text/x-python",
   "name": "python",
   "nbconvert_exporter": "python",
   "pygments_lexer": "ipython3",
   "version": "3.6.4"
  }
 },
 "nbformat": 4,
 "nbformat_minor": 2
}

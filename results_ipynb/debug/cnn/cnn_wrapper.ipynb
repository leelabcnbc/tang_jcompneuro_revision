{
 "cells": [
  {
   "cell_type": "code",
   "execution_count": 1,
   "metadata": {},
   "outputs": [],
   "source": [
    "import numpy as np"
   ]
  },
  {
   "cell_type": "code",
   "execution_count": 2,
   "metadata": {},
   "outputs": [],
   "source": [
    "from tang_jcompneuro.io import load_split_dataset"
   ]
  },
  {
   "cell_type": "code",
   "execution_count": 3,
   "metadata": {},
   "outputs": [],
   "source": [
    "from tang_jcompneuro.model_fitting_cnn import get_trainer"
   ]
  },
  {
   "cell_type": "code",
   "execution_count": 4,
   "metadata": {},
   "outputs": [],
   "source": [
    "datasets = load_split_dataset('MkA_Shape', 'all', True, 553)"
   ]
  },
  {
   "cell_type": "code",
   "execution_count": 5,
   "metadata": {},
   "outputs": [],
   "source": [
    "trainer = get_trainer('b.12')"
   ]
  },
  {
   "cell_type": "code",
   "execution_count": 6,
   "metadata": {
    "scrolled": true
   },
   "outputs": [
    {
     "name": "stdout",
     "output_type": "stream",
     "text": [
      "========starting phase 1/1==========\n",
      "early stopping after epoch 4000\n",
      "========end phase 1/1==========\n",
      "1e-3L2_1e-3L2_sgd_mse 0.718435 12.087912797927856 sec\n",
      "========starting phase 1/1==========\n",
      "early stopping after epoch 3400\n",
      "========end phase 1/1==========\n",
      "1e-3L2_1e-3L2_adam002_mse 0.685036 10.242006063461304 sec\n",
      "========starting phase 1/1==========\n",
      "early stopping after epoch 4300\n",
      "========end phase 1/1==========\n",
      "1e-4L2_1e-3L2_sgd_mse 0.709971 12.094615697860718 sec\n",
      "========starting phase 1/1==========\n",
      "early stopping after epoch 3800\n",
      "========end phase 1/1==========\n",
      "1e-4L2_1e-3L2_adam002_mse 0.66495 10.999557733535767 sec\n",
      "best config 1e-3L2_1e-3L2_sgd_mse with val 0.718435 and test 0.668899\n"
     ]
    }
   ],
   "source": [
    "results = trainer(datasets)"
   ]
  },
  {
   "cell_type": "code",
   "execution_count": 7,
   "metadata": {},
   "outputs": [
    {
     "name": "stdout",
     "output_type": "stream",
     "text": [
      "y_test_hat [[ 0.2033187 ]\n",
      " [ 0.18664643]\n",
      " [ 0.17300117]\n",
      " ..., \n",
      " [ 0.17785211]\n",
      " [ 0.26618612]\n",
      " [ 0.18361613]]\n",
      "(1900, 1) float32\n",
      "corr 0.668899\n",
      "attrs {'best_val': 0.71843487, 'best_config': '1e-3L2_1e-3L2_sgd_mse'}\n"
     ]
    }
   ],
   "source": [
    "for x, y in results.items():\n",
    "    print(x, y)\n",
    "    if isinstance(y, np.ndarray):\n",
    "        print(y.shape, y.dtype)"
   ]
  }
 ],
 "metadata": {
  "kernelspec": {
   "display_name": "Python 3",
   "language": "python",
   "name": "python3"
  },
  "language_info": {
   "codemirror_mode": {
    "name": "ipython",
    "version": 3
   },
   "file_extension": ".py",
   "mimetype": "text/x-python",
   "name": "python",
   "nbconvert_exporter": "python",
   "pygments_lexer": "ipython3",
   "version": "3.6.4"
  }
 },
 "nbformat": 4,
 "nbformat_minor": 2
}

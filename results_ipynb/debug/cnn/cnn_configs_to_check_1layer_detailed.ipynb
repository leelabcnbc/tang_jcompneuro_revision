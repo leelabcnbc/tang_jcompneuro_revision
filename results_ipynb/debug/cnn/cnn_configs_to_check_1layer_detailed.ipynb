{
 "cells": [
  {
   "cell_type": "code",
   "execution_count": 1,
   "metadata": {},
   "outputs": [],
   "source": [
    "from tang_jcompneuro.model_fitting_cnn import models_to_train, models_to_train_detailed_keys\n",
    "from tang_jcompneuro.cnn import CNN\n",
    "from tang_jcompneuro.model_fitting_cnn import init_config_to_use_fn"
   ]
  },
  {
   "cell_type": "code",
   "execution_count": 2,
   "metadata": {
    "scrolled": false
   },
   "outputs": [
    {
     "name": "stdout",
     "output_type": "stream",
     "text": [
      "b.9\n",
      "{'conv': [{'kernel_size': 9, 'out_channel': 9, 'stride': 1, 'bn': False, 'padding': 0, 'pool': {'kernel_size': 6, 'stride': 2, 'padding': 0, 'pool_type': 'max'}}], 'fc': {'factored': False, 'dropout': None}, 'act_fn': 'relu', 'linear_output': True}\n",
      "CNN(\n",
      "  (conv): Sequential(\n",
      "    (conv0): Conv2d(1, 9, kernel_size=(9, 9), stride=(1, 1))\n",
      "    (act0): ReLU()\n",
      "    (pool0): MaxPool2d(kernel_size=(6, 6), stride=(2, 2), dilation=(1, 1), ceil_mode=False)\n",
      "  )\n",
      "  (fc): Sequential(\n",
      "    (fc): Linear(in_features=144, out_features=1, bias=True)\n",
      "  )\n",
      ")\n",
      "b.9_linear\n",
      "{'conv': [{'kernel_size': 9, 'out_channel': 9, 'stride': 1, 'bn': False, 'padding': 0, 'pool': {'kernel_size': 6, 'stride': 2, 'padding': 0, 'pool_type': 'max'}}], 'fc': {'factored': False, 'dropout': None}, 'act_fn': None, 'linear_output': True}\n",
      "CNN(\n",
      "  (conv): Sequential(\n",
      "    (conv0): Conv2d(1, 9, kernel_size=(9, 9), stride=(1, 1))\n",
      "    (pool0): MaxPool2d(kernel_size=(6, 6), stride=(2, 2), dilation=(1, 1), ceil_mode=False)\n",
      "  )\n",
      "  (fc): Sequential(\n",
      "    (fc): Linear(in_features=144, out_features=1, bias=True)\n",
      "  )\n",
      ")\n",
      "b.9_halfsq\n",
      "{'conv': [{'kernel_size': 9, 'out_channel': 9, 'stride': 1, 'bn': False, 'padding': 0, 'pool': {'kernel_size': 6, 'stride': 2, 'padding': 0, 'pool_type': 'max'}}], 'fc': {'factored': False, 'dropout': None}, 'act_fn': 'halfsq', 'linear_output': True}\n",
      "CNN(\n",
      "  (conv): Sequential(\n",
      "    (conv0): Conv2d(1, 9, kernel_size=(9, 9), stride=(1, 1))\n",
      "    (act0): HalfSquare(\n",
      "    )\n",
      "    (pool0): MaxPool2d(kernel_size=(6, 6), stride=(2, 2), dilation=(1, 1), ceil_mode=False)\n",
      "  )\n",
      "  (fc): Sequential(\n",
      "    (fc): Linear(in_features=144, out_features=1, bias=True)\n",
      "  )\n",
      ")\n",
      "b.9_sq\n",
      "{'conv': [{'kernel_size': 9, 'out_channel': 9, 'stride': 1, 'bn': False, 'padding': 0, 'pool': {'kernel_size': 6, 'stride': 2, 'padding': 0, 'pool_type': 'max'}}], 'fc': {'factored': False, 'dropout': None}, 'act_fn': 'sq', 'linear_output': True}\n",
      "CNN(\n",
      "  (conv): Sequential(\n",
      "    (conv0): Conv2d(1, 9, kernel_size=(9, 9), stride=(1, 1))\n",
      "    (act0): Square(\n",
      "    )\n",
      "    (pool0): MaxPool2d(kernel_size=(6, 6), stride=(2, 2), dilation=(1, 1), ceil_mode=False)\n",
      "  )\n",
      "  (fc): Sequential(\n",
      "    (fc): Linear(in_features=144, out_features=1, bias=True)\n",
      "  )\n",
      ")\n",
      "b.9_avg\n",
      "{'conv': [{'kernel_size': 9, 'out_channel': 9, 'stride': 1, 'bn': False, 'padding': 0, 'pool': {'kernel_size': 6, 'stride': 2, 'padding': 0, 'pool_type': 'avg'}}], 'fc': {'factored': False, 'dropout': None}, 'act_fn': 'relu', 'linear_output': True}\n",
      "CNN(\n",
      "  (conv): Sequential(\n",
      "    (conv0): Conv2d(1, 9, kernel_size=(9, 9), stride=(1, 1))\n",
      "    (act0): ReLU()\n",
      "    (pool0): AvgPool2d(kernel_size=6, stride=2, padding=0, ceil_mode=False, count_include_pad=True)\n",
      "  )\n",
      "  (fc): Sequential(\n",
      "    (fc): Linear(in_features=144, out_features=1, bias=True)\n",
      "  )\n",
      ")\n",
      "b.9_avg_linear\n",
      "{'conv': [{'kernel_size': 9, 'out_channel': 9, 'stride': 1, 'bn': False, 'padding': 0, 'pool': {'kernel_size': 6, 'stride': 2, 'padding': 0, 'pool_type': 'avg'}}], 'fc': {'factored': False, 'dropout': None}, 'act_fn': None, 'linear_output': True}\n",
      "CNN(\n",
      "  (conv): Sequential(\n",
      "    (conv0): Conv2d(1, 9, kernel_size=(9, 9), stride=(1, 1))\n",
      "    (pool0): AvgPool2d(kernel_size=6, stride=2, padding=0, ceil_mode=False, count_include_pad=True)\n",
      "  )\n",
      "  (fc): Sequential(\n",
      "    (fc): Linear(in_features=144, out_features=1, bias=True)\n",
      "  )\n",
      ")\n",
      "b.9_avg_halfsq\n",
      "{'conv': [{'kernel_size': 9, 'out_channel': 9, 'stride': 1, 'bn': False, 'padding': 0, 'pool': {'kernel_size': 6, 'stride': 2, 'padding': 0, 'pool_type': 'avg'}}], 'fc': {'factored': False, 'dropout': None}, 'act_fn': 'halfsq', 'linear_output': True}\n",
      "CNN(\n",
      "  (conv): Sequential(\n",
      "    (conv0): Conv2d(1, 9, kernel_size=(9, 9), stride=(1, 1))\n",
      "    (act0): HalfSquare(\n",
      "    )\n",
      "    (pool0): AvgPool2d(kernel_size=6, stride=2, padding=0, ceil_mode=False, count_include_pad=True)\n",
      "  )\n",
      "  (fc): Sequential(\n",
      "    (fc): Linear(in_features=144, out_features=1, bias=True)\n",
      "  )\n",
      ")\n",
      "b.9_avg_sq\n",
      "{'conv': [{'kernel_size': 9, 'out_channel': 9, 'stride': 1, 'bn': False, 'padding': 0, 'pool': {'kernel_size': 6, 'stride': 2, 'padding': 0, 'pool_type': 'avg'}}], 'fc': {'factored': False, 'dropout': None}, 'act_fn': 'sq', 'linear_output': True}\n",
      "CNN(\n",
      "  (conv): Sequential(\n",
      "    (conv0): Conv2d(1, 9, kernel_size=(9, 9), stride=(1, 1))\n",
      "    (act0): Square(\n",
      "    )\n",
      "    (pool0): AvgPool2d(kernel_size=6, stride=2, padding=0, ceil_mode=False, count_include_pad=True)\n",
      "  )\n",
      "  (fc): Sequential(\n",
      "    (fc): Linear(in_features=144, out_features=1, bias=True)\n",
      "  )\n",
      ")\n"
     ]
    }
   ],
   "source": [
    "for x, y in models_to_train.items():\n",
    "    if x.startswith('b.9'):\n",
    "        assert x in models_to_train_detailed_keys\n",
    "        print(x)\n",
    "        model = CNN(y, init_config_to_use_fn(), seed=0)\n",
    "        print(y)\n",
    "        print(model)"
   ]
  },
  {
   "cell_type": "code",
   "execution_count": 3,
   "metadata": {},
   "outputs": [
    {
     "name": "stdout",
     "output_type": "stream",
     "text": [
      "['b.9', 'b.9_linear', 'b.9_halfsq', 'b.9_sq', 'b.9_avg', 'b.9_avg_linear', 'b.9_avg_halfsq', 'b.9_avg_sq']\n"
     ]
    }
   ],
   "source": [
    "print(models_to_train_detailed_keys)"
   ]
  }
 ],
 "metadata": {
  "kernelspec": {
   "display_name": "Python 3",
   "language": "python",
   "name": "python3"
  },
  "language_info": {
   "codemirror_mode": {
    "name": "ipython",
    "version": 3
   },
   "file_extension": ".py",
   "mimetype": "text/x-python",
   "name": "python",
   "nbconvert_exporter": "python",
   "pygments_lexer": "ipython3",
   "version": "3.6.4"
  }
 },
 "nbformat": 4,
 "nbformat_minor": 2
}

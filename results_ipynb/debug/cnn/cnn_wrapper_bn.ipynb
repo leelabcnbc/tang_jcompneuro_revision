{
 "cells": [
  {
   "cell_type": "markdown",
   "metadata": {},
   "source": [
    "basically, BN doesn't work with SGD, as weights blow up quickly.\n",
    "(set catch_inf_error to False, show_every to 1, and uncomment some line in `training.py` to see how weights evolve).\n",
    "\n",
    "for adam, it may be fine."
   ]
  },
  {
   "cell_type": "code",
   "execution_count": 1,
   "metadata": {},
   "outputs": [],
   "source": [
    "import numpy as np"
   ]
  },
  {
   "cell_type": "code",
   "execution_count": 2,
   "metadata": {},
   "outputs": [],
   "source": [
    "from tang_jcompneuro.io import load_split_dataset"
   ]
  },
  {
   "cell_type": "code",
   "execution_count": 3,
   "metadata": {},
   "outputs": [],
   "source": [
    "from tang_jcompneuro.model_fitting_cnn import get_trainer, models_to_train"
   ]
  },
  {
   "cell_type": "code",
   "execution_count": 4,
   "metadata": {},
   "outputs": [],
   "source": [
    "datasets = load_split_dataset('MkA_Shape', 'all', True, 553)"
   ]
  },
  {
   "cell_type": "code",
   "execution_count": 5,
   "metadata": {},
   "outputs": [],
   "source": [
    "# def hack_arch_config_fn(config):\n",
    "#     config['conv'][0]['bn'] = True\n",
    "# #     config['act_fn'] = 'softplus'\n",
    "#     return config"
   ]
  },
  {
   "cell_type": "code",
   "execution_count": 6,
   "metadata": {},
   "outputs": [
    {
     "name": "stdout",
     "output_type": "stream",
     "text": [
      "b_bn.9 scale hack None\n",
      "{\n",
      "  \"conv\": [\n",
      "    {\n",
      "      \"kernel_size\": 9,\n",
      "      \"out_channel\": 9,\n",
      "      \"stride\": 1,\n",
      "      \"bn\": true,\n",
      "      \"padding\": 0,\n",
      "      \"pool\": {\n",
      "        \"kernel_size\": 6,\n",
      "        \"stride\": 2,\n",
      "        \"padding\": 0,\n",
      "        \"pool_type\": \"max\"\n",
      "      },\n",
      "      \"dilation\": 1\n",
      "    }\n",
      "  ],\n",
      "  \"fc\": {\n",
      "    \"factored\": false,\n",
      "    \"dropout\": null,\n",
      "    \"mlp\": null\n",
      "  },\n",
      "  \"act_fn\": \"relu\",\n",
      "  \"linear_output\": true\n",
      "}\n"
     ]
    }
   ],
   "source": [
    "# this makes sure I have some numbers I can use as reference.\n",
    "# this will help me make sure I don't make mistake when updating my cnn class.\n",
    "trainer = get_trainer('b_bn.9', cudnn_enabled=False, show_every=500,\n",
    "                      show_arch_config=True,\n",
    "                      catch_inf_error=True)"
   ]
  },
  {
   "cell_type": "code",
   "execution_count": 7,
   "metadata": {
    "scrolled": false
   },
   "outputs": [
    {
     "name": "stdout",
     "output_type": "stream",
     "text": [
      "[(6080, 1, 20, 20), (6080, 1), (1900, 1, 20, 20), (1900, 1), (1520, 1, 20, 20), (1520, 1)]\n",
      "CNN(\n",
      "  (conv): Sequential(\n",
      "    (conv0): Conv2d(1, 9, kernel_size=(9, 9), stride=(1, 1), bias=False)\n",
      "    (bn0): BatchNorm2d(9, eps=0.001, momentum=0.1, affine=True)\n",
      "    (act0): ReLU()\n",
      "    (pool0): MaxPool2d(kernel_size=(6, 6), stride=(2, 2), dilation=(1, 1), ceil_mode=False)\n",
      "  )\n",
      "  (fc): Sequential(\n",
      "    (fc): Linear(in_features=144, out_features=1, bias=True)\n",
      "  )\n",
      ")\n",
      "# of params 892\n",
      "========starting phase 1/1==========\n",
      "1e-3L2_1e-3L2_sgd_mse 0.0 0.3975508213043213 sec\n",
      "CNN(\n",
      "  (conv): Sequential(\n",
      "    (conv0): Conv2d(1, 9, kernel_size=(9, 9), stride=(1, 1), bias=False)\n",
      "    (bn0): BatchNorm2d(9, eps=0.001, momentum=0.1, affine=True)\n",
      "    (act0): ReLU()\n",
      "    (pool0): MaxPool2d(kernel_size=(6, 6), stride=(2, 2), dilation=(1, 1), ceil_mode=False)\n",
      "  )\n",
      "  (fc): Sequential(\n",
      "    (fc): Linear(in_features=144, out_features=1, bias=True)\n",
      "  )\n",
      ")\n",
      "# of params 892\n",
      "========starting phase 1/1==========\n",
      "========starting epoch 500==========\n",
      "val metric\n",
      " {'neg_corr': -0.39126843, 'corr': 0.39126843, 'mse': 0.007406394}\n",
      "test metric\n",
      " {'neg_corr': -0.35434639, 'corr': 0.35434639, 'mse': 0.0077709747}\n",
      "========done epoch 500==========\n",
      "========starting epoch 1000==========\n",
      "val metric\n",
      " {'neg_corr': -0.43122387, 'corr': 0.43122387, 'mse': 0.0076121618}\n",
      "test metric\n",
      " {'neg_corr': -0.42776698, 'corr': 0.42776698, 'mse': 0.0076257708}\n",
      "========done epoch 1000==========\n",
      "========starting epoch 1500==========\n",
      "val metric\n",
      " {'neg_corr': -0.43868062, 'corr': 0.43868062, 'mse': 0.006844128}\n",
      "test metric\n",
      " {'neg_corr': -0.44798577, 'corr': 0.44798577, 'mse': 0.0067773196}\n",
      "========done epoch 1500==========\n",
      "========starting epoch 2000==========\n",
      "val metric\n",
      " {'neg_corr': -0.44448861, 'corr': 0.44448861, 'mse': 0.0063951733}\n",
      "test metric\n",
      " {'neg_corr': -0.47775462, 'corr': 0.47775462, 'mse': 0.0061401045}\n",
      "========done epoch 2000==========\n",
      "early stopping after epoch 2100\n",
      "========end phase 1/1==========\n",
      "1e-3L2_1e-3L2_adam002_mse 0.477808 17.865504503250122 sec\n",
      "CNN(\n",
      "  (conv): Sequential(\n",
      "    (conv0): Conv2d(1, 9, kernel_size=(9, 9), stride=(1, 1), bias=False)\n",
      "    (bn0): BatchNorm2d(9, eps=0.001, momentum=0.1, affine=True)\n",
      "    (act0): ReLU()\n",
      "    (pool0): MaxPool2d(kernel_size=(6, 6), stride=(2, 2), dilation=(1, 1), ceil_mode=False)\n",
      "  )\n",
      "  (fc): Sequential(\n",
      "    (fc): Linear(in_features=144, out_features=1, bias=True)\n",
      "  )\n",
      ")\n",
      "# of params 892\n",
      "========starting phase 1/1==========\n",
      "1e-4L2_1e-3L2_sgd_mse 0.0 0.1667773723602295 sec\n",
      "CNN(\n",
      "  (conv): Sequential(\n",
      "    (conv0): Conv2d(1, 9, kernel_size=(9, 9), stride=(1, 1), bias=False)\n",
      "    (bn0): BatchNorm2d(9, eps=0.001, momentum=0.1, affine=True)\n",
      "    (act0): ReLU()\n",
      "    (pool0): MaxPool2d(kernel_size=(6, 6), stride=(2, 2), dilation=(1, 1), ceil_mode=False)\n",
      "  )\n",
      "  (fc): Sequential(\n",
      "    (fc): Linear(in_features=144, out_features=1, bias=True)\n",
      "  )\n",
      ")\n",
      "# of params 892\n",
      "========starting phase 1/1==========\n",
      "========starting epoch 500==========\n",
      "val metric\n",
      " {'neg_corr': -0.36220115, 'corr': 0.36220115, 'mse': 0.0070212991}\n",
      "test metric\n",
      " {'neg_corr': -0.34770912, 'corr': 0.34770912, 'mse': 0.0072367098}\n",
      "========done epoch 500==========\n",
      "========starting epoch 1000==========\n",
      "val metric\n",
      " {'neg_corr': -0.4460558, 'corr': 0.4460558, 'mse': 0.0068252562}\n",
      "test metric\n",
      " {'neg_corr': -0.42298162, 'corr': 0.42298162, 'mse': 0.0070726499}\n",
      "========done epoch 1000==========\n",
      "========starting epoch 1500==========\n",
      "val metric\n",
      " {'neg_corr': -0.46316814, 'corr': 0.46316814, 'mse': 0.006482292}\n",
      "test metric\n",
      " {'neg_corr': -0.45548141, 'corr': 0.45548141, 'mse': 0.0066342223}\n",
      "========done epoch 1500==========\n",
      "========starting epoch 2000==========\n",
      "val metric\n",
      " {'neg_corr': -0.46701726, 'corr': 0.46701726, 'mse': 0.0067720525}\n",
      "test metric\n",
      " {'neg_corr': -0.46923521, 'corr': 0.46923521, 'mse': 0.0068291887}\n",
      "========done epoch 2000==========\n",
      "========starting epoch 2500==========\n",
      "val metric\n",
      " {'neg_corr': -0.4840875, 'corr': 0.4840875, 'mse': 0.0066312882}\n",
      "test metric\n",
      " {'neg_corr': -0.49722216, 'corr': 0.49722216, 'mse': 0.0065500787}\n",
      "========done epoch 2500==========\n",
      "========starting epoch 3000==========\n",
      "val metric\n",
      " {'neg_corr': -0.4680618, 'corr': 0.4680618, 'mse': 0.0065435097}\n",
      "test metric\n",
      " {'neg_corr': -0.47728881, 'corr': 0.47728881, 'mse': 0.0066380943}\n",
      "========done epoch 3000==========\n",
      "========starting epoch 3500==========\n",
      "val metric\n",
      " {'neg_corr': -0.48056814, 'corr': 0.48056814, 'mse': 0.0078472327}\n",
      "test metric\n",
      " {'neg_corr': -0.49528527, 'corr': 0.49528527, 'mse': 0.0076742405}\n",
      "========done epoch 3500==========\n",
      "========starting epoch 4000==========\n",
      "val metric\n",
      " {'neg_corr': -0.46264666, 'corr': 0.46264666, 'mse': 0.0070170891}\n",
      "test metric\n",
      " {'neg_corr': -0.47782192, 'corr': 0.47782192, 'mse': 0.0069285822}\n",
      "========done epoch 4000==========\n",
      "early stopping after epoch 4400\n",
      "========end phase 1/1==========\n",
      "1e-4L2_1e-3L2_adam002_mse 0.48626 176.3910267353058 sec\n",
      "best config 1e-4L2_1e-3L2_adam002_mse with val 0.486260 and test 0.489259\n"
     ]
    }
   ],
   "source": [
    "results = trainer(datasets)"
   ]
  },
  {
   "cell_type": "code",
   "execution_count": 8,
   "metadata": {},
   "outputs": [
    {
     "name": "stdout",
     "output_type": "stream",
     "text": [
      "y_test_hat [[ 0.21301521]\n",
      " [ 0.17497671]\n",
      " [ 0.19480953]\n",
      " ..., \n",
      " [ 0.07443899]\n",
      " [ 0.23277043]\n",
      " [ 0.14791939]]\n",
      "(1900, 1) float32\n",
      "corr 0.489259\n",
      "attrs {'best_val': 0.48625973, 'best_config': '1e-4L2_1e-3L2_adam002_mse', 'inf_counter': 2}\n"
     ]
    }
   ],
   "source": [
    "for x, y in results.items():\n",
    "    print(x, y)\n",
    "    if isinstance(y, np.ndarray):\n",
    "        print(y.shape, y.dtype)"
   ]
  }
 ],
 "metadata": {
  "kernelspec": {
   "display_name": "Python 3",
   "language": "python",
   "name": "python3"
  },
  "language_info": {
   "codemirror_mode": {
    "name": "ipython",
    "version": 3
   },
   "file_extension": ".py",
   "mimetype": "text/x-python",
   "name": "python",
   "nbconvert_exporter": "python",
   "pygments_lexer": "ipython3",
   "version": "3.6.4"
  }
 },
 "nbformat": 4,
 "nbformat_minor": 2
}

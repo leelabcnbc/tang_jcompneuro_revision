{
 "cells": [
  {
   "cell_type": "markdown",
   "metadata": {},
   "source": [
    "make sure that configs in `model_fitting_cnn` are indeed those that we want based on <https://github.com/leelabcnbc/tang_jcompneuro_revision/blob/master/results_ipynb/single_neuron_exploration/cnn_initial_exploration.ipynb>"
   ]
  },
  {
   "cell_type": "code",
   "execution_count": 1,
   "metadata": {},
   "outputs": [],
   "source": [
    "from tang_jcompneuro.model_fitting_cnn import models_to_train_2l, opt_configs_to_explore_2l"
   ]
  },
  {
   "cell_type": "code",
   "execution_count": 2,
   "metadata": {},
   "outputs": [],
   "source": [
    "from tang_jcompneuro.cnn_exploration import two_layer_models_to_explore, opt_configs_to_explore as opt_configs_to_explore_old"
   ]
  },
  {
   "cell_type": "code",
   "execution_count": 3,
   "metadata": {},
   "outputs": [],
   "source": [
    "mapping_arch = {\n",
    "    'c7_k5d2_k3d1p1_k6s2max': '2l_k5d2_k3d1p1.7',\n",
    "    'c7_k4d2_k3d1p1_k6s2max': '2l_k4d2_k3d1p1.7',\n",
    "    'c7_k7d1_k3d1p1_k6s2max': '2l_k7d1_k3d1p1.7',\n",
    "    'c7_k5d1_k3d1p1_k6s2max': '2l_k5d1_k3d1p1.7',\n",
    "}\n",
    "\n",
    "set_opt_to_check = {\n",
    "                   '1e-3L2_1e-3L2_adam002_mse', '1e-4L2_1e-3L2_adam002_mse',\n",
    "                    '1e-3L2_1e-3L2_sgd_mse',     '1e-4L2_1e-3L2_sgd_mse'\n",
    "}"
   ]
  },
  {
   "cell_type": "code",
   "execution_count": 4,
   "metadata": {},
   "outputs": [
    {
     "name": "stdout",
     "output_type": "stream",
     "text": [
      "4 4\n",
      "c7_k5d2_k3d1p1_k6s2max\n",
      "{'conv': [{'kernel_size': 5, 'out_channel': 7, 'stride': 1, 'bn': False, 'padding': 0, 'pool': None, 'dilation': 2}, {'kernel_size': 3, 'out_channel': 7, 'stride': 1, 'bn': False, 'padding': 1, 'pool': {'kernel_size': 6, 'stride': 2, 'padding': 0, 'pool_type': 'max'}, 'dilation': 1}], 'fc': {'factored': False, 'dropout': None, 'mlp': None}, 'act_fn': 'relu', 'linear_output': True}\n",
      "c7_k4d2_k3d1p1_k6s2max\n",
      "{'conv': [{'kernel_size': 4, 'out_channel': 7, 'stride': 1, 'bn': False, 'padding': 0, 'pool': None, 'dilation': 2}, {'kernel_size': 3, 'out_channel': 7, 'stride': 1, 'bn': False, 'padding': 1, 'pool': {'kernel_size': 6, 'stride': 2, 'padding': 0, 'pool_type': 'max'}, 'dilation': 1}], 'fc': {'factored': False, 'dropout': None, 'mlp': None}, 'act_fn': 'relu', 'linear_output': True}\n",
      "c7_k7d1_k3d1p1_k6s2max\n",
      "{'conv': [{'kernel_size': 7, 'out_channel': 7, 'stride': 1, 'bn': False, 'padding': 0, 'pool': None, 'dilation': 1}, {'kernel_size': 3, 'out_channel': 7, 'stride': 1, 'bn': False, 'padding': 1, 'pool': {'kernel_size': 6, 'stride': 2, 'padding': 0, 'pool_type': 'max'}, 'dilation': 1}], 'fc': {'factored': False, 'dropout': None, 'mlp': None}, 'act_fn': 'relu', 'linear_output': True}\n",
      "c7_k5d1_k3d1p1_k6s2max\n",
      "{'conv': [{'kernel_size': 5, 'out_channel': 7, 'stride': 1, 'bn': False, 'padding': 0, 'pool': None, 'dilation': 1}, {'kernel_size': 3, 'out_channel': 7, 'stride': 1, 'bn': False, 'padding': 1, 'pool': {'kernel_size': 6, 'stride': 2, 'padding': 0, 'pool_type': 'max'}, 'dilation': 1}], 'fc': {'factored': False, 'dropout': None, 'mlp': None}, 'act_fn': 'relu', 'linear_output': True}\n"
     ]
    }
   ],
   "source": [
    "# check arch\n",
    "def check_arch():\n",
    "    new_arch_dict = models_to_train_2l\n",
    "    old_arch_dict = two_layer_models_to_explore()\n",
    "    print(len(new_arch_dict), len(old_arch_dict))\n",
    "    for old_arch, new_arch in mapping_arch.items():\n",
    "        print(old_arch)\n",
    "        print(old_arch_dict[old_arch])\n",
    "        assert old_arch_dict[old_arch] == new_arch_dict[new_arch]\n",
    "check_arch()"
   ]
  },
  {
   "cell_type": "code",
   "execution_count": 5,
   "metadata": {},
   "outputs": [
    {
     "name": "stdout",
     "output_type": "stream",
     "text": [
      "4 35\n",
      "1e-4L2_1e-3L2_sgd_mse\n",
      "{'conv': [{'l1': 0.0, 'l2': 0.0001, 'l1_bias': 0.0, 'l2_bias': 0.0}, {'l1': 0.0, 'l2': 0.0001, 'l1_bias': 0.0, 'l2_bias': 0.0}], 'fc': {'l1': 0.0, 'l2': 0.001, 'l1_bias': 0.0, 'l2_bias': 0.0}, 'loss': 'mse', 'optimizer': {'optimizer_type': 'sgd', 'lr': 0.1, 'momentum': 0.9}}\n",
      "1e-4L2_1e-3L2_adam002_mse\n",
      "{'conv': [{'l1': 0.0, 'l2': 0.0001, 'l1_bias': 0.0, 'l2_bias': 0.0}, {'l1': 0.0, 'l2': 0.0001, 'l1_bias': 0.0, 'l2_bias': 0.0}], 'fc': {'l1': 0.0, 'l2': 0.001, 'l1_bias': 0.0, 'l2_bias': 0.0}, 'loss': 'mse', 'optimizer': {'optimizer_type': 'adam', 'lr': 0.002}}\n",
      "1e-3L2_1e-3L2_adam002_mse\n",
      "{'conv': [{'l1': 0.0, 'l2': 0.001, 'l1_bias': 0.0, 'l2_bias': 0.0}, {'l1': 0.0, 'l2': 0.001, 'l1_bias': 0.0, 'l2_bias': 0.0}], 'fc': {'l1': 0.0, 'l2': 0.001, 'l1_bias': 0.0, 'l2_bias': 0.0}, 'loss': 'mse', 'optimizer': {'optimizer_type': 'adam', 'lr': 0.002}}\n",
      "1e-3L2_1e-3L2_sgd_mse\n",
      "{'conv': [{'l1': 0.0, 'l2': 0.001, 'l1_bias': 0.0, 'l2_bias': 0.0}, {'l1': 0.0, 'l2': 0.001, 'l1_bias': 0.0, 'l2_bias': 0.0}], 'fc': {'l1': 0.0, 'l2': 0.001, 'l1_bias': 0.0, 'l2_bias': 0.0}, 'loss': 'mse', 'optimizer': {'optimizer_type': 'sgd', 'lr': 0.1, 'momentum': 0.9}}\n"
     ]
    }
   ],
   "source": [
    "# check opt\n",
    "def check_opt():\n",
    "    new_opt_dict = opt_configs_to_explore_2l\n",
    "    old_opt_dict = opt_configs_to_explore_old(2)\n",
    "    print(len(new_opt_dict), len(old_opt_dict))\n",
    "    for opt in set_opt_to_check:\n",
    "        print(opt)\n",
    "        print(old_opt_dict[opt])\n",
    "        assert old_opt_dict[opt] == new_opt_dict[opt]\n",
    "check_opt()"
   ]
  }
 ],
 "metadata": {
  "kernelspec": {
   "display_name": "Python 3",
   "language": "python",
   "name": "python3"
  },
  "language_info": {
   "codemirror_mode": {
    "name": "ipython",
    "version": 3
   },
   "file_extension": ".py",
   "mimetype": "text/x-python",
   "name": "python",
   "nbconvert_exporter": "python",
   "pygments_lexer": "ipython3",
   "version": "3.6.4"
  }
 },
 "nbformat": 4,
 "nbformat_minor": 2
}

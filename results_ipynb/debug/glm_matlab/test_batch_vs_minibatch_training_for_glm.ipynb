{
 "cells": [
  {
   "cell_type": "markdown",
   "metadata": {},
   "source": [
    "as shown negatively [here](./glm_R_vs_lassoglm_MATLAB_real_data.ipynb), changing nonlinearity doesn't seem to improve performance. maybe performance can be improved instead by using minibatch."
   ]
  },
  {
   "cell_type": "code",
   "execution_count": 1,
   "metadata": {},
   "outputs": [],
   "source": [
    "from sklearn.decomposition import PCA\n",
    "import pickle\n",
    "import os.path\n",
    "from torch.backends import cudnn\n",
    "cudnn.benchmark = False\n",
    "cudnn.enabled = False"
   ]
  },
  {
   "cell_type": "code",
   "execution_count": 2,
   "metadata": {},
   "outputs": [],
   "source": [
    "from scipy.stats import pearsonr\n",
    "import numpy as np"
   ]
  },
  {
   "cell_type": "code",
   "execution_count": 3,
   "metadata": {},
   "outputs": [],
   "source": [
    "# load data\n",
    "from tang_jcompneuro.io import load_split_dataset\n",
    "from tang_jcompneuro.configs.cnn_arch import generate_one_config\n",
    "from tang_jcompneuro.configs.cnn_init import legacy_generator\n",
    "from tang_jcompneuro.configs import cnn_opt\n",
    "from tang_jcompneuro.cnn import CNN\n",
    "from tang_jcompneuro.training_aux import train_one_case\n",
    "from tang_jcompneuro import dir_dictionary\n",
    "from collections import OrderedDict"
   ]
  },
  {
   "cell_type": "code",
   "execution_count": 4,
   "metadata": {},
   "outputs": [],
   "source": [
    "def load_withoutval_set():\n",
    "    datasets = load_split_dataset('MkA_Shape', 'all', False, 553)\n",
    "    X_train, y_train, X_test, y_test = datasets[:4]\n",
    "    X_train = X_train.reshape(X_train.shape[0], -1)\n",
    "    X_test = X_test.reshape(X_test.shape[0], -1)\n",
    "\n",
    "\n",
    "    # random stuff is faster.\n",
    "    pca_obj_this = PCA(svd_solver='randomized', random_state=0)\n",
    "    pca_obj_this.fit(X_train)\n",
    "    X_train_pca = pca_obj_this.transform(X_train)\n",
    "    X_test_pca = pca_obj_this.transform(X_test)\n",
    "    return (X_train_pca, y_train, X_test_pca, y_test), pca_obj_this\n",
    "\n",
    "datasets_without_val, pca_obj = load_withoutval_set()"
   ]
  },
  {
   "cell_type": "code",
   "execution_count": 5,
   "metadata": {},
   "outputs": [],
   "source": [
    "def load_withval_set():\n",
    "    datasets_with_val = load_split_dataset('MkA_Shape', 'all', True, 553)\n",
    "    X_train, y_train, X_test, y_test, X_val, y_val = datasets_with_val\n",
    "    \n",
    "    X_train = X_train.reshape(X_train.shape[0], -1)\n",
    "    X_test = X_test.reshape(X_test.shape[0], -1)\n",
    "    X_val = X_val.reshape(X_val.shape[0], -1)\n",
    "    \n",
    "    X_train_pca = pca_obj.transform(X_train)\n",
    "    X_test_pca = pca_obj.transform(X_test)\n",
    "    X_val_pca = pca_obj.transform(X_val)\n",
    "    \n",
    "    assert np.array_equal(datasets_without_val[2], X_test_pca)\n",
    "    assert np.array_equal(datasets_without_val[3], y_test)\n",
    "    \n",
    "    return (X_train_pca, y_train, X_test_pca, y_test, X_val_pca, y_val)\n",
    "\n",
    "datasets_with_val = load_withval_set()"
   ]
  },
  {
   "cell_type": "code",
   "execution_count": 6,
   "metadata": {},
   "outputs": [],
   "source": [
    "# create a model.\n",
    "def generate_one_model(act_fn='softplus'):\n",
    "    arch_config = generate_one_config([], {'factored': False, 'dropout': None},\n",
    "                                     act_fn, False)\n",
    "    init_config = legacy_generator()\n",
    "    model_ = CNN(arch_config, init_config, mean_response=datasets_with_val[1].mean(axis=0),\n",
    "                seed=0)\n",
    "    model_.cuda()\n",
    "    return model_\n"
   ]
  },
  {
   "cell_type": "code",
   "execution_count": 7,
   "metadata": {},
   "outputs": [],
   "source": [
    "def generate_opt_config(l1_glmnet):\n",
    "    loss_config = 'mse'\n",
    "    optimizer_config = cnn_opt.generate_one_optimizer_config('adam', lr=0.001)\n",
    "    # time 2 because mse doesn't have 1/2 term in it.\n",
    "    fc_config = cnn_opt.generate_one_layer_opt_config(l1=2*l1_glmnet, l2=0.0, l1_bias=0.0, l2_bias=0.0)\n",
    "    conv_config = []\n",
    "    return cnn_opt.generate_one_opt_config(conv_config, fc_config, loss_config,optimizer_config)"
   ]
  },
  {
   "cell_type": "code",
   "execution_count": 8,
   "metadata": {},
   "outputs": [],
   "source": [
    "# load matlab softplus data.\n",
    "def load_back_matlab_data():\n",
    "    with open(os.path.join(dir_dictionary['analyses'], 'glm_R_vs_lassoglm_MATLAB_real_data_softplus.pkl'),\n",
    "         'rb') as f_debug:\n",
    "        matlab_stuff = pickle.load(f_debug)\n",
    "    return matlab_stuff\n"
   ]
  },
  {
   "cell_type": "code",
   "execution_count": 9,
   "metadata": {},
   "outputs": [],
   "source": [
    "def softplus(x):\n",
    "    return np.log(np.exp(x) + 1)"
   ]
  },
  {
   "cell_type": "code",
   "execution_count": 10,
   "metadata": {},
   "outputs": [],
   "source": [
    "def get_ref_performance():\n",
    "    matlab_data = load_back_matlab_data()\n",
    "    \n",
    "    lambda_idx_mindev = matlab_data['fit_matlab']['FitInfo']['IndexMinDeviance'][0,0][0,0] - 1\n",
    "    lambda_idx_1se = matlab_data['fit_matlab']['FitInfo']['Index1SE'][0,0][0,0] - 1\n",
    "    print(lambda_idx_mindev, lambda_idx_1se)\n",
    "    lambda_mindev = matlab_data['fit_matlab']['FitInfo']['LambdaMinDeviance'][0,0][0,0]\n",
    "    lambda_1se = matlab_data['fit_matlab']['FitInfo']['Lambda1SE'][0,0][0,0]\n",
    "    lambda_mindev_debug = matlab_data['fit_matlab']['FitInfo']['Lambda'][0,0].ravel()[lambda_idx_mindev]\n",
    "    lambda_1se_debug = matlab_data['fit_matlab']['FitInfo']['Lambda'][0,0].ravel()[lambda_idx_1se]\n",
    "    assert lambda_mindev == lambda_mindev_debug\n",
    "    assert lambda_1se == lambda_1se_debug\n",
    "    # print(matlab_data['fit_matlab']['FitInfo']['Intercept'][0,0].shape)\n",
    "    coeff_mindev, bias_mindev =  (matlab_data['fit_matlab']['B'][:, lambda_idx_mindev],\n",
    "                                  matlab_data['fit_matlab']['FitInfo']['Intercept'][0,0].ravel()[lambda_idx_mindev])\n",
    "    coeff_1se, bias_1se =  (matlab_data['fit_matlab']['B'][:, lambda_idx_1se],\n",
    "                                  matlab_data['fit_matlab']['FitInfo']['Intercept'][0,0].ravel()[lambda_idx_1se])\n",
    "    \n",
    "    \n",
    "    X_train, y_train, X_test, y_test = datasets_without_val\n",
    "    \n",
    "    yhat_mindev = softplus(X_test @ coeff_mindev + bias_mindev)\n",
    "    yhat_1se = softplus(X_test @ coeff_1se + bias_1se)\n",
    "    assert yhat_mindev.shape == yhat_1se.shape == (y_test.size,)\n",
    "    \n",
    "    \n",
    "    \n",
    "    result_dict = OrderedDict()\n",
    "    result_dict['mindev'] = {\n",
    "        'lambda': lambda_mindev,\n",
    "        'yhat': yhat_mindev,\n",
    "        'corr': pearsonr(yhat_mindev, y_test.ravel())[0]\n",
    "    }\n",
    "    result_dict['1se'] = {\n",
    "        'lambda': lambda_1se,\n",
    "        'yhat': yhat_1se,\n",
    "        'corr': pearsonr(yhat_1se, y_test.ravel())[0]\n",
    "    }\n",
    "    return result_dict\n"
   ]
  },
  {
   "cell_type": "code",
   "execution_count": 11,
   "metadata": {},
   "outputs": [
    {
     "name": "stdout",
     "output_type": "stream",
     "text": [
      "63 99\n"
     ]
    }
   ],
   "source": [
    "ref_performance_dict = get_ref_performance()"
   ]
  },
  {
   "cell_type": "code",
   "execution_count": 12,
   "metadata": {
    "scrolled": true
   },
   "outputs": [
    {
     "data": {
      "text/plain": [
       "OrderedDict([('mindev',\n",
       "              {'corr': 0.17749115977263863,\n",
       "               'lambda': 9.7354627257237135e-05,\n",
       "               'yhat': array([ 0.20030271,  0.20784372,  0.23043094, ...,  0.18800964,\n",
       "                       0.17269229,  0.18015046])}),\n",
       "             ('1se',\n",
       "              {'corr': 0.074447123430914364,\n",
       "               'lambda': 0.0027726947038680919,\n",
       "               'yhat': array([ 0.19457534,  0.19457534,  0.19457534, ...,  0.19457534,\n",
       "                       0.19457534,  0.19457534])})])"
      ]
     },
     "execution_count": 12,
     "metadata": {},
     "output_type": "execute_result"
    }
   ],
   "source": [
    "ref_performance_dict"
   ]
  },
  {
   "cell_type": "code",
   "execution_count": 13,
   "metadata": {},
   "outputs": [],
   "source": [
    "def train_model(l1_glmnet, act_fn):\n",
    "    model = generate_one_model(act_fn)\n",
    "    # it must be float. otherwise, bad things can happen in PyTorch.\n",
    "    # it will say that np.ndarray cannot be backwarded.\n",
    "    opt_config = generate_opt_config(float(l1_glmnet))\n",
    "    print(opt_config)\n",
    "    print(model.fc.fc)\n",
    "    y_test_hat, new_cc = train_one_case(model, datasets_with_val,\n",
    "                                        opt_config, seed=0, show_every=10000)\n",
    "    print(new_cc)"
   ]
  },
  {
   "cell_type": "code",
   "execution_count": 14,
   "metadata": {
    "scrolled": false
   },
   "outputs": [
    {
     "name": "stdout",
     "output_type": "stream",
     "text": [
      "{'conv': [], 'fc': {'l1': 0.005545389407736184, 'l2': 0.0, 'l1_bias': 0.0, 'l2_bias': 0.0}, 'loss': 'mse', 'optimizer': {'optimizer_type': 'adam', 'lr': 0.001}}\n",
      "Linear(in_features=400, out_features=1, bias=True)\n",
      "========starting phase 1/1==========\n",
      "early stopping after epoch 1600\n",
      "========end phase 1/1==========\n",
      "0.110621\n",
      "{'conv': [], 'fc': {'l1': 0.005545389407736184, 'l2': 0.0, 'l1_bias': 0.0, 'l2_bias': 0.0}, 'loss': 'mse', 'optimizer': {'optimizer_type': 'adam', 'lr': 0.001}}\n",
      "Linear(in_features=400, out_features=1, bias=True)\n",
      "========starting phase 1/1==========\n",
      "early stopping after epoch 1500\n",
      "========end phase 1/1==========\n",
      "0.130645\n",
      "{'conv': [], 'fc': {'l1': 0.00019470925451447427, 'l2': 0.0, 'l1_bias': 0.0, 'l2_bias': 0.0}, 'loss': 'mse', 'optimizer': {'optimizer_type': 'adam', 'lr': 0.001}}\n",
      "Linear(in_features=400, out_features=1, bias=True)\n",
      "========starting phase 1/1==========\n",
      "early stopping after epoch 1100\n",
      "========end phase 1/1==========\n",
      "0.176126\n",
      "{'conv': [], 'fc': {'l1': 0.00019470925451447427, 'l2': 0.0, 'l1_bias': 0.0, 'l2_bias': 0.0}, 'loss': 'mse', 'optimizer': {'optimizer_type': 'adam', 'lr': 0.001}}\n",
      "Linear(in_features=400, out_features=1, bias=True)\n",
      "========starting phase 1/1==========\n",
      "early stopping after epoch 1500\n",
      "========end phase 1/1==========\n",
      "0.156807\n"
     ]
    }
   ],
   "source": [
    "train_model(ref_performance_dict['1se']['lambda'], 'softplus')\n",
    "train_model(ref_performance_dict['1se']['lambda'], 'relu')\n",
    "train_model(ref_performance_dict['mindev']['lambda'], 'softplus')\n",
    "train_model(ref_performance_dict['mindev']['lambda'], 'relu')"
   ]
  },
  {
   "cell_type": "code",
   "execution_count": 15,
   "metadata": {},
   "outputs": [
    {
     "name": "stdout",
     "output_type": "stream",
     "text": [
      "{'conv': [], 'fc': {'l1': 0.022181557630944735, 'l2': 0.0, 'l1_bias': 0.0, 'l2_bias': 0.0}, 'loss': 'mse', 'optimizer': {'optimizer_type': 'adam', 'lr': 0.001}}\n",
      "Linear(in_features=400, out_features=1, bias=True)\n",
      "========starting phase 1/1==========\n",
      "early stopping after epoch 1200\n",
      "========end phase 1/1==========\n",
      "0.105871\n",
      "{'conv': [], 'fc': {'l1': 0.022181557630944735, 'l2': 0.0, 'l1_bias': 0.0, 'l2_bias': 0.0}, 'loss': 'mse', 'optimizer': {'optimizer_type': 'adam', 'lr': 0.001}}\n",
      "Linear(in_features=400, out_features=1, bias=True)\n",
      "========starting phase 1/1==========\n",
      "early stopping after epoch 1500\n",
      "========end phase 1/1==========\n",
      "0.108718\n",
      "{'conv': [], 'fc': {'l1': 0.0007788370180578971, 'l2': 0.0, 'l1_bias': 0.0, 'l2_bias': 0.0}, 'loss': 'mse', 'optimizer': {'optimizer_type': 'adam', 'lr': 0.001}}\n",
      "Linear(in_features=400, out_features=1, bias=True)\n",
      "========starting phase 1/1==========\n",
      "early stopping after epoch 1600\n",
      "========end phase 1/1==========\n",
      "0.147331\n",
      "{'conv': [], 'fc': {'l1': 0.0007788370180578971, 'l2': 0.0, 'l1_bias': 0.0, 'l2_bias': 0.0}, 'loss': 'mse', 'optimizer': {'optimizer_type': 'adam', 'lr': 0.001}}\n",
      "Linear(in_features=400, out_features=1, bias=True)\n",
      "========starting phase 1/1==========\n",
      "early stopping after epoch 1500\n",
      "========end phase 1/1==========\n",
      "0.150369\n"
     ]
    }
   ],
   "source": [
    "train_model(ref_performance_dict['1se']['lambda']*4, 'softplus')\n",
    "train_model(ref_performance_dict['1se']['lambda']*4, 'relu')\n",
    "train_model(ref_performance_dict['mindev']['lambda']*4, 'softplus')\n",
    "train_model(ref_performance_dict['mindev']['lambda']*4, 'relu')"
   ]
  },
  {
   "cell_type": "code",
   "execution_count": 16,
   "metadata": {},
   "outputs": [
    {
     "name": "stdout",
     "output_type": "stream",
     "text": [
      "{'conv': [], 'fc': {'l1': 0.011090778815472368, 'l2': 0.0, 'l1_bias': 0.0, 'l2_bias': 0.0}, 'loss': 'mse', 'optimizer': {'optimizer_type': 'adam', 'lr': 0.001}}\n",
      "Linear(in_features=400, out_features=1, bias=True)\n",
      "========starting phase 1/1==========\n",
      "early stopping after epoch 1100\n",
      "========end phase 1/1==========\n",
      "0.105604\n",
      "{'conv': [], 'fc': {'l1': 0.011090778815472368, 'l2': 0.0, 'l1_bias': 0.0, 'l2_bias': 0.0}, 'loss': 'mse', 'optimizer': {'optimizer_type': 'adam', 'lr': 0.001}}\n",
      "Linear(in_features=400, out_features=1, bias=True)\n",
      "========starting phase 1/1==========\n",
      "early stopping after epoch 2600\n",
      "========end phase 1/1==========\n",
      "0.156376\n",
      "{'conv': [], 'fc': {'l1': 0.00038941850902894854, 'l2': 0.0, 'l1_bias': 0.0, 'l2_bias': 0.0}, 'loss': 'mse', 'optimizer': {'optimizer_type': 'adam', 'lr': 0.001}}\n",
      "Linear(in_features=400, out_features=1, bias=True)\n",
      "========starting phase 1/1==========\n",
      "early stopping after epoch 2800\n",
      "========end phase 1/1==========\n",
      "0.166765\n",
      "{'conv': [], 'fc': {'l1': 0.00038941850902894854, 'l2': 0.0, 'l1_bias': 0.0, 'l2_bias': 0.0}, 'loss': 'mse', 'optimizer': {'optimizer_type': 'adam', 'lr': 0.001}}\n",
      "Linear(in_features=400, out_features=1, bias=True)\n",
      "========starting phase 1/1==========\n",
      "early stopping after epoch 1500\n",
      "========end phase 1/1==========\n",
      "0.157969\n"
     ]
    }
   ],
   "source": [
    "train_model(ref_performance_dict['1se']['lambda']*2, 'softplus')\n",
    "train_model(ref_performance_dict['1se']['lambda']*2, 'relu')\n",
    "train_model(ref_performance_dict['mindev']['lambda']*2, 'softplus')\n",
    "train_model(ref_performance_dict['mindev']['lambda']*2, 'relu')"
   ]
  },
  {
   "cell_type": "code",
   "execution_count": 17,
   "metadata": {},
   "outputs": [
    {
     "name": "stdout",
     "output_type": "stream",
     "text": [
      "{'conv': [], 'fc': {'l1': 0.002772694703868092, 'l2': 0.0, 'l1_bias': 0.0, 'l2_bias': 0.0}, 'loss': 'mse', 'optimizer': {'optimizer_type': 'adam', 'lr': 0.001}}\n",
      "Linear(in_features=400, out_features=1, bias=True)\n",
      "========starting phase 1/1==========\n",
      "early stopping after epoch 1900\n",
      "========end phase 1/1==========\n",
      "0.132546\n",
      "{'conv': [], 'fc': {'l1': 0.002772694703868092, 'l2': 0.0, 'l1_bias': 0.0, 'l2_bias': 0.0}, 'loss': 'mse', 'optimizer': {'optimizer_type': 'adam', 'lr': 0.001}}\n",
      "Linear(in_features=400, out_features=1, bias=True)\n",
      "========starting phase 1/1==========\n",
      "early stopping after epoch 1800\n",
      "========end phase 1/1==========\n",
      "0.138934\n",
      "{'conv': [], 'fc': {'l1': 9.735462725723714e-05, 'l2': 0.0, 'l1_bias': 0.0, 'l2_bias': 0.0}, 'loss': 'mse', 'optimizer': {'optimizer_type': 'adam', 'lr': 0.001}}\n",
      "Linear(in_features=400, out_features=1, bias=True)\n",
      "========starting phase 1/1==========\n",
      "early stopping after epoch 1100\n",
      "========end phase 1/1==========\n",
      "0.182021\n",
      "{'conv': [], 'fc': {'l1': 9.735462725723714e-05, 'l2': 0.0, 'l1_bias': 0.0, 'l2_bias': 0.0}, 'loss': 'mse', 'optimizer': {'optimizer_type': 'adam', 'lr': 0.001}}\n",
      "Linear(in_features=400, out_features=1, bias=True)\n",
      "========starting phase 1/1==========\n",
      "early stopping after epoch 1500\n",
      "========end phase 1/1==========\n",
      "0.144665\n"
     ]
    }
   ],
   "source": [
    "train_model(ref_performance_dict['1se']['lambda']/2, 'softplus')\n",
    "train_model(ref_performance_dict['1se']['lambda']/2, 'relu')\n",
    "train_model(ref_performance_dict['mindev']['lambda']/2, 'softplus')\n",
    "train_model(ref_performance_dict['mindev']['lambda']/2, 'relu')"
   ]
  },
  {
   "cell_type": "code",
   "execution_count": 18,
   "metadata": {},
   "outputs": [
    {
     "name": "stdout",
     "output_type": "stream",
     "text": [
      "{'conv': [], 'fc': {'l1': 0.001386347351934046, 'l2': 0.0, 'l1_bias': 0.0, 'l2_bias': 0.0}, 'loss': 'mse', 'optimizer': {'optimizer_type': 'adam', 'lr': 0.001}}\n",
      "Linear(in_features=400, out_features=1, bias=True)\n",
      "========starting phase 1/1==========\n",
      "early stopping after epoch 1900\n",
      "========end phase 1/1==========\n",
      "0.14427\n",
      "{'conv': [], 'fc': {'l1': 0.001386347351934046, 'l2': 0.0, 'l1_bias': 0.0, 'l2_bias': 0.0}, 'loss': 'mse', 'optimizer': {'optimizer_type': 'adam', 'lr': 0.001}}\n",
      "Linear(in_features=400, out_features=1, bias=True)\n",
      "========starting phase 1/1==========\n",
      "early stopping after epoch 1500\n",
      "========end phase 1/1==========\n",
      "0.141563\n",
      "{'conv': [], 'fc': {'l1': 4.867731362861857e-05, 'l2': 0.0, 'l1_bias': 0.0, 'l2_bias': 0.0}, 'loss': 'mse', 'optimizer': {'optimizer_type': 'adam', 'lr': 0.001}}\n",
      "Linear(in_features=400, out_features=1, bias=True)\n",
      "========starting phase 1/1==========\n",
      "early stopping after epoch 1100\n",
      "========end phase 1/1==========\n",
      "0.186181\n",
      "{'conv': [], 'fc': {'l1': 4.867731362861857e-05, 'l2': 0.0, 'l1_bias': 0.0, 'l2_bias': 0.0}, 'loss': 'mse', 'optimizer': {'optimizer_type': 'adam', 'lr': 0.001}}\n",
      "Linear(in_features=400, out_features=1, bias=True)\n",
      "========starting phase 1/1==========\n",
      "early stopping after epoch 1500\n",
      "========end phase 1/1==========\n",
      "0.136323\n"
     ]
    }
   ],
   "source": [
    "train_model(ref_performance_dict['1se']['lambda']/4, 'softplus')\n",
    "train_model(ref_performance_dict['1se']['lambda']/4, 'relu')\n",
    "train_model(ref_performance_dict['mindev']['lambda']/4, 'softplus')\n",
    "train_model(ref_performance_dict['mindev']['lambda']/4, 'relu')"
   ]
  },
  {
   "cell_type": "code",
   "execution_count": 19,
   "metadata": {},
   "outputs": [
    {
     "name": "stdout",
     "output_type": "stream",
     "text": [
      "{'conv': [], 'fc': {'l1': 0.000693173675967023, 'l2': 0.0, 'l1_bias': 0.0, 'l2_bias': 0.0}, 'loss': 'mse', 'optimizer': {'optimizer_type': 'adam', 'lr': 0.001}}\n",
      "Linear(in_features=400, out_features=1, bias=True)\n",
      "========starting phase 1/1==========\n",
      "early stopping after epoch 2800\n",
      "========end phase 1/1==========\n",
      "0.160669\n",
      "{'conv': [], 'fc': {'l1': 0.000693173675967023, 'l2': 0.0, 'l1_bias': 0.0, 'l2_bias': 0.0}, 'loss': 'mse', 'optimizer': {'optimizer_type': 'adam', 'lr': 0.001}}\n",
      "Linear(in_features=400, out_features=1, bias=True)\n",
      "========starting phase 1/1==========\n",
      "early stopping after epoch 1500\n",
      "========end phase 1/1==========\n",
      "0.151142\n",
      "{'conv': [], 'fc': {'l1': 2.4338656814309284e-05, 'l2': 0.0, 'l1_bias': 0.0, 'l2_bias': 0.0}, 'loss': 'mse', 'optimizer': {'optimizer_type': 'adam', 'lr': 0.001}}\n",
      "Linear(in_features=400, out_features=1, bias=True)\n",
      "========starting phase 1/1==========\n",
      "early stopping after epoch 1100\n",
      "========end phase 1/1==========\n",
      "0.186877\n",
      "{'conv': [], 'fc': {'l1': 2.4338656814309284e-05, 'l2': 0.0, 'l1_bias': 0.0, 'l2_bias': 0.0}, 'loss': 'mse', 'optimizer': {'optimizer_type': 'adam', 'lr': 0.001}}\n",
      "Linear(in_features=400, out_features=1, bias=True)\n",
      "========starting phase 1/1==========\n",
      "early stopping after epoch 1500\n",
      "========end phase 1/1==========\n",
      "0.131138\n"
     ]
    }
   ],
   "source": [
    "train_model(ref_performance_dict['1se']['lambda']/8, 'softplus')\n",
    "train_model(ref_performance_dict['1se']['lambda']/8, 'relu')\n",
    "train_model(ref_performance_dict['mindev']['lambda']/8, 'softplus')\n",
    "train_model(ref_performance_dict['mindev']['lambda']/8, 'relu')"
   ]
  },
  {
   "cell_type": "code",
   "execution_count": 20,
   "metadata": {},
   "outputs": [
    {
     "name": "stdout",
     "output_type": "stream",
     "text": [
      "{'conv': [], 'fc': {'l1': 0.0004621157839780153, 'l2': 0.0, 'l1_bias': 0.0, 'l2_bias': 0.0}, 'loss': 'mse', 'optimizer': {'optimizer_type': 'adam', 'lr': 0.001}}\n",
      "Linear(in_features=400, out_features=1, bias=True)\n",
      "========starting phase 1/1==========\n",
      "early stopping after epoch 2800\n",
      "========end phase 1/1==========\n",
      "0.164968\n",
      "{'conv': [], 'fc': {'l1': 0.0004621157839780153, 'l2': 0.0, 'l1_bias': 0.0, 'l2_bias': 0.0}, 'loss': 'mse', 'optimizer': {'optimizer_type': 'adam', 'lr': 0.001}}\n",
      "Linear(in_features=400, out_features=1, bias=True)\n",
      "========starting phase 1/1==========\n",
      "early stopping after epoch 1500\n",
      "========end phase 1/1==========\n",
      "0.157366\n",
      "{'conv': [], 'fc': {'l1': 1.6225771209539523e-05, 'l2': 0.0, 'l1_bias': 0.0, 'l2_bias': 0.0}, 'loss': 'mse', 'optimizer': {'optimizer_type': 'adam', 'lr': 0.001}}\n",
      "Linear(in_features=400, out_features=1, bias=True)\n",
      "========starting phase 1/1==========\n",
      "early stopping after epoch 1100\n",
      "========end phase 1/1==========\n",
      "0.187064\n",
      "{'conv': [], 'fc': {'l1': 1.6225771209539523e-05, 'l2': 0.0, 'l1_bias': 0.0, 'l2_bias': 0.0}, 'loss': 'mse', 'optimizer': {'optimizer_type': 'adam', 'lr': 0.001}}\n",
      "Linear(in_features=400, out_features=1, bias=True)\n",
      "========starting phase 1/1==========\n",
      "early stopping after epoch 1500\n",
      "========end phase 1/1==========\n",
      "0.129118\n"
     ]
    }
   ],
   "source": [
    "train_model(ref_performance_dict['1se']['lambda']/12, 'softplus')\n",
    "train_model(ref_performance_dict['1se']['lambda']/12, 'relu')\n",
    "train_model(ref_performance_dict['mindev']['lambda']/12, 'softplus')\n",
    "train_model(ref_performance_dict['mindev']['lambda']/12, 'relu')"
   ]
  },
  {
   "cell_type": "code",
   "execution_count": 21,
   "metadata": {},
   "outputs": [
    {
     "name": "stdout",
     "output_type": "stream",
     "text": [
      "{'conv': [], 'fc': {'l1': 0.0003465868379835115, 'l2': 0.0, 'l1_bias': 0.0, 'l2_bias': 0.0}, 'loss': 'mse', 'optimizer': {'optimizer_type': 'adam', 'lr': 0.001}}\n",
      "Linear(in_features=400, out_features=1, bias=True)\n",
      "========starting phase 1/1==========\n",
      "early stopping after epoch 2800\n",
      "========end phase 1/1==========\n",
      "0.168124\n",
      "{'conv': [], 'fc': {'l1': 0.0003465868379835115, 'l2': 0.0, 'l1_bias': 0.0, 'l2_bias': 0.0}, 'loss': 'mse', 'optimizer': {'optimizer_type': 'adam', 'lr': 0.001}}\n",
      "Linear(in_features=400, out_features=1, bias=True)\n",
      "========starting phase 1/1==========\n",
      "early stopping after epoch 1500\n",
      "========end phase 1/1==========\n",
      "0.159291\n",
      "{'conv': [], 'fc': {'l1': 1.2169328407154642e-05, 'l2': 0.0, 'l1_bias': 0.0, 'l2_bias': 0.0}, 'loss': 'mse', 'optimizer': {'optimizer_type': 'adam', 'lr': 0.001}}\n",
      "Linear(in_features=400, out_features=1, bias=True)\n",
      "========starting phase 1/1==========\n",
      "early stopping after epoch 1100\n",
      "========end phase 1/1==========\n",
      "0.186838\n",
      "{'conv': [], 'fc': {'l1': 1.2169328407154642e-05, 'l2': 0.0, 'l1_bias': 0.0, 'l2_bias': 0.0}, 'loss': 'mse', 'optimizer': {'optimizer_type': 'adam', 'lr': 0.001}}\n",
      "Linear(in_features=400, out_features=1, bias=True)\n",
      "========starting phase 1/1==========\n",
      "early stopping after epoch 1500\n",
      "========end phase 1/1==========\n",
      "0.128082\n"
     ]
    }
   ],
   "source": [
    "train_model(ref_performance_dict['1se']['lambda']/16, 'softplus')\n",
    "train_model(ref_performance_dict['1se']['lambda']/16, 'relu')\n",
    "train_model(ref_performance_dict['mindev']['lambda']/16, 'softplus')\n",
    "train_model(ref_performance_dict['mindev']['lambda']/16, 'relu')"
   ]
  }
 ],
 "metadata": {
  "kernelspec": {
   "display_name": "Python 3",
   "language": "python",
   "name": "python3"
  },
  "language_info": {
   "codemirror_mode": {
    "name": "ipython",
    "version": 3
   },
   "file_extension": ".py",
   "mimetype": "text/x-python",
   "name": "python",
   "nbconvert_exporter": "python",
   "pygments_lexer": "ipython3",
   "version": "3.6.4"
  }
 },
 "nbformat": 4,
 "nbformat_minor": 2
}

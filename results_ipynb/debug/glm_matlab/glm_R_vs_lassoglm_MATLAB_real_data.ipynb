{
 "cells": [
  {
   "cell_type": "markdown",
   "metadata": {},
   "source": [
    "this shows that, changing nonlinearity won't make much difference.\n",
    "\n",
    "notice there there is the loss (deviance, error, whatever you call it) is much different for MATLAB and R.\n",
    "\n",
    "However, they match when using smaller datasets (check [demo version](./glm_R_vs_lassoglm_MATLAB_demo_data.ipynb)).\n",
    "\n",
    "I think this is mostly due to R version being more precise than MATLAB verion (convergence, tol, etc.).\n",
    "\n",
    "For MATLAB version `glmnet_cv_best_result.m` where I have no access to predictions made by each folds, I make them myself. Notice that the per-fold predictions provided by R function is not available to be obtained this way. Check source code <https://github.com/cran/glmnet/blob/2.0-13/R/cv.glmnet.R#L27>. Also <https://github.com/cran/glmnet/blob/2.0-13/ChangeLog#L19>. Basically, the sequence of lambda is chosen using all data, and each fold of data is fitted using their OWN sequence of lambdas. However, predictions on the test (left out) fold is made on the lambda sequence inferred from all data, using some interpolation (see <https://github.com/cran/glmnet/blob/2.0-13/man/predict.glmnet.Rd>, on `exact`). So possibly, the difference in loss can be due to this approximation as well.\n",
    "\n",
    "Another thing to notice is that the lambda sequence for Poisson and Gaussian are the same in this case (starting from `1.56812570e-02`. Not sure if this holds in general. Check [demo version](./glm_R_vs_lassoglm_MATLAB_demo_data.ipynb), where it holds as well. However, the lambda sequence for softplus is different."
   ]
  },
  {
   "cell_type": "code",
   "execution_count": 1,
   "metadata": {},
   "outputs": [],
   "source": [
    "%matplotlib inline\n",
    "import numpy as np\n",
    "import matplotlib.pyplot as plt\n",
    "from scipy.stats import pearsonr\n",
    "import time"
   ]
  },
  {
   "cell_type": "code",
   "execution_count": 2,
   "metadata": {},
   "outputs": [],
   "source": [
    "class Timer(object):\n",
    "    def __init__(self, name=None):\n",
    "        self.name = name\n",
    "\n",
    "    def __enter__(self):\n",
    "        self.tstart = time.time()\n",
    "\n",
    "    def __exit__(self, type, value, traceback):\n",
    "        if self.name:\n",
    "            print('[%s]' % self.name, end=' ')\n",
    "        print('Elapsed: %s' % (time.time() - self.tstart))"
   ]
  },
  {
   "cell_type": "code",
   "execution_count": 3,
   "metadata": {},
   "outputs": [
    {
     "name": "stderr",
     "output_type": "stream",
     "text": [
      "/home/yimengzh_everyday/miniconda2/envs/tf15/lib/python3.6/site-packages/rpy2/rinterface/__init__.py:186: RRuntimeWarning: Loading required package: Matrix\n",
      "\n",
      "  warnings.warn(x, RRuntimeWarning)\n",
      "/home/yimengzh_everyday/miniconda2/envs/tf15/lib/python3.6/site-packages/rpy2/rinterface/__init__.py:186: RRuntimeWarning: Loading required package: foreach\n",
      "\n",
      "  warnings.warn(x, RRuntimeWarning)\n",
      "/home/yimengzh_everyday/miniconda2/envs/tf15/lib/python3.6/site-packages/rpy2/rinterface/__init__.py:186: RRuntimeWarning: Loaded glmnet 2.0-13\n",
      "\n",
      "\n",
      "  warnings.warn(x, RRuntimeWarning)\n"
     ]
    }
   ],
   "source": [
    "from tang_jcompneuro_legacy import glm, glm_matlab, glm_matlab_aux"
   ]
  },
  {
   "cell_type": "code",
   "execution_count": 4,
   "metadata": {},
   "outputs": [],
   "source": [
    "# load data\n",
    "from tang_jcompneuro.io import load_split_dataset"
   ]
  },
  {
   "cell_type": "code",
   "execution_count": 5,
   "metadata": {},
   "outputs": [],
   "source": [
    "datasets = load_split_dataset('MkA_Shape', 'all', False, 553)"
   ]
  },
  {
   "cell_type": "code",
   "execution_count": 6,
   "metadata": {},
   "outputs": [],
   "source": [
    "X_train, y_train, X_test, y_test = datasets[:4]"
   ]
  },
  {
   "cell_type": "code",
   "execution_count": 7,
   "metadata": {
    "scrolled": true
   },
   "outputs": [
    {
     "data": {
      "text/plain": [
       "((7600, 1, 20, 20), (7600, 1), (1900, 1, 20, 20), (1900, 1))"
      ]
     },
     "execution_count": 7,
     "metadata": {},
     "output_type": "execute_result"
    }
   ],
   "source": [
    "X_train.shape, y_train.shape, X_test.shape, y_test.shape"
   ]
  },
  {
   "cell_type": "code",
   "execution_count": 8,
   "metadata": {},
   "outputs": [],
   "source": [
    "X_train = X_train.reshape(X_train.shape[0], -1)\n",
    "X_test = X_test.reshape(X_test.shape[0], -1)"
   ]
  },
  {
   "cell_type": "code",
   "execution_count": 9,
   "metadata": {},
   "outputs": [
    {
     "data": {
      "text/plain": [
       "((7600, 400), (7600, 1), (1900, 400), (1900, 1))"
      ]
     },
     "execution_count": 9,
     "metadata": {},
     "output_type": "execute_result"
    }
   ],
   "source": [
    "X_train.shape, y_train.shape, X_test.shape, y_test.shape"
   ]
  },
  {
   "cell_type": "code",
   "execution_count": 10,
   "metadata": {},
   "outputs": [],
   "source": [
    "# perform PCA on Xtrain.\n",
    "# same thing on X_test."
   ]
  },
  {
   "cell_type": "code",
   "execution_count": 11,
   "metadata": {},
   "outputs": [],
   "source": [
    "from sklearn.decomposition import PCA"
   ]
  },
  {
   "cell_type": "code",
   "execution_count": 12,
   "metadata": {},
   "outputs": [],
   "source": [
    "# random stuff is faster.\n",
    "pca_obj = PCA(svd_solver='randomized', random_state=0)\n",
    "pca_obj.fit(X_train)\n",
    "X_train_pca = pca_obj.transform(X_train)\n",
    "X_test_pca = pca_obj.transform(X_test)\n",
    "foldid = glm_matlab.convert_sklearn_kfold_to_glmnet_foldid(7600, 5, seed=0)"
   ]
  },
  {
   "cell_type": "code",
   "execution_count": 13,
   "metadata": {},
   "outputs": [
    {
     "data": {
      "text/plain": [
       "((7600, 400), (1900, 400))"
      ]
     },
     "execution_count": 13,
     "metadata": {},
     "output_type": "execute_result"
    }
   ],
   "source": [
    "X_train_pca.shape, X_test_pca.shape"
   ]
  },
  {
   "cell_type": "code",
   "execution_count": 14,
   "metadata": {},
   "outputs": [],
   "source": [
    "# # use MATLAB example.\n",
    "# rng_state = np.random.RandomState(seed=0)\n",
    "# X = rng_state.randn(1000,20)\n",
    "# coef = np.zeros(20)\n",
    "# coef[[4, 9, 14]] = np.array([.4, .2, .3])\n",
    "# bias = 1\n",
    "# y_linear = X@coef + bias\n",
    "# foldid = glm_matlab.convert_sklearn_kfold_to_glmnet_foldid(1000, 5, seed=0)"
   ]
  },
  {
   "cell_type": "code",
   "execution_count": 15,
   "metadata": {},
   "outputs": [],
   "source": [
    "# # dummy data\n",
    "# # use MATLAB example.\n",
    "# rng_state = np.random.RandomState(seed=0)\n",
    "# X_train_pca = rng_state.randn(1000,5)\n",
    "# coef = np.zeros(5)\n",
    "# coef[[1, 3, 4]] = np.array([.4, .2, .3])\n",
    "# bias = 1\n",
    "# y_linear = X_train_pca@coef + bias\n",
    "# y_linear = y_linear[:,np.newaxis]\n",
    "# y_linear = np.log(np.exp(y_linear) + 1)\n",
    "# foldid = glm_matlab.convert_sklearn_kfold_to_glmnet_foldid(1000, 5, seed=0)"
   ]
  },
  {
   "cell_type": "code",
   "execution_count": 16,
   "metadata": {},
   "outputs": [],
   "source": [
    "# first, do Gaussian.\n",
    "def test_gaussian(X, y):\n",
    "    with Timer('Gaussian R'):\n",
    "        fit_R = glm.glmnet_cv(X, y, standardize=False, type_measure='mse',\n",
    "                            family='gaussian',\n",
    "                            foldid=foldid, alpha=1.0, keep=True)\n",
    "        predicted_y_R = glm.glmnet_extract_preval(fit_R, 'lambda.min')\n",
    "#     print(np.array(fit_R.rx2('lambda')), predicted_y_R.shape)\n",
    "    \n",
    "    # then let's use default value of matlab\n",
    "    with Timer('Gaussian MATLAB'):\n",
    "        predicted_y_matlab, fit_matlab = glm_matlab.glmnet_cv_best_result(X,y,standardize=False,\n",
    "                            family='gaussian',foldid=foldid, alpha=1.0, debug=True)\n",
    "#     print(fit_matlab['FitInfo']['Lambda'], predicted_y_matlab.shape)\n",
    "#     predicted_y_R, predicted_y_matlab\n",
    "\n",
    "    \n",
    "    # check their lambda\n",
    "    print(np.array(fit_R.rx2('lambda')),\n",
    "          fit_matlab['FitInfo']['Lambda'][0,0].ravel()[::-1])\n",
    "    # check their deviance\n",
    "    print(np.array(fit_R.rx2('cvm')),\n",
    "          fit_matlab['FitInfo']['Deviance'][0,0].ravel()[::-1]/1000)\n",
    "    \n",
    "    plt.close()\n",
    "    plt.figure()\n",
    "    plt.scatter(predicted_y_R, predicted_y_matlab)\n",
    "    plt.title(f'{pearsonr(predicted_y_R, predicted_y_matlab)[0]}')\n",
    "    plt.axis('equal')\n",
    "    plt.plot([-1,3],[-1,3])\n",
    "    plt.show()\n",
    "    \n",
    "    \n",
    "    plt.close()\n",
    "    plt.figure()\n",
    "    plt.scatter(y, predicted_y_matlab)\n",
    "    plt.title(f'{pearsonr(y.ravel(), predicted_y_matlab)[0]}')\n",
    "    plt.axis('equal')\n",
    "    plt.plot([0,3],[0,3])\n",
    "    plt.show()\n",
    "    return predicted_y_R, predicted_y_matlab"
   ]
  },
  {
   "cell_type": "code",
   "execution_count": 17,
   "metadata": {
    "scrolled": false
   },
   "outputs": [
    {
     "name": "stdout",
     "output_type": "stream",
     "text": [
      "[Gaussian R] Elapsed: 6.524343013763428\n",
      "\n",
      "                            < M A T L A B (R) >\n",
      "                  Copyright 1984-2016 The MathWorks, Inc.\n",
      "                   R2016b (9.1.0.441655) 64-bit (glnxa64)\n",
      "                             September 7, 2016\n",
      "\n",
      " \n",
      "To get started, type one of these: helpwin, helpdesk, or demo.\n",
      "For product information, visit www.mathworks.com.\n",
      " \n",
      ">> >> >> >> >> >> new CV\n",
      ">> >> \n",
      "[Gaussian MATLAB] Elapsed: 148.34660029411316\n",
      "[  1.56812570e-02   1.42881774e-02   1.30188551e-02   1.18622959e-02\n",
      "   1.08084822e-02   9.84828644e-03   8.97339181e-03   8.17622041e-03\n",
      "   7.44986753e-03   6.78804183e-03   6.18501090e-03   5.63555158e-03\n",
      "   5.13490471e-03   4.67873393e-03   4.26308810e-03   3.88436710e-03\n",
      "   3.53929064e-03   3.22486981e-03   2.93838126e-03   2.67734357e-03\n",
      "   2.43949575e-03   2.22277767e-03   2.02531223e-03   1.84538907e-03\n",
      "   1.68144979e-03   1.53207443e-03   1.39596916e-03   1.27195510e-03\n",
      "   1.15895812e-03   1.05599947e-03   9.62187391e-04   8.76709315e-04\n",
      "   7.98824876e-04   7.27859476e-04   6.63198446e-04   6.04281724e-04\n",
      "   5.50599001e-04   5.01685303e-04   4.57116964e-04   4.16507952e-04\n",
      "   3.79506534e-04   3.45792219e-04   3.15072992e-04   2.87082775e-04\n",
      "   2.61579133e-04   2.38341164e-04   2.17167592e-04   1.97875021e-04\n",
      "   1.80296350e-04   1.64279319e-04   1.49685197e-04   1.36387577e-04\n",
      "   1.24271280e-04   1.13231362e-04   1.03172200e-04   9.40066662e-05\n",
      "   8.56553731e-05   7.80459858e-05   7.11125955e-05   6.47951485e-05\n",
      "   5.90389261e-05   5.37940706e-05   4.90151537e-05   4.46607825e-05\n",
      "   4.06932417e-05   3.70781662e-05   3.37842441e-05   3.07829450e-05\n",
      "   2.80482730e-05   2.55565417e-05   2.32861690e-05   2.12174899e-05\n",
      "   1.93325866e-05   1.76151329e-05   1.60502530e-05   1.46243928e-05\n",
      "   1.33252020e-05   1.21414278e-05   1.10628168e-05   1.00800267e-05\n",
      "   9.18454489e-06   8.36861524e-06   7.62517052e-06   6.94777139e-06\n",
      "   6.33055053e-06   5.76816187e-06   5.25573427e-06   4.78882932e-06\n",
      "   4.36340292e-06   3.97577023e-06   3.62257376e-06   3.30075429e-06\n",
      "   3.00752438e-06   2.74034420e-06   2.49689958e-06   2.27508190e-06\n",
      "   2.07296989e-06   1.88881296e-06] [  1.56812570e-02   1.42881774e-02   1.30188551e-02   1.18622959e-02\n",
      "   1.08084822e-02   9.84828644e-03   8.97339181e-03   8.17622041e-03\n",
      "   7.44986753e-03   6.78804183e-03   6.18501090e-03   5.63555158e-03\n",
      "   5.13490471e-03   4.67873393e-03   4.26308810e-03   3.88436710e-03\n",
      "   3.53929064e-03   3.22486981e-03   2.93838126e-03   2.67734357e-03\n",
      "   2.43949575e-03   2.22277767e-03   2.02531223e-03   1.84538907e-03\n",
      "   1.68144979e-03   1.53207443e-03   1.39596916e-03   1.27195510e-03\n",
      "   1.15895812e-03   1.05599947e-03   9.62187391e-04   8.76709315e-04\n",
      "   7.98824876e-04   7.27859476e-04   6.63198446e-04   6.04281724e-04\n",
      "   5.50599001e-04   5.01685303e-04   4.57116964e-04   4.16507952e-04\n",
      "   3.79506534e-04   3.45792219e-04   3.15072992e-04   2.87082775e-04\n",
      "   2.61579133e-04   2.38341164e-04   2.17167592e-04   1.97875021e-04\n",
      "   1.80296350e-04   1.64279319e-04   1.49685197e-04   1.36387577e-04\n",
      "   1.24271280e-04   1.13231362e-04   1.03172200e-04   9.40066662e-05\n",
      "   8.56553731e-05   7.80459858e-05   7.11125955e-05   6.47951485e-05\n",
      "   5.90389261e-05   5.37940706e-05   4.90151537e-05   4.46607825e-05\n",
      "   4.06932417e-05   3.70781662e-05   3.37842441e-05   3.07829450e-05\n",
      "   2.80482730e-05   2.55565417e-05   2.32861690e-05   2.12174899e-05\n",
      "   1.93325866e-05   1.76151329e-05   1.60502530e-05   1.46243928e-05\n",
      "   1.33252020e-05   1.21414278e-05   1.10628168e-05   1.00800267e-05\n",
      "   9.18454489e-06   8.36861524e-06   7.62517052e-06   6.94777139e-06\n",
      "   6.33055053e-06   5.76816187e-06   5.25573427e-06   4.78882932e-06\n",
      "   4.36340292e-06   3.97577023e-06   3.62257376e-06   3.30075429e-06\n",
      "   3.00752438e-06   2.74034420e-06   2.49689958e-06   2.27508190e-06\n",
      "   2.07296989e-06   1.88881296e-06   1.72101602e-06   1.56812570e-06]\n",
      "[ 0.00977789  0.00977395  0.00976355  0.00974757  0.00973236  0.00971898\n",
      "  0.00970781  0.00969854  0.00969085  0.00968447  0.00967918  0.00967479\n",
      "  0.00967108  0.00966728  0.00966277  0.00965836  0.0096543   0.00965043\n",
      "  0.00964678  0.00964261  0.00963747  0.00963246  0.00962764  0.00962312\n",
      "  0.00961857  0.00961418  0.00961022  0.00960675  0.00960328  0.00960025\n",
      "  0.00959815  0.00959705  0.00959586  0.00959491  0.00959442  0.00959381\n",
      "  0.00959313  0.00959191  0.00959165  0.00959177  0.00959289  0.00959516\n",
      "  0.00959845  0.00960341  0.00960973  0.00961567  0.00962147  0.0096288\n",
      "  0.00963699  0.00964644  0.00965636  0.0096683   0.00968194  0.00969607\n",
      "  0.00971015  0.00972516  0.00974103  0.00975615  0.00977089  0.00978605\n",
      "  0.00980194  0.00981878  0.00983623  0.00985378  0.00987136  0.00988941\n",
      "  0.00990708  0.00992418  0.00994075  0.00995676  0.00997242  0.00998749\n",
      "  0.01000168  0.01001498  0.01002741  0.01003907  0.01004997  0.01006\n",
      "  0.01006918  0.01007755  0.01008525  0.01009251  0.01009919  0.01010536\n",
      "  0.01011107  0.01011633  0.01012116  0.01012561  0.01012969  0.01013344\n",
      "  0.01013689  0.01014007  0.010143    0.01014567  0.01014811  0.01015034\n",
      "  0.01015238  0.01015424] [ 0.07431299  0.07428742  0.07420852  0.0740835   0.07396658  0.07386427\n",
      "  0.07377938  0.07370894  0.07365049  0.073602    0.07356177  0.0735284\n",
      "  0.07350071  0.07347306  0.07343837  0.07340352  0.07337316  0.07334343\n",
      "  0.07331611  0.07328582  0.07324609  0.07320676  0.07317076  0.07313646\n",
      "  0.07310226  0.07306783  0.07303813  0.07301127  0.07298602  0.07296098\n",
      "  0.0729464   0.07293795  0.07292951  0.07292124  0.0729186   0.07291318\n",
      "  0.07290916  0.07289888  0.07289773  0.07289782  0.0729064   0.07292409\n",
      "  0.07294624  0.07298541  0.07303602  0.07308023  0.0731228   0.07317851\n",
      "  0.0732408   0.07331643  0.07338699  0.07347981  0.07358256  0.07369215\n",
      "  0.07379706  0.07391068  0.07403429  0.07414787  0.07425885  0.0743738\n",
      "  0.0744944   0.07462186  0.07475547  0.07488845  0.07502123  0.07516004\n",
      "  0.07529301  0.07542463  0.07554962  0.07567135  0.07579035  0.07590514\n",
      "  0.07601336  0.07611451  0.07620892  0.0762978   0.07638057  0.07645695\n",
      "  0.07652655  0.07659019  0.07664958  0.0767048   0.07675551  0.07680227\n",
      "  0.07684551  0.07688548  0.07692214  0.0769558   0.07698679  0.07701514\n",
      "  0.07704131  0.0770655   0.07708764  0.07710791  0.07712639  0.07714326\n",
      "  0.0771587   0.07717278  0.0771857   0.07719746]\n"
     ]
    },
    {
     "data": {
      "image/png": "[encoded data removed]",
      "text/plain": [
       "<matplotlib.figure.Figure at 0x7f7d196099b0>"
      ]
     },
     "metadata": {},
     "output_type": "display_data"
    },
    {
     "data": {
      "image/png": "[encoded data removed]",
      "text/plain": [
       "<matplotlib.figure.Figure at 0x7f7d51969f98>"
      ]
     },
     "metadata": {},
     "output_type": "display_data"
    }
   ],
   "source": [
    "y_R, y_matlab = test_gaussian(X_train_pca, y_train)"
   ]
  },
  {
   "cell_type": "code",
   "execution_count": 18,
   "metadata": {},
   "outputs": [],
   "source": [
    "# first, do Gaussian.\n",
    "def test_softplus(X, y):\n",
    "    with Timer('Gaussian R'):\n",
    "        fit_R = glm.glmnet_cv(X, y, standardize=False, type_measure='mse',\n",
    "                            family='gaussian',\n",
    "                            foldid=foldid, alpha=1.0, keep=True)\n",
    "        predicted_y_R = glm.glmnet_extract_preval(fit_R, 'lambda.min')\n",
    "#     print(np.array(fit_R.rx2('lambda')), predicted_y_R.shape)\n",
    "    \n",
    "    # then let's use default value of matlab\n",
    "    with Timer('softplus MATLAB'):\n",
    "        predicted_y_matlab, fit_matlab = glm_matlab.glmnet_cv_best_result(X,y,standardize=False,\n",
    "                            family='softplus',foldid=foldid, alpha=1.0, debug=True)\n",
    "#     print(fit_matlab['FitInfo']['Lambda'], predicted_y_matlab.shape)\n",
    "#     predicted_y_R, predicted_y_matlab\n",
    "\n",
    "    \n",
    "    # check their lambda\n",
    "    print(np.array(fit_R.rx2('lambda')),\n",
    "          fit_matlab['FitInfo']['Lambda'][0,0].ravel()[::-1])\n",
    "    # check their deviance\n",
    "    print(np.array(fit_R.rx2('cvm')),\n",
    "          fit_matlab['FitInfo']['Deviance'][0,0].ravel()[::-1]/1000)\n",
    "    \n",
    "    plt.close()\n",
    "    plt.figure()\n",
    "    plt.scatter(predicted_y_R, predicted_y_matlab)\n",
    "    plt.title(f'{pearsonr(predicted_y_R, predicted_y_matlab)[0]}')\n",
    "    plt.axis('equal')\n",
    "    plt.plot([-1,3],[-1,3])\n",
    "    plt.show()\n",
    "    \n",
    "    \n",
    "    plt.close()\n",
    "    plt.figure()\n",
    "    plt.scatter(y, predicted_y_matlab)\n",
    "    plt.title(f'{pearsonr(y.ravel(), predicted_y_matlab)[0]}')\n",
    "    plt.axis('equal')\n",
    "    plt.plot([0,3],[0,3])\n",
    "    plt.show()\n",
    "    return predicted_y_R, predicted_y_matlab"
   ]
  },
  {
   "cell_type": "code",
   "execution_count": 19,
   "metadata": {
    "scrolled": false
   },
   "outputs": [
    {
     "name": "stdout",
     "output_type": "stream",
     "text": [
      "[Gaussian R] Elapsed: 5.773368835449219\n",
      "\n",
      "                            < M A T L A B (R) >\n",
      "                  Copyright 1984-2016 The MathWorks, Inc.\n",
      "                   R2016b (9.1.0.441655) 64-bit (glnxa64)\n",
      "                             September 7, 2016\n",
      "\n",
      " \n",
      "To get started, type one of these: helpwin, helpdesk, or demo.\n",
      "For product information, visit www.mathworks.com.\n",
      " \n",
      ">> >> >> >> >> >> new CV\n",
      ">> >> \n",
      "[softplus MATLAB] Elapsed: 836.0217204093933\n",
      "[  1.56812570e-02   1.42881774e-02   1.30188551e-02   1.18622959e-02\n",
      "   1.08084822e-02   9.84828644e-03   8.97339181e-03   8.17622041e-03\n",
      "   7.44986753e-03   6.78804183e-03   6.18501090e-03   5.63555158e-03\n",
      "   5.13490471e-03   4.67873393e-03   4.26308810e-03   3.88436710e-03\n",
      "   3.53929064e-03   3.22486981e-03   2.93838126e-03   2.67734357e-03\n",
      "   2.43949575e-03   2.22277767e-03   2.02531223e-03   1.84538907e-03\n",
      "   1.68144979e-03   1.53207443e-03   1.39596916e-03   1.27195510e-03\n",
      "   1.15895812e-03   1.05599947e-03   9.62187391e-04   8.76709315e-04\n",
      "   7.98824876e-04   7.27859476e-04   6.63198446e-04   6.04281724e-04\n",
      "   5.50599001e-04   5.01685303e-04   4.57116964e-04   4.16507952e-04\n",
      "   3.79506534e-04   3.45792219e-04   3.15072992e-04   2.87082775e-04\n",
      "   2.61579133e-04   2.38341164e-04   2.17167592e-04   1.97875021e-04\n",
      "   1.80296350e-04   1.64279319e-04   1.49685197e-04   1.36387577e-04\n",
      "   1.24271280e-04   1.13231362e-04   1.03172200e-04   9.40066662e-05\n",
      "   8.56553731e-05   7.80459858e-05   7.11125955e-05   6.47951485e-05\n",
      "   5.90389261e-05   5.37940706e-05   4.90151537e-05   4.46607825e-05\n",
      "   4.06932417e-05   3.70781662e-05   3.37842441e-05   3.07829450e-05\n",
      "   2.80482730e-05   2.55565417e-05   2.32861690e-05   2.12174899e-05\n",
      "   1.93325866e-05   1.76151329e-05   1.60502530e-05   1.46243928e-05\n",
      "   1.33252020e-05   1.21414278e-05   1.10628168e-05   1.00800267e-05\n",
      "   9.18454489e-06   8.36861524e-06   7.62517052e-06   6.94777139e-06\n",
      "   6.33055053e-06   5.76816187e-06   5.25573427e-06   4.78882932e-06\n",
      "   4.36340292e-06   3.97577023e-06   3.62257376e-06   3.30075429e-06\n",
      "   3.00752438e-06   2.74034420e-06   2.49689958e-06   2.27508190e-06\n",
      "   2.07296989e-06   1.88881296e-06] [  2.77269470e-03   2.52637615e-03   2.30193985e-03   2.09744186e-03\n",
      "   1.91111091e-03   1.74133308e-03   1.58663785e-03   1.44568532e-03\n",
      "   1.31725462e-03   1.20023335e-03   1.09360793e-03   9.96454811e-04\n",
      "   9.07932512e-04   8.27274290e-04   7.53781522e-04   6.86817649e-04\n",
      "   6.25802662e-04   5.70208079e-04   5.19552364e-04   4.73396764e-04\n",
      "   4.31341501e-04   3.93022310e-04   3.58107292e-04   3.26294027e-04\n",
      "   2.97306965e-04   2.70895033e-04   2.46829465e-04   2.24901816e-04\n",
      "   2.04922158e-04   1.86717439e-04   1.70129976e-04   1.55016098e-04\n",
      "   1.41244895e-04   1.28697088e-04   1.17263993e-04   1.06846583e-04\n",
      "   9.73546273e-05   8.87059105e-05   8.08255219e-05   7.36452053e-05\n",
      "   6.71027682e-05   6.11415432e-05   5.57098971e-05   5.07607833e-05\n",
      "   4.62513353e-05   4.21424941e-05   3.83986711e-05   3.49874390e-05\n",
      "   3.18792513e-05   2.90471865e-05   2.64667145e-05   2.41154845e-05\n",
      "   2.19731314e-05   2.00210989e-05   1.82424797e-05   1.66218681e-05\n",
      "   1.51452271e-05   1.37997669e-05   1.25738336e-05   1.14568089e-05\n",
      "   1.04390176e-05   9.51164402e-06   8.66665578e-06   7.89673397e-06\n",
      "   7.19520989e-06   6.55600727e-06   5.97358965e-06   5.44291241e-06\n",
      "   4.95937908e-06   4.51880151e-06   4.11736364e-06   3.75158840e-06\n",
      "   3.41830763e-06   3.11463460e-06   2.83793904e-06   2.58582436e-06\n",
      "   2.35610685e-06   2.14679681e-06   1.95608130e-06   1.78230843e-06\n",
      "   1.62397306e-06   1.47970377e-06   1.34825096e-06   1.22847607e-06\n",
      "   1.11934164e-06   1.01990241e-06   9.29297092e-07   8.46740900e-07\n",
      "   7.71518772e-07   7.02979170e-07   6.40528438e-07   5.83625657e-07\n",
      "   5.31777963e-07   4.84536274e-07   4.41491407e-07   4.02270527e-07\n",
      "   3.66533922e-07   3.33972059e-07   3.04302901e-07   2.77269470e-07]\n",
      "[ 0.00977789  0.00977395  0.00976355  0.00974757  0.00973236  0.00971898\n",
      "  0.00970781  0.00969854  0.00969085  0.00968447  0.00967918  0.00967479\n",
      "  0.00967108  0.00966728  0.00966277  0.00965836  0.0096543   0.00965043\n",
      "  0.00964678  0.00964261  0.00963747  0.00963246  0.00962764  0.00962312\n",
      "  0.00961857  0.00961418  0.00961022  0.00960675  0.00960328  0.00960025\n",
      "  0.00959815  0.00959705  0.00959586  0.00959491  0.00959442  0.00959381\n",
      "  0.00959313  0.00959191  0.00959165  0.00959177  0.00959289  0.00959516\n",
      "  0.00959845  0.00960341  0.00960973  0.00961567  0.00962147  0.0096288\n",
      "  0.00963699  0.00964644  0.00965636  0.0096683   0.00968194  0.00969607\n",
      "  0.00971015  0.00972516  0.00974103  0.00975615  0.00977089  0.00978605\n",
      "  0.00980194  0.00981878  0.00983623  0.00985378  0.00987136  0.00988941\n",
      "  0.00990708  0.00992418  0.00994075  0.00995676  0.00997242  0.00998749\n",
      "  0.01000168  0.01001498  0.01002741  0.01003907  0.01004997  0.01006\n",
      "  0.01006918  0.01007755  0.01008525  0.01009251  0.01009919  0.01010536\n",
      "  0.01011107  0.01011633  0.01012116  0.01012561  0.01012969  0.01013344\n",
      "  0.01013689  0.01014007  0.010143    0.01014567  0.01014811  0.01015034\n",
      "  0.01015238  0.01015424] [ 0.07431175  0.07428496  0.07420356  0.0740783   0.0739619   0.0738608\n",
      "  0.07377758  0.07370902  0.07365249  0.07360585  0.07356735  0.07353555\n",
      "  0.07350798  0.0734731   0.07343671  0.07340264  0.07337275  0.07334125\n",
      "  0.07331331  0.07326801  0.07322355  0.07318016  0.07314186  0.07310171\n",
      "  0.07306419  0.07302978  0.07300055  0.07297241  0.07294777  0.0729272\n",
      "  0.07291935  0.07291514  0.07290904  0.07290301  0.07289586  0.07288709\n",
      "  0.07288458  0.07289278  0.07290723  0.07294203  0.07297375  0.07303786\n",
      "  0.07312347  0.07322778  0.0733734   0.07353097  0.0737107   0.07394752\n",
      "  0.07426013  0.07462256  0.07505646  0.07548102  0.07589134  0.07632287\n",
      "  0.07675521  0.07716985  0.07755899  0.0779278   0.07828614  0.07863958\n",
      "  0.07898508  0.0793226   0.07966787  0.08000861  0.08034126  0.08066245\n",
      "  0.08097401  0.08127369  0.08155505  0.08182043  0.08207319  0.08230932\n",
      "  0.08253079  0.08273889  0.08293672  0.08312383  0.08330009  0.08346639\n",
      "  0.08361965  0.08376151  0.08389323  0.08401413  0.08412635  0.08422949\n",
      "  0.08432373  0.08441016  0.08448908  0.0845613   0.08462749  0.08468824\n",
      "  0.08474367  0.08479427  0.08484043  0.08488286  0.08492149  0.08495685\n",
      "  0.08498923  0.08501879  0.08504574  0.08507038]\n"
     ]
    },
    {
     "data": {
      "image/png": "[encoded data removed]",
      "text/plain": [
       "<matplotlib.figure.Figure at 0x7f7d500aa7b8>"
      ]
     },
     "metadata": {},
     "output_type": "display_data"
    },
    {
     "data": {
      "image/png": "[encoded data removed]",
      "text/plain": [
       "<matplotlib.figure.Figure at 0x7f7d5010f4a8>"
      ]
     },
     "metadata": {},
     "output_type": "display_data"
    }
   ],
   "source": [
    "y_R, y_matlab = test_softplus(X_train_pca, y_train)"
   ]
  },
  {
   "cell_type": "code",
   "execution_count": 20,
   "metadata": {},
   "outputs": [],
   "source": [
    "# first, do Gaussian.\n",
    "def test_poisson(X, y):\n",
    "    with Timer('poisson R'):\n",
    "        fit_R = glm.glmnet_cv(X, y, standardize=False, type_measure='deviance',\n",
    "                            family='poisson',\n",
    "                            foldid=foldid, alpha=1.0, keep=True)\n",
    "        predicted_y_R = glm.glmnet_extract_preval(fit_R, 'lambda.min')\n",
    "#     print(np.array(fit_R.rx2('lambda')), predicted_y_R.shape)\n",
    "    \n",
    "    # then let's use default value of matlab\n",
    "    with Timer('poisson MATLAB'):\n",
    "        predicted_y_matlab, fit_matlab = glm_matlab.glmnet_cv_best_result(X,y,standardize=False,\n",
    "                            family='poisson',foldid=foldid, alpha=1.0, debug=True)\n",
    "#     print(fit_matlab['FitInfo']['Lambda'], predicted_y_matlab.shape)\n",
    "#     predicted_y_R, predicted_y_matlab\n",
    "\n",
    "    \n",
    "    # check their lambda\n",
    "    print(np.array(fit_R.rx2('lambda')),\n",
    "          fit_matlab['FitInfo']['Lambda'][0,0].ravel()[::-1])\n",
    "    # check their deviance\n",
    "    print(np.array(fit_R.rx2('cvm')),\n",
    "          fit_matlab['FitInfo']['Deviance'][0,0].ravel()[::-1]/1000)\n",
    "    \n",
    "    plt.close()\n",
    "    plt.figure()\n",
    "    plt.scatter(np.exp(predicted_y_R), predicted_y_matlab)\n",
    "    plt.title(f'{pearsonr(np.exp(predicted_y_R), predicted_y_matlab)[0]}')\n",
    "    plt.axis('equal')\n",
    "    plt.plot([-1,3],[-1,3])\n",
    "    plt.show()\n",
    "    \n",
    "    \n",
    "    plt.close()\n",
    "    plt.figure()\n",
    "    plt.scatter(y, predicted_y_matlab)\n",
    "    plt.title(f'{pearsonr(y.ravel(), predicted_y_matlab)[0]}')\n",
    "    plt.axis('equal')\n",
    "    plt.plot([0,3],[0,3])\n",
    "    plt.show()\n",
    "    return predicted_y_R, predicted_y_matlab"
   ]
  },
  {
   "cell_type": "code",
   "execution_count": 21,
   "metadata": {
    "scrolled": false
   },
   "outputs": [
    {
     "name": "stdout",
     "output_type": "stream",
     "text": [
      "[poisson R] Elapsed: 13.866532802581787\n",
      "\n",
      "                            < M A T L A B (R) >\n",
      "                  Copyright 1984-2016 The MathWorks, Inc.\n",
      "                   R2016b (9.1.0.441655) 64-bit (glnxa64)\n",
      "                             September 7, 2016\n",
      "\n",
      " \n",
      "To get started, type one of these: helpwin, helpdesk, or demo.\n",
      "For product information, visit www.mathworks.com.\n",
      " \n",
      ">> >> >> >> >> >> new CV\n",
      ">> >> \n",
      "[poisson MATLAB] Elapsed: 225.53727388381958\n",
      "[  1.56812570e-02   1.42881774e-02   1.30188551e-02   1.18622959e-02\n",
      "   1.08084822e-02   9.84828644e-03   8.97339181e-03   8.17622041e-03\n",
      "   7.44986753e-03   6.78804183e-03   6.18501090e-03   5.63555158e-03\n",
      "   5.13490471e-03   4.67873393e-03   4.26308810e-03   3.88436710e-03\n",
      "   3.53929064e-03   3.22486981e-03   2.93838126e-03   2.67734357e-03\n",
      "   2.43949575e-03   2.22277767e-03   2.02531223e-03   1.84538907e-03\n",
      "   1.68144979e-03   1.53207443e-03   1.39596916e-03   1.27195510e-03\n",
      "   1.15895812e-03   1.05599947e-03   9.62187391e-04   8.76709315e-04\n",
      "   7.98824876e-04   7.27859476e-04   6.63198446e-04   6.04281724e-04\n",
      "   5.50599001e-04   5.01685303e-04   4.57116964e-04   4.16507952e-04\n",
      "   3.79506534e-04   3.45792219e-04   3.15072992e-04   2.87082775e-04\n",
      "   2.61579133e-04   2.38341164e-04   2.17167592e-04   1.97875021e-04\n",
      "   1.80296350e-04   1.64279319e-04   1.49685197e-04   1.36387577e-04\n",
      "   1.24271280e-04   1.13231362e-04   1.03172200e-04   9.40066662e-05\n",
      "   8.56553731e-05   7.80459858e-05   7.11125955e-05   6.47951485e-05\n",
      "   5.90389261e-05   5.37940706e-05   4.90151537e-05   4.46607825e-05\n",
      "   4.06932417e-05   3.70781662e-05   3.37842441e-05   3.07829450e-05\n",
      "   2.80482730e-05   2.55565417e-05   2.32861690e-05   2.12174899e-05\n",
      "   1.93325866e-05   1.76151329e-05   1.60502530e-05   1.46243928e-05\n",
      "   1.33252020e-05   1.21414278e-05   1.10628168e-05   1.00800267e-05\n",
      "   9.18454489e-06   8.36861524e-06   7.62517052e-06   6.94777139e-06\n",
      "   6.33055053e-06   5.76816187e-06   5.25573427e-06   4.78882932e-06\n",
      "   4.36340292e-06   3.97577023e-06   3.62257376e-06   3.30075429e-06\n",
      "   3.00752438e-06   2.74034420e-06   2.49689958e-06   2.27508190e-06\n",
      "   2.07296989e-06   1.88881296e-06] [  1.56812570e-02   1.42881774e-02   1.30188551e-02   1.18622959e-02\n",
      "   1.08084822e-02   9.84828644e-03   8.97339181e-03   8.17622041e-03\n",
      "   7.44986753e-03   6.78804183e-03   6.18501090e-03   5.63555158e-03\n",
      "   5.13490471e-03   4.67873393e-03   4.26308810e-03   3.88436710e-03\n",
      "   3.53929064e-03   3.22486981e-03   2.93838126e-03   2.67734357e-03\n",
      "   2.43949575e-03   2.22277767e-03   2.02531223e-03   1.84538907e-03\n",
      "   1.68144979e-03   1.53207443e-03   1.39596916e-03   1.27195510e-03\n",
      "   1.15895812e-03   1.05599947e-03   9.62187391e-04   8.76709315e-04\n",
      "   7.98824876e-04   7.27859476e-04   6.63198446e-04   6.04281724e-04\n",
      "   5.50599001e-04   5.01685303e-04   4.57116964e-04   4.16507952e-04\n",
      "   3.79506534e-04   3.45792219e-04   3.15072992e-04   2.87082775e-04\n",
      "   2.61579133e-04   2.38341164e-04   2.17167592e-04   1.97875021e-04\n",
      "   1.80296350e-04   1.64279319e-04   1.49685197e-04   1.36387577e-04\n",
      "   1.24271280e-04   1.13231362e-04   1.03172200e-04   9.40066662e-05\n",
      "   8.56553731e-05   7.80459858e-05   7.11125955e-05   6.47951485e-05\n",
      "   5.90389261e-05   5.37940706e-05   4.90151537e-05   4.46607825e-05\n",
      "   4.06932417e-05   3.70781662e-05   3.37842441e-05   3.07829450e-05\n",
      "   2.80482730e-05   2.55565417e-05   2.32861690e-05   2.12174899e-05\n",
      "   1.93325866e-05   1.76151329e-05   1.60502530e-05   1.46243928e-05\n",
      "   1.33252020e-05   1.21414278e-05   1.10628168e-05   1.00800267e-05\n",
      "   9.18454489e-06   8.36861524e-06   7.62517052e-06   6.94777139e-06\n",
      "   6.33055053e-06   5.76816187e-06   5.25573427e-06   4.78882932e-06\n",
      "   4.36340292e-06   3.97577023e-06   3.62257376e-06   3.30075429e-06\n",
      "   3.00752438e-06   2.74034420e-06   2.49689958e-06   2.27508190e-06\n",
      "   2.07296989e-06   1.88881296e-06   1.72101602e-06   1.56812570e-06]\n",
      "[ 0.0316291   0.03160891  0.03155566  0.03147386  0.03139622  0.03132815\n",
      "  0.03127142  0.03122446  0.03118557  0.03115337  0.0311267   0.0311046\n",
      "  0.03108604  0.03106742  0.03104533  0.03102332  0.03100313  0.03098394\n",
      "  0.03096585  0.03094586  0.03092045  0.03089582  0.03087231  0.03085011\n",
      "  0.03082764  0.03080595  0.03078602  0.03076841  0.03075125  0.03073667\n",
      "  0.03072614  0.03072062  0.03071459  0.03070944  0.03070669  0.030704\n",
      "  0.03070148  0.03069636  0.03069499  0.03069555  0.03070192  0.03071401\n",
      "  0.03073052  0.03075512  0.03078656  0.03081617  0.03084339  0.03087726\n",
      "  0.03091464  0.03095605  0.0309997   0.03105102  0.03111035  0.03116926\n",
      "  0.03122979  0.03129187  0.03135499  0.03141739  0.03147646  0.0315391\n",
      "  0.03160482  0.03167351  0.03174432  0.03181867  0.03189635  0.03197279\n",
      "  0.03204685  0.03211936  0.03218954  0.03225718  0.03232262  0.03238548\n",
      "  0.03244569  0.0325033   0.0325582   0.03260969  0.03265793  0.03270319\n",
      "  0.03274556  0.0327853   0.03282285  0.03285784  0.03289032  0.03291996\n",
      "  0.03294664  0.03297167  0.03299447  0.0330159   0.03303582  0.03305419\n",
      "  0.03307111  0.03308672  0.03310111  0.03311431  0.03312642  0.03313752\n",
      "  0.03314772  0.03315706] [ 0.24038626  0.24025535  0.23985124  0.23921135  0.23861456  0.23809378\n",
      "  0.23766271  0.23730582  0.23701031  0.23676558  0.23656287  0.23639497\n",
      "  0.23625588  0.23611979  0.23595012  0.23577723  0.23562526  0.23547965\n",
      "  0.23534255  0.23519834  0.23500135  0.23481249  0.23463205  0.23446478\n",
      "  0.23429586  0.2341259   0.23397654  0.23383944  0.23371342  0.23359421\n",
      "  0.23352054  0.23347971  0.23343587  0.23339239  0.23337501  0.23335249\n",
      "  0.23333786  0.23329564  0.23328775  0.23328575  0.23333572  0.23343038\n",
      "  0.23354258  0.23373788  0.23398905  0.2342079   0.23441137  0.23466611\n",
      "  0.23495271  0.23528212  0.23559681  0.2359968   0.23644221  0.23689236\n",
      "  0.23734823  0.23782038  0.23830635  0.23877351  0.23922479  0.23969845\n",
      "  0.24019332  0.24071738  0.24125375  0.24182076  0.24241375  0.24298986\n",
      "  0.24355578  0.2441071   0.24464045  0.24515377  0.24565161  0.24612916\n",
      "  0.24658707  0.24702369  0.24744265  0.24783414  0.24819962  0.24854423\n",
      "  0.24886619  0.24916844  0.24945399  0.2497201   0.24996691  0.25019372\n",
      "  0.2504019   0.25059474  0.2507736   0.25093832  0.25108875  0.25122716\n",
      "  0.251355    0.25147265  0.25158125  0.25168069  0.25177177  0.25185519\n",
      "  0.25193209  0.25200231  0.25206647  0.252125  ]\n"
     ]
    },
    {
     "data": {
      "image/png": "[encoded data removed]",
      "text/plain": [
       "<matplotlib.figure.Figure at 0x7f7d07aa0f28>"
      ]
     },
     "metadata": {},
     "output_type": "display_data"
    },
    {
     "data": {
      "image/png": "[encoded data removed]",
      "text/plain": [
       "<matplotlib.figure.Figure at 0x7f7d09435f98>"
      ]
     },
     "metadata": {},
     "output_type": "display_data"
    }
   ],
   "source": [
    "y_R, y_matlab = test_poisson(X_train_pca, y_train)"
   ]
  }
 ],
 "metadata": {
  "kernelspec": {
   "display_name": "Python 3",
   "language": "python",
   "name": "python3"
  },
  "language_info": {
   "codemirror_mode": {
    "name": "ipython",
    "version": 3
   },
   "file_extension": ".py",
   "mimetype": "text/x-python",
   "name": "python",
   "nbconvert_exporter": "python",
   "pygments_lexer": "ipython3",
   "version": "3.6.4"
  }
 },
 "nbformat": 4,
 "nbformat_minor": 2
}

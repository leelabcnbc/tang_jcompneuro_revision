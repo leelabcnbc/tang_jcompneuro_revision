{
 "cells": [
  {
   "cell_type": "markdown",
   "metadata": {},
   "source": [
    "this notebook makes sure that the rewritten GLM preprocessing pipelines works the same as before.\n",
    "\n",
    "they are compared against files `glm_fitting_preprocessed_all.hdf5` and `glm_fitting_preprocessed_OT.hdf5` under `/private_data`."
   ]
  },
  {
   "cell_type": "code",
   "execution_count": 1,
   "metadata": {},
   "outputs": [],
   "source": [
    "%matplotlib inline\n",
    "import matplotlib.pyplot as plt"
   ]
  },
  {
   "cell_type": "code",
   "execution_count": 2,
   "metadata": {},
   "outputs": [],
   "source": [
    "from tang_jcompneuro import glm_data_preprocessing\n",
    "import h5py\n",
    "import os.path\n",
    "import numpy as np\n",
    "from tang_jcompneuro import dir_dictionary\n",
    "from tang_jcompneuro.io import load_image_dataset, neural_dataset_dict"
   ]
  },
  {
   "cell_type": "code",
   "execution_count": 3,
   "metadata": {},
   "outputs": [],
   "source": [
    "def callback_show(name, obj):\n",
    "    if isinstance(obj, h5py.Dataset):\n",
    "        print(name, obj.shape)\n",
    "\n",
    "def list_datasets():\n",
    "    with h5py.File(os.path.join(dir_dictionary['private_data'], 'glm_fitting_preprocessed_all.hdf5'), 'r') as f:\n",
    "        f.visititems(callback_show)"
   ]
  },
  {
   "cell_type": "code",
   "execution_count": 4,
   "metadata": {},
   "outputs": [
    {
     "name": "stdout",
     "output_type": "stream",
     "text": [
      "MkA_Shape/half/0/None (9500, 800)\n",
      "MkA_Shape/half/2/pca_random_sep (9500, 1032)\n",
      "MkA_Shape/half/4/pca_random_sep (9500, 1032)\n",
      "MkA_Shape/half/8/pca_random_sep (9500, 1032)\n",
      "MkA_Shape/half/fpower/None (9500, 400)\n",
      "MkA_Shape/half/linear/None (9500, 400)\n",
      "MkA_Shape/y (9500, 1142)\n",
      "MkE2_Shape/half/0/None (4605, 800)\n",
      "MkE2_Shape/half/2/pca_random_sep (4605, 1032)\n",
      "MkE2_Shape/half/4/pca_random_sep (4605, 1032)\n",
      "MkE2_Shape/half/8/pca_random_sep (4605, 1032)\n",
      "MkE2_Shape/half/fpower/None (4605, 400)\n",
      "MkE2_Shape/half/linear/None (4605, 400)\n",
      "MkE2_Shape/y (4605, 979)\n"
     ]
    }
   ],
   "source": [
    "list_datasets()"
   ]
  },
  {
   "cell_type": "code",
   "execution_count": 5,
   "metadata": {},
   "outputs": [],
   "source": [
    "key_mapping = {\n",
    "    'linear': 'half/linear/None',\n",
    "    'fpower': 'half/fpower/None',\n",
    "    'gqm.2': 'half/2/pca_random_sep',\n",
    "    'gqm.4': 'half/4/pca_random_sep',\n",
    "    'gqm.8': 'half/8/pca_random_sep',\n",
    "}\n"
   ]
  },
  {
   "cell_type": "code",
   "execution_count": 6,
   "metadata": {},
   "outputs": [],
   "source": [
    "transformer_dict = glm_data_preprocessing.generate_transformer_dict(glm_data_preprocessing.max_total_dim_debug)"
   ]
  },
  {
   "cell_type": "code",
   "execution_count": 7,
   "metadata": {},
   "outputs": [
    {
     "data": {
      "text/plain": [
       "{'fpower': (tang_jcompneuro.glm_data_preprocessing.FPGLMPreprocessor, {}),\n",
       " 'gqm.2': (tang_jcompneuro.glm_data_preprocessing.GQMPreprocessor,\n",
       "  {'locality': 2, 'max_total_dim': 1032}),\n",
       " 'gqm.4': (tang_jcompneuro.glm_data_preprocessing.GQMPreprocessor,\n",
       "  {'locality': 4, 'max_total_dim': 1032}),\n",
       " 'gqm.8': (tang_jcompneuro.glm_data_preprocessing.GQMPreprocessor,\n",
       "  {'locality': 8, 'max_total_dim': 1032}),\n",
       " 'linear': (tang_jcompneuro.glm_data_preprocessing.VanillaGLMPreprocessor, {})}"
      ]
     },
     "execution_count": 7,
     "metadata": {},
     "output_type": "execute_result"
    }
   ],
   "source": [
    "transformer_dict"
   ]
  },
  {
   "cell_type": "code",
   "execution_count": 8,
   "metadata": {},
   "outputs": [],
   "source": [
    "# del transformer_dict['gqm.4']\n",
    "# del transformer_dict['gqm.8']\n",
    "# del transformer_dict['linear']\n",
    "# del transformer_dict['fpower']"
   ]
  },
  {
   "cell_type": "code",
   "execution_count": 9,
   "metadata": {},
   "outputs": [],
   "source": [
    "from sklearn.decomposition import PCA\n",
    "from strflab.feature_transformation import quadratic_features\n",
    "from scipy.stats import pearsonr\n",
    "\n",
    "def legacy_trans(X, loc, new_trans=False):\n",
    "    x_flat = X.reshape(len(X), -1)\n",
    "    X_flat_q = quadratic_features(X, locality=(0, loc, loc))\n",
    "    # let's check amount of variance contributed by X_flat and X_flat_q\n",
    "    x_flat_all_this = np.concatenate((x_flat, X_flat_q), axis=1)\n",
    "#     print(x_flat_all_this.shape, 'debug legacy')\n",
    "    assert x_flat.shape[1] == 400\n",
    "    size_x_linear = 400\n",
    "    \n",
    "    threshold_num_feature = 1032\n",
    "    num_feature = x_flat_all_this.shape[1]\n",
    "\n",
    "#     if num_feature <= threshold_num_feature:\n",
    "#         # sometimes, X_flat_all_this.shape[0] can be small, so that in the end PCA have even\n",
    "#         # smaller dims than original. That's fine. We don't do cross-dataset testing,\n",
    "#         # and won't have any issue.\n",
    "#         method_name = 'None'\n",
    "#     else:\n",
    "#         # do PCA.\n",
    "#         method_name = 'pca_random_sep'\n",
    "    \n",
    "#     assert method_name == 'pca_random_sep'\n",
    "    \n",
    "#     if method_name == 'None':\n",
    "#         explained_var = 1.0\n",
    "#         pca_obj = PCA(svd_solver='full', n_components=None)\n",
    "#         x_to_use = pca_obj.fit_transform(x_flat_all_this)\n",
    "#         # remixing makes convergence faster.\n",
    "#     elif method_name == 'pca_random_sep':\n",
    "    pca_feature = min(num_feature - size_x_linear,\n",
    "                      threshold_num_feature - size_x_linear,\n",
    "                      x_flat_all_this.shape[0])\n",
    "    assert pca_feature > 1\n",
    "    pca_obj = PCA(svd_solver='randomized', n_components=pca_feature,\n",
    "                  random_state=0)\n",
    "    pca_sep_input = x_flat_all_this[:, size_x_linear:]\n",
    "    \n",
    "#     print(pca_sep_input.std(), 'legacy debug')\n",
    "    \n",
    "    if new_trans:\n",
    "        # this is used in new transformer code.\n",
    "        x_to_use = pca_obj.fit(pca_sep_input).transform(pca_sep_input)\n",
    "    else:\n",
    "        # this is used in original code.\n",
    "        x_to_use = pca_obj.fit_transform(pca_sep_input)\n",
    "#     print(x_to_use.std(), x_to_use.mean(), x_to_use2.std(), x_to_use2.mean(), 'legacy debug')\n",
    "    \n",
    "#     print(pearsonr(x_to_use.ravel(), x_to_use2.ravel())[0],\n",
    "#          abs(x_to_use2-x_to_use).max())\n",
    "    \n",
    "    assert x_to_use.shape[1] == pca_feature\n",
    "    explained_var = np.cumsum(pca_obj.explained_variance_ratio_)\n",
    "    pca_sep_final_input = np.concatenate([x_flat_all_this[:, :size_x_linear],\n",
    "                                          x_to_use], axis=1)\n",
    "    \n",
    "#     print(pca_sep_final_input1.std(), pca_sep_final_input1.mean(),\n",
    "#           pca_sep_final_input2.std(), pca_sep_final_input2.mean(), 'legacy debug final output')\n",
    "#     print(abs(pca_sep_final_input1-pca_sep_final_input2).max(), 'legacy debug final output')\n",
    "    pca_obj = PCA(svd_solver='full', n_components=None)\n",
    "    x_to_use = pca_obj.fit_transform(pca_sep_final_input)\n",
    "    return x_to_use"
   ]
  },
  {
   "cell_type": "code",
   "execution_count": 10,
   "metadata": {},
   "outputs": [],
   "source": [
    "def check_one_case(neural_dataset, subset):\n",
    "    # load X in this neural dataset, using legacy method of resizing image.\n",
    "    image_key = neural_dataset_dict[neural_dataset]['image_dataset_key']\n",
    "    imageX = load_image_dataset(image_key, trans=True, scale=0.5, subset=subset, legacy_rescale=True)\n",
    "    imageX_copy = imageX.copy()\n",
    "    # then generate transformers\n",
    "    #\n",
    "    rng_state = np.random.RandomState(seed=0)\n",
    "    \n",
    "    for k, (class_this, kwargs) in transformer_dict.items():\n",
    "        print(k)\n",
    "        transformer_this: glm_data_preprocessing.GLMDataPreprocesser = class_this(**kwargs)\n",
    "        transformer_this.get_transformer(imageX)\n",
    "        explained_var_ratio_cumsum = np.cumsum(transformer_this.per_dim_var)\n",
    "        X_transed = transformer_this.transform(imageX)\n",
    "        # print(X_transed.shape)\n",
    "        # assert explained_var_ratio_cumsum.shape == (X_transed.shape[1],)\n",
    "        \n",
    "        # compare with reference data.\n",
    "        with h5py.File(os.path.join(dir_dictionary['private_data'], f'glm_fitting_preprocessed_{subset}.hdf5'), 'r') as f_ref:\n",
    "            X_transed_ref = f_ref[f'{neural_dataset}/' + key_mapping[k]][...]\n",
    "            explained_var_ratio_cumsum_ref = f_ref[f'{neural_dataset}/' + key_mapping[k]].attrs['explained_var']\n",
    "        \n",
    "        if k in {'linear', 'fpower'}:\n",
    "            assert explained_var_ratio_cumsum_ref == 1.0\n",
    "            assert abs(explained_var_ratio_cumsum[-1]-1) < 1e-6\n",
    "        else:\n",
    "            assert explained_var_ratio_cumsum_ref.shape == explained_var_ratio_cumsum.shape\n",
    "            assert abs(explained_var_ratio_cumsum-explained_var_ratio_cumsum_ref).max() < 1e-6\n",
    "        \n",
    "        \n",
    "        assert X_transed.shape == X_transed_ref.shape\n",
    "        print(abs(X_transed_ref-X_transed).max())\n",
    "        \n",
    "        \n",
    "        if not abs(X_transed_ref-X_transed).max() < 1e-6:\n",
    "            assert 'gqm' in k\n",
    "            print('NOT match! but possibly due to difference of fit.transform vs fit_transform')\n",
    "            print(np.sum(abs(X_transed_ref-X_transed)>=1e-6))\n",
    "            plt.close('all')\n",
    "            plt.hist(X_transed_ref.ravel()-X_transed.ravel())\n",
    "            plt.show()\n",
    "            \n",
    "            X_transed_legacy_oldtrans = legacy_trans(imageX, transformer_this.locality, False)\n",
    "            assert X_transed.shape == X_transed_legacy_oldtrans.shape\n",
    "            print('debug', abs(X_transed_legacy_oldtrans-X_transed_ref).max())\n",
    "            assert abs(X_transed_legacy_oldtrans-X_transed_ref).max() < 1e-6\n",
    "            \n",
    "            X_transed_legacy_newtrans = legacy_trans(imageX, transformer_this.locality, True)\n",
    "            assert X_transed.shape == X_transed_legacy_newtrans.shape\n",
    "        \n",
    "            print('debug', abs(X_transed_legacy_newtrans-X_transed).max())\n",
    "            assert abs(X_transed_legacy_newtrans-X_transed).max() < 1e-6\n",
    "        \n",
    "        \n",
    "        \n",
    "#         assert abs(X_transed_ref-X_transed).max() < 1e-6\n",
    "        # finally, (partially) make sure that I did not mistakenly use old data.\n",
    "        perm_idx_this = rng_state.permutation(imageX.shape[0])\n",
    "        \n",
    "        X_transed_debug = np.empty_like(X_transed)\n",
    "        \n",
    "#         for idx_aaa, idx_this in enumerate(perm_idx_this):\n",
    "#             if idx_aaa % 10 == 0:\n",
    "#                 print(idx_aaa)\n",
    "#             X_transed_debug[idx_this:idx_this+1] = transformer_this.transform(imageX[idx_this:idx_this+1])\n",
    "        # break to two blocks\n",
    "        X_transed_debug[perm_idx_this[:100]] =  transformer_this.transform(imageX[perm_idx_this[:100]])\n",
    "        X_transed_debug[perm_idx_this[100:]] =  transformer_this.transform(imageX[perm_idx_this[100:]])\n",
    "        \n",
    "        assert X_transed.shape == X_transed_debug.shape\n",
    "        print(abs(X_transed_debug-X_transed).max(), 'difference between one-batch and two-batch with permutation')\n",
    "        # this is not zero probably due to blas lib.\n",
    "        assert abs(X_transed_debug-X_transed).max() < 1e-6\n",
    "        \n",
    "        # finally, check statelessness.\n",
    "        assert np.array_equal(transformer_this.transform(imageX_copy),\n",
    "                              X_transed)"
   ]
  },
  {
   "cell_type": "code",
   "execution_count": 11,
   "metadata": {
    "scrolled": false
   },
   "outputs": [
    {
     "name": "stdout",
     "output_type": "stream",
     "text": [
      "linear\n",
      "9.85878045867e-14\n",
      "7.1054273576e-15 difference between one-batch and two-batch with permutation\n",
      "fpower\n",
      "2.77555756156e-15\n",
      "6.66133814775e-16 difference between one-batch and two-batch with permutation\n",
      "gqm.2\n",
      "3.22279009035e-12\n",
      "1.7763568394e-14 difference between one-batch and two-batch with permutation\n",
      "gqm.4\n",
      "1.14841469667e-11\n",
      "4.26325641456e-14 difference between one-batch and two-batch with permutation\n",
      "gqm.8\n",
      "1.83462134373e-11\n",
      "4.26325641456e-14 difference between one-batch and two-batch with permutation\n"
     ]
    }
   ],
   "source": [
    "check_one_case('MkA_Shape', 'OT')"
   ]
  },
  {
   "cell_type": "code",
   "execution_count": 12,
   "metadata": {},
   "outputs": [
    {
     "name": "stdout",
     "output_type": "stream",
     "text": [
      "linear\n",
      "2.02948768901e-13\n",
      "3.5527136788e-15 difference between one-batch and two-batch with permutation\n",
      "fpower\n",
      "6.69603261727e-15\n",
      "2.77555756156e-16 difference between one-batch and two-batch with permutation\n",
      "gqm.2\n",
      "2.65681496192\n",
      "NOT match! but possibly due to difference of fit.transform vs fit_transform\n",
      "9714840\n"
     ]
    },
    {
     "data": {
      "image/png": "[encoded data removed]",
      "text/plain": [
       "<matplotlib.figure.Figure at 0x7fa985ad6518>"
      ]
     },
     "metadata": {},
     "output_type": "display_data"
    },
    {
     "name": "stdout",
     "output_type": "stream",
     "text": [
      "debug 0.0\n",
      "debug 7.38964445191e-13\n",
      "4.97379915032e-14 difference between one-batch and two-batch with permutation\n",
      "gqm.4\n",
      "7.61675028604e-11\n",
      "3.5527136788e-14 difference between one-batch and two-batch with permutation\n",
      "gqm.8\n",
      "2.11581863141e-11\n",
      "5.68434188608e-14 difference between one-batch and two-batch with permutation\n"
     ]
    }
   ],
   "source": [
    "check_one_case('MkA_Shape', 'all')"
   ]
  },
  {
   "cell_type": "code",
   "execution_count": 13,
   "metadata": {},
   "outputs": [
    {
     "name": "stdout",
     "output_type": "stream",
     "text": [
      "linear\n",
      "9.28146448587e-14\n",
      "3.5527136788e-15 difference between one-batch and two-batch with permutation\n",
      "fpower\n",
      "1.49880108324e-15\n",
      "5.55111512313e-16 difference between one-batch and two-batch with permutation\n",
      "gqm.2\n",
      "2.04103400847e-12\n",
      "2.48689957516e-14 difference between one-batch and two-batch with permutation\n",
      "gqm.4\n",
      "9.85991843727e-12\n",
      "2.48689957516e-14 difference between one-batch and two-batch with permutation\n",
      "gqm.8\n",
      "1.01152419774e-11\n",
      "5.68434188608e-14 difference between one-batch and two-batch with permutation\n"
     ]
    }
   ],
   "source": [
    "check_one_case('MkE2_Shape', 'OT')"
   ]
  },
  {
   "cell_type": "code",
   "execution_count": 14,
   "metadata": {},
   "outputs": [
    {
     "name": "stdout",
     "output_type": "stream",
     "text": [
      "linear\n",
      "8.59937121511e-14\n",
      "3.99680288865e-15 difference between one-batch and two-batch with permutation\n",
      "fpower\n",
      "2.12753457399e-15\n",
      "2.22044604925e-16 difference between one-batch and two-batch with permutation\n",
      "gqm.2\n",
      "1.13438147764e-11\n",
      "4.26325641456e-14 difference between one-batch and two-batch with permutation\n",
      "gqm.4\n",
      "2.46922482461e-11\n",
      "3.5527136788e-14 difference between one-batch and two-batch with permutation\n",
      "gqm.8\n",
      "2.88049584185e-11\n",
      "3.5527136788e-14 difference between one-batch and two-batch with permutation\n"
     ]
    }
   ],
   "source": [
    "check_one_case('MkE2_Shape', 'all')"
   ]
  }
 ],
 "metadata": {
  "kernelspec": {
   "display_name": "Python 3",
   "language": "python",
   "name": "python3"
  },
  "language_info": {
   "codemirror_mode": {
    "name": "ipython",
    "version": 3
   },
   "file_extension": ".py",
   "mimetype": "text/x-python",
   "name": "python",
   "nbconvert_exporter": "python",
   "pygments_lexer": "ipython3",
   "version": "3.6.4"
  }
 },
 "nbformat": 4,
 "nbformat_minor": 2
}

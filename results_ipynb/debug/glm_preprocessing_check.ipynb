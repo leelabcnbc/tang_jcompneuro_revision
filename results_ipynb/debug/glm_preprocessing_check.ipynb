{
 "cells": [
  {
   "cell_type": "markdown",
   "metadata": {},
   "source": [
    "this notebook makes sure that the rewritten GLM preprocessing pipelines works the same as before.\n",
    "\n",
    "they are compared against files `glm_fitting_preprocessed_all.hdf5` and `glm_fitting_preprocessed_OT.hdf5` under `/private_data`."
   ]
  },
  {
   "cell_type": "code",
   "execution_count": 1,
   "metadata": {},
   "outputs": [],
   "source": [
    "%matplotlib inline\n",
    "import matplotlib.pyplot as plt"
   ]
  },
  {
   "cell_type": "code",
   "execution_count": 2,
   "metadata": {},
   "outputs": [],
   "source": [
    "from tang_jcompneuro import glm_data_preprocessing\n",
    "import h5py\n",
    "import os.path\n",
    "import numpy as np\n",
    "from tang_jcompneuro import dir_dictionary\n",
    "from tang_jcompneuro.io import load_image_dataset, neural_dataset_dict"
   ]
  },
  {
   "cell_type": "code",
   "execution_count": 3,
   "metadata": {},
   "outputs": [],
   "source": [
    "from sklearn.decomposition import PCA\n",
    "from strflab.feature_transformation import quadratic_features\n",
    "from scipy.stats import pearsonr"
   ]
  },
  {
   "cell_type": "code",
   "execution_count": 4,
   "metadata": {},
   "outputs": [
    {
     "name": "stdout",
     "output_type": "stream",
     "text": [
      "1032\n"
     ]
    }
   ],
   "source": [
    "print(glm_data_preprocessing.max_total_dim_debug)"
   ]
  },
  {
   "cell_type": "code",
   "execution_count": 5,
   "metadata": {},
   "outputs": [],
   "source": [
    "transformer_dict = glm_data_preprocessing.generate_transformer_dict(glm_data_preprocessing.max_total_dim_debug)\n",
    "\n",
    "def check_one_case(neural_dataset, subset):\n",
    "    # load X in this neural dataset, using legacy method of resizing image.\n",
    "    image_key = neural_dataset_dict[neural_dataset]['image_dataset_key']\n",
    "    imageX = load_image_dataset(image_key, trans=True, scale=0.5, subset=subset, legacy_rescale=True)\n",
    "    imageX_copy = imageX.copy()\n",
    "    # then generate transformers\n",
    "    #\n",
    "    rng_state = np.random.RandomState(seed=0)\n",
    "    \n",
    "    for k, (class_this, kwargs) in transformer_dict.items():\n",
    "        print(k)\n",
    "        transformer_this: glm_data_preprocessing.GLMDataPreprocesser = class_this(**kwargs)\n",
    "        transformer_this.get_transformer(imageX)"
   ]
  },
  {
   "cell_type": "code",
   "execution_count": 6,
   "metadata": {
    "scrolled": true
   },
   "outputs": [
    {
     "name": "stdout",
     "output_type": "stream",
     "text": [
      "linear\n",
      "fpower\n",
      "gqm.2\n",
      "preserved quadratic variance: 0.995074989877\n",
      "gqm.4\n",
      "preserved quadratic variance: 0.993824310694\n",
      "gqm.8\n",
      "preserved quadratic variance: 0.993044113738\n"
     ]
    }
   ],
   "source": [
    "check_one_case('MkA_Shape', 'OT')"
   ]
  },
  {
   "cell_type": "code",
   "execution_count": 7,
   "metadata": {},
   "outputs": [
    {
     "name": "stdout",
     "output_type": "stream",
     "text": [
      "linear\n",
      "fpower\n",
      "gqm.2\n",
      "preserved quadratic variance: 0.986758892781\n",
      "gqm.4\n",
      "preserved quadratic variance: 0.976930434299\n",
      "gqm.8\n",
      "preserved quadratic variance: 0.961685373888\n"
     ]
    }
   ],
   "source": [
    "check_one_case('MkA_Shape', 'all')"
   ]
  },
  {
   "cell_type": "code",
   "execution_count": 8,
   "metadata": {},
   "outputs": [
    {
     "name": "stdout",
     "output_type": "stream",
     "text": [
      "linear\n",
      "fpower\n",
      "gqm.2\n",
      "preserved quadratic variance: 0.999751465892\n",
      "gqm.4\n",
      "preserved quadratic variance: 0.999665268642\n",
      "gqm.8\n",
      "preserved quadratic variance: 0.999575061212\n"
     ]
    }
   ],
   "source": [
    "check_one_case('MkE2_Shape', 'OT')"
   ]
  },
  {
   "cell_type": "code",
   "execution_count": 9,
   "metadata": {},
   "outputs": [
    {
     "name": "stdout",
     "output_type": "stream",
     "text": [
      "linear\n",
      "fpower\n",
      "gqm.2\n",
      "preserved quadratic variance: 0.990466258259\n",
      "gqm.4\n",
      "preserved quadratic variance: 0.982557711282\n",
      "gqm.8\n",
      "preserved quadratic variance: 0.971118202785\n"
     ]
    }
   ],
   "source": [
    "check_one_case('MkE2_Shape', 'all')"
   ]
  },
  {
   "cell_type": "code",
   "execution_count": 10,
   "metadata": {},
   "outputs": [
    {
     "name": "stdout",
     "output_type": "stream",
     "text": [
      "linear\n",
      "fpower\n",
      "gqm.2\n",
      "preserved quadratic variance: 0.990414763981\n",
      "gqm.4\n",
      "preserved quadratic variance: 0.98856944975\n",
      "gqm.8\n",
      "preserved quadratic variance: 0.987522205797\n",
      "linear\n",
      "fpower\n",
      "gqm.2\n",
      "preserved quadratic variance: 0.980934627826\n",
      "gqm.4\n",
      "preserved quadratic variance: 0.969386039232\n",
      "gqm.8\n",
      "preserved quadratic variance: 0.951736900949\n",
      "linear\n",
      "fpower\n",
      "gqm.2\n",
      "preserved quadratic variance: 0.997946116039\n",
      "gqm.4\n",
      "preserved quadratic variance: 0.997665815228\n",
      "gqm.8\n",
      "preserved quadratic variance: 0.997347255508\n",
      "linear\n",
      "fpower\n",
      "gqm.2\n",
      "preserved quadratic variance: 0.985065801936\n",
      "gqm.4\n",
      "preserved quadratic variance: 0.975252558576\n",
      "gqm.8\n",
      "preserved quadratic variance: 0.961373733006\n"
     ]
    }
   ],
   "source": [
    "# 883 is the 9 channel version.\n",
    "# lower than that, we can't make the 95% percent variance.\n",
    "\n",
    "transformer_dict = glm_data_preprocessing.generate_transformer_dict(882)\n",
    "check_one_case('MkA_Shape', 'OT')\n",
    "check_one_case('MkA_Shape', 'all')\n",
    "check_one_case('MkE2_Shape', 'OT')\n",
    "check_one_case('MkE2_Shape', 'all')"
   ]
  }
 ],
 "metadata": {
  "kernelspec": {
   "display_name": "Python 3",
   "language": "python",
   "name": "python3"
  },
  "language_info": {
   "codemirror_mode": {
    "name": "ipython",
    "version": 3
   },
   "file_extension": ".py",
   "mimetype": "text/x-python",
   "name": "python",
   "nbconvert_exporter": "python",
   "pygments_lexer": "ipython3",
   "version": "3.6.4"
  }
 },
 "nbformat": 4,
 "nbformat_minor": 2
}

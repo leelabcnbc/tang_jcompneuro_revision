{
 "cells": [
  {
   "cell_type": "markdown",
   "metadata": {},
   "source": [
    "this notebook makes sure that I can generate exactly the same model using either old or new code."
   ]
  },
  {
   "cell_type": "code",
   "execution_count": 1,
   "metadata": {},
   "outputs": [],
   "source": [
    "import numpy as np\n",
    "import torch\n",
    "from torch.autograd import Variable\n",
    "from tang_jcompneuro_legacy import cnn as cnn_legacy\n",
    "from tang_jcompneuro.cnn import CNN\n",
    "from tang_jcompneuro.configs.cnn_arch import arch_dict\n",
    "from tang_jcompneuro.configs.cnn_init import init_dict"
   ]
  },
  {
   "cell_type": "code",
   "execution_count": 2,
   "metadata": {},
   "outputs": [],
   "source": [
    "arch_config = arch_dict['legacy_1L']['12']\n",
    "init_config = init_dict['legacy']"
   ]
  },
  {
   "cell_type": "code",
   "execution_count": 3,
   "metadata": {},
   "outputs": [],
   "source": [
    "parameter_mapping = {\n",
    "    'conv.conv0.weight': 'features.0.weight',\n",
    "    'conv.conv0.bias': 'features.0.bias',\n",
    "    'fc.fc.weight': 'classifier.0.weight',\n",
    "    'fc.fc.bias': 'classifier.0.bias',\n",
    "}\n",
    "\n",
    "def print_and_save_parameters(model):\n",
    "    parameter_dict = {}\n",
    "    for x, y in model.named_parameters():\n",
    "        parameter_dict[x] = y.data.cpu().numpy().copy()\n",
    "    return parameter_dict\n",
    "\n",
    "def check_parameters(params_new, params_old):\n",
    "    assert len(params_new) == len(params_old) == len(parameter_mapping)\n",
    "    for x, y in params_new.items():\n",
    "        # print(f'check {x}', y.shape)\n",
    "        assert np.array_equal(y, params_old[parameter_mapping[x]])\n",
    "    \n",
    "    \n",
    "def check():    \n",
    "    for seed in range(10):\n",
    "        model_new = CNN(arch_config, init_config, seed=seed)\n",
    "        model_old = cnn_legacy._get_init_net('baseline', None, {'seed': seed}, cuda=False)\n",
    "        # then let's compare two models.\n",
    "        params_new = print_and_save_parameters(model_new)\n",
    "        params_old = print_and_save_parameters(model_old)\n",
    "        check_parameters(params_new, params_old)\n",
    "        model_new.eval()\n",
    "        model_old.eval()\n",
    "        \n",
    "        rng_state = np.random.RandomState(seed=seed)\n",
    "        # generate some inputs.\n",
    "        input_test = Variable(torch.FloatTensor(rng_state.randn(100,1,20,20)))\n",
    "        output_1 = model_new(input_test).data.cpu().numpy().copy()\n",
    "        output_2 = model_old(input_test).data.cpu().numpy().copy()\n",
    "        assert output_1.shape == output_2.shape == (100, 1)\n",
    "        assert np.array_equal(output_1, output_2)"
   ]
  },
  {
   "cell_type": "code",
   "execution_count": 4,
   "metadata": {},
   "outputs": [],
   "source": [
    "check()"
   ]
  }
 ],
 "metadata": {
  "kernelspec": {
   "display_name": "Python 3",
   "language": "python",
   "name": "python3"
  },
  "language_info": {
   "codemirror_mode": {
    "name": "ipython",
    "version": 3
   },
   "file_extension": ".py",
   "mimetype": "text/x-python",
   "name": "python",
   "nbconvert_exporter": "python",
   "pygments_lexer": "ipython3",
   "version": "3.6.4"
  }
 },
 "nbformat": 4,
 "nbformat_minor": 2
}

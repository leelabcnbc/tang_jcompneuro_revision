{
 "cells": [
  {
   "cell_type": "markdown",
   "metadata": {},
   "source": [
    "this notebook gives number of parameters for every single neuron config to explore."
   ]
  },
  {
   "cell_type": "code",
   "execution_count": 1,
   "metadata": {},
   "outputs": [],
   "source": [
    "import numpy as np"
   ]
  },
  {
   "cell_type": "code",
   "execution_count": 2,
   "metadata": {},
   "outputs": [],
   "source": [
    "from tang_jcompneuro.cnn_exploration import one_layer_models_to_explore, init_config_to_use_fn\n",
    "from tang_jcompneuro.training_aux import count_params\n",
    "from tang_jcompneuro.cnn import CNN"
   ]
  },
  {
   "cell_type": "code",
   "execution_count": 3,
   "metadata": {},
   "outputs": [],
   "source": [
    "def do():\n",
    "    init_config = init_config_to_use_fn()\n",
    "    arch_config_list = one_layer_models_to_explore()\n",
    "    assert len(arch_config_list)==132//2  # since BN is removed.\n",
    "    for config_name, config in arch_config_list.items():\n",
    "        model_this = CNN(config, init_config)\n",
    "        print(config_name, count_params(model_this))"
   ]
  },
  {
   "cell_type": "code",
   "execution_count": 4,
   "metadata": {
    "scrolled": false
   },
   "outputs": [
    {
     "name": "stdout",
     "output_type": "stream",
     "text": [
      "k9c3_nobn_k8s4max_vanilla 259\n",
      "k9c3_nobn_k8s4max_dropout 259\n",
      "k9c3_nobn_k6s6max_vanilla 259\n",
      "k9c3_nobn_k6s6max_dropout 259\n",
      "k9c3_nobn_k6s2max_vanilla 295\n",
      "k9c3_nobn_k6s2max_dropout 295\n",
      "k9c3_nobn_k3s3max_vanilla 295\n",
      "k9c3_nobn_k3s3max_dropout 295\n",
      "k9c3_nobn_nopool_factored 394\n",
      "k9c6_nobn_k8s4max_vanilla 517\n",
      "k9c6_nobn_k8s4max_dropout 517\n",
      "k9c6_nobn_k6s6max_vanilla 517\n",
      "k9c6_nobn_k6s6max_dropout 517\n",
      "k9c6_nobn_k6s2max_vanilla 589\n",
      "k9c6_nobn_k6s2max_dropout 589\n",
      "k9c6_nobn_k3s3max_vanilla 589\n",
      "k9c6_nobn_k3s3max_dropout 589\n",
      "k9c6_nobn_nopool_factored 643\n",
      "k9c9_nobn_k8s4max_vanilla 775\n",
      "k9c9_nobn_k8s4max_dropout 775\n",
      "k9c9_nobn_k6s6max_vanilla 775\n",
      "k9c9_nobn_k6s6max_dropout 775\n",
      "k9c9_nobn_k6s2max_vanilla 883\n",
      "k9c9_nobn_k6s2max_dropout 883\n",
      "k9c9_nobn_k3s3max_vanilla 883\n",
      "k9c9_nobn_k3s3max_dropout 883\n",
      "k9c9_nobn_nopool_factored 892\n",
      "k9c12_nobn_k8s4max_vanilla 1033\n",
      "k9c12_nobn_k8s4max_dropout 1033\n",
      "k9c12_nobn_k6s6max_vanilla 1033\n",
      "k9c12_nobn_k6s6max_dropout 1033\n",
      "k9c12_nobn_k6s2max_vanilla 1177\n",
      "k9c12_nobn_k6s2max_dropout 1177\n",
      "k9c12_nobn_k3s3max_vanilla 1177\n",
      "k9c12_nobn_k3s3max_dropout 1177\n",
      "k9c12_nobn_nopool_factored 1141\n",
      "k9c15_nobn_k8s4max_vanilla 1291\n",
      "k9c15_nobn_k8s4max_dropout 1291\n",
      "k9c15_nobn_k6s6max_vanilla 1291\n",
      "k9c15_nobn_k6s6max_dropout 1291\n",
      "k9c15_nobn_k6s2max_vanilla 1471\n",
      "k9c15_nobn_k6s2max_dropout 1471\n",
      "k9c15_nobn_k3s3max_vanilla 1471\n",
      "k9c15_nobn_k3s3max_dropout 1471\n",
      "k9c15_nobn_nopool_factored 1390\n",
      "k13c3_nobn_k4s4max_vanilla 523\n",
      "k13c3_nobn_k4s4max_dropout 523\n",
      "k13c3_nobn_k6s2max_vanilla 523\n",
      "k13c3_nobn_k6s2max_dropout 523\n",
      "k13c3_nobn_k2s2max_vanilla 559\n",
      "k13c3_nobn_k2s2max_dropout 559\n",
      "k13c3_nobn_nopool_factored 578\n",
      "k13c6_nobn_k4s4max_vanilla 1045\n",
      "k13c6_nobn_k4s4max_dropout 1045\n",
      "k13c6_nobn_k6s2max_vanilla 1045\n",
      "k13c6_nobn_k6s2max_dropout 1045\n",
      "k13c6_nobn_k2s2max_vanilla 1117\n",
      "k13c6_nobn_k2s2max_dropout 1117\n",
      "k13c6_nobn_nopool_factored 1091\n",
      "k13c9_nobn_k4s4max_vanilla 1567\n",
      "k13c9_nobn_k4s4max_dropout 1567\n",
      "k13c9_nobn_k6s2max_vanilla 1567\n",
      "k13c9_nobn_k6s2max_dropout 1567\n",
      "k13c9_nobn_k2s2max_vanilla 1675\n",
      "k13c9_nobn_k2s2max_dropout 1675\n",
      "k13c9_nobn_nopool_factored 1604\n"
     ]
    }
   ],
   "source": [
    "do()"
   ]
  }
 ],
 "metadata": {
  "kernelspec": {
   "display_name": "Python 3",
   "language": "python",
   "name": "python3"
  },
  "language_info": {
   "codemirror_mode": {
    "name": "ipython",
    "version": 3
   },
   "file_extension": ".py",
   "mimetype": "text/x-python",
   "name": "python",
   "nbconvert_exporter": "python",
   "pygments_lexer": "ipython3",
   "version": "3.6.4"
  }
 },
 "nbformat": 4,
 "nbformat_minor": 2
}

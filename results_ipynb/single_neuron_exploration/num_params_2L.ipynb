{
 "cells": [
  {
   "cell_type": "markdown",
   "metadata": {},
   "source": [
    "this notebook gives number of parameters for every single neuron config to explore."
   ]
  },
  {
   "cell_type": "code",
   "execution_count": 1,
   "metadata": {},
   "outputs": [],
   "source": [
    "import numpy as np"
   ]
  },
  {
   "cell_type": "code",
   "execution_count": 2,
   "metadata": {},
   "outputs": [],
   "source": [
    "from tang_jcompneuro.cnn_exploration import two_layer_models_to_explore, init_config_to_use_fn\n",
    "from tang_jcompneuro.training_aux import count_params\n",
    "from tang_jcompneuro.cnn import CNN"
   ]
  },
  {
   "cell_type": "code",
   "execution_count": 3,
   "metadata": {},
   "outputs": [],
   "source": [
    "def do():\n",
    "    init_config = init_config_to_use_fn()\n",
    "    arch_config_list = two_layer_models_to_explore()\n",
    "#     assert len(arch_config_list)==132//2  # since BN is removed.\n",
    "    for config_name, config in arch_config_list.items():\n",
    "        model_this = CNN(config, init_config)\n",
    "        print(config_name, count_params(model_this))\n",
    "        print(model_this)\n",
    "        \n"
   ]
  },
  {
   "cell_type": "code",
   "execution_count": 4,
   "metadata": {
    "scrolled": false
   },
   "outputs": [
    {
     "name": "stdout",
     "output_type": "stream",
     "text": [
      "c7_k4d2_k3d1p1_k6s2max 743\n",
      "CNN(\n",
      "  (conv): Sequential(\n",
      "    (conv0): Conv2d(1, 7, kernel_size=(4, 4), stride=(1, 1), dilation=(2, 2))\n",
      "    (act0): ReLU()\n",
      "    (conv1): Conv2d(7, 7, kernel_size=(3, 3), stride=(1, 1), padding=(1, 1))\n",
      "    (act1): ReLU()\n",
      "    (pool1): MaxPool2d(kernel_size=(6, 6), stride=(2, 2), dilation=(1, 1), ceil_mode=False)\n",
      "  )\n",
      "  (fc): Sequential(\n",
      "    (fc): Linear(in_features=175, out_features=1, bias=True)\n",
      "  )\n",
      ")\n",
      "c7_k5d2_k3d1p1_k6s2max 743\n",
      "CNN(\n",
      "  (conv): Sequential(\n",
      "    (conv0): Conv2d(1, 7, kernel_size=(5, 5), stride=(1, 1), dilation=(2, 2))\n",
      "    (act0): ReLU()\n",
      "    (conv1): Conv2d(7, 7, kernel_size=(3, 3), stride=(1, 1), padding=(1, 1))\n",
      "    (act1): ReLU()\n",
      "    (pool1): MaxPool2d(kernel_size=(6, 6), stride=(2, 2), dilation=(1, 1), ceil_mode=False)\n",
      "  )\n",
      "  (fc): Sequential(\n",
      "    (fc): Linear(in_features=112, out_features=1, bias=True)\n",
      "  )\n",
      ")\n",
      "c7_k5d1_k3d1p1_k6s2max 883\n",
      "CNN(\n",
      "  (conv): Sequential(\n",
      "    (conv0): Conv2d(1, 7, kernel_size=(5, 5), stride=(1, 1))\n",
      "    (act0): ReLU()\n",
      "    (conv1): Conv2d(7, 7, kernel_size=(3, 3), stride=(1, 1), padding=(1, 1))\n",
      "    (act1): ReLU()\n",
      "    (pool1): MaxPool2d(kernel_size=(6, 6), stride=(2, 2), dilation=(1, 1), ceil_mode=False)\n",
      "  )\n",
      "  (fc): Sequential(\n",
      "    (fc): Linear(in_features=252, out_features=1, bias=True)\n",
      "  )\n",
      ")\n",
      "c7_k7d1_k3d1p1_k6s2max 974\n",
      "CNN(\n",
      "  (conv): Sequential(\n",
      "    (conv0): Conv2d(1, 7, kernel_size=(7, 7), stride=(1, 1))\n",
      "    (act0): ReLU()\n",
      "    (conv1): Conv2d(7, 7, kernel_size=(3, 3), stride=(1, 1), padding=(1, 1))\n",
      "    (act1): ReLU()\n",
      "    (pool1): MaxPool2d(kernel_size=(6, 6), stride=(2, 2), dilation=(1, 1), ceil_mode=False)\n",
      "  )\n",
      "  (fc): Sequential(\n",
      "    (fc): Linear(in_features=175, out_features=1, bias=True)\n",
      "  )\n",
      ")\n"
     ]
    }
   ],
   "source": [
    "do()\n",
    "# this makes sense.\n",
    "# let's say c7_k4d2_k3d1p2_k6s2max\n",
    "# weight for conv1\n",
    "# (4*4 + 1)* 7 = 119, output 14x14.\n",
    "# weight for conv2\n",
    "# (3*3*7 + 1)*7 = 448, output 14x14\n",
    "# pooling downsamples 14x14 to 5x5\n",
    "# fc 5*5*7 + 1 = 176\n",
    "\n",
    "# 119 + 448 + 176 = 743"
   ]
  }
 ],
 "metadata": {
  "kernelspec": {
   "display_name": "Python 3",
   "language": "python",
   "name": "python3"
  },
  "language_info": {
   "codemirror_mode": {
    "name": "ipython",
    "version": 3
   },
   "file_extension": ".py",
   "mimetype": "text/x-python",
   "name": "python",
   "nbconvert_exporter": "python",
   "pygments_lexer": "ipython3",
   "version": "3.6.4"
  }
 },
 "nbformat": 4,
 "nbformat_minor": 2
}

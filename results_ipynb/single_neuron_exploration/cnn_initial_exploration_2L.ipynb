{
 "cells": [
  {
   "cell_type": "markdown",
   "metadata": {},
   "source": [
    "# result:\n",
    "\n",
    "I will use all four. and use the same set of optimizer as in 1L models."
   ]
  },
  {
   "cell_type": "code",
   "execution_count": 1,
   "metadata": {},
   "outputs": [],
   "source": [
    "import h5py\n",
    "import numpy as np\n",
    "import os.path\n",
    "from functools import partial\n",
    "from collections import OrderedDict\n",
    "\n",
    "import pandas as pd\n",
    "pd.options.display.max_rows = 100\n",
    "pd.options.display.max_columns = 100\n",
    "from scipy.stats import pearsonr"
   ]
  },
  {
   "cell_type": "code",
   "execution_count": 2,
   "metadata": {},
   "outputs": [],
   "source": [
    "# get number of parameters."
   ]
  },
  {
   "cell_type": "code",
   "execution_count": 3,
   "metadata": {},
   "outputs": [],
   "source": [
    "from tang_jcompneuro import dir_dictionary\n",
    "from tang_jcompneuro.cnn_exploration_pytorch import get_num_params"
   ]
  },
  {
   "cell_type": "code",
   "execution_count": 4,
   "metadata": {},
   "outputs": [],
   "source": [
    "def generic_call_back(name, obj, env):\n",
    "    if isinstance(obj, h5py.Dataset):\n",
    "        arch, dataset, subset, neuron_idx, opt = name.split('/')\n",
    "        assert dataset == 'MkA_Shape'\n",
    "        neuron_idx = int(neuron_idx)\n",
    "        corr_this = obj.attrs['corr']\n",
    "        if corr_this.dtype != np.float32:\n",
    "            # this will get hit by my code.\n",
    "            assert corr_this == 0.0\n",
    "        env['result'].append(\n",
    "            {\n",
    "                'subset': subset,\n",
    "                'neuron': neuron_idx,\n",
    "                'arch': arch,\n",
    "                'opt': opt,\n",
    "                'corr': corr_this,\n",
    "                'time': obj.attrs['time'],\n",
    "#                 'num_param': num_param_dict[arch],\n",
    "            }\n",
    "        )\n",
    "        \n",
    "\n",
    "def collect_all_data():\n",
    "    cnn_explore_dir = os.path.join(dir_dictionary['models'], 'cnn_exploration_2L')\n",
    "    env = {'result': []}\n",
    "    count = 0\n",
    "    for root, dirs, files in os.walk(cnn_explore_dir):\n",
    "        for f in files:\n",
    "            if f.lower().endswith('.hdf5'):\n",
    "                count += 1\n",
    "                if count % 100 == 0:\n",
    "                    print(count)\n",
    "                f_check = os.path.join(root, f)\n",
    "                with h5py.File(f_check, 'r') as f_metric:\n",
    "                    f_metric.visititems(partial(generic_call_back, env=env))\n",
    "    \n",
    "    result = pd.DataFrame(env['result'], columns=['subset', 'neuron', 'arch', 'opt', 'corr', 'time'])\n",
    "    result = result.set_index(['subset', 'neuron', 'arch', 'opt'], verify_integrity=True)\n",
    "    print(count)\n",
    "    return result"
   ]
  },
  {
   "cell_type": "code",
   "execution_count": 5,
   "metadata": {
    "scrolled": false
   },
   "outputs": [
    {
     "name": "stdout",
     "output_type": "stream",
     "text": [
      "100\n",
      "112\n"
     ]
    }
   ],
   "source": [
    "all_data = collect_all_data()"
   ]
  },
  {
   "cell_type": "code",
   "execution_count": 6,
   "metadata": {},
   "outputs": [],
   "source": [
    "# # 4 (arch) x 32 (opt) (3 legacy ones got abandoned) x 2 (subsets) x 14 (neurons per subset)\n",
    "assert all_data.shape == (3584, 2)"
   ]
  },
  {
   "cell_type": "code",
   "execution_count": 7,
   "metadata": {},
   "outputs": [],
   "source": [
    "%matplotlib inline\n",
    "import matplotlib.pyplot as plt\n",
    "# def check_run_time():\n",
    "# # check time. as long as it's fast, it's fine.\n",
    "#     time_all = all_data['time'].values\n",
    "#     plt.close('all')\n",
    "#     plt.hist(time_all, bins=100)\n",
    "#     plt.show()\n",
    "#     print(time_all.min(), time_all.max(),\n",
    "#          np.median(time_all), np.mean(time_all))\n",
    "#     print(np.sort(time_all)[::-1][:50])\n",
    "# check_run_time()"
   ]
  },
  {
   "cell_type": "code",
   "execution_count": 8,
   "metadata": {},
   "outputs": [],
   "source": [
    "# # seems that it's good to check those with more than 100 sec.\n",
    "# def check_long_ones():\n",
    "#     long_runs = all_data[all_data['time']>=100]\n",
    "#     return long_runs\n",
    "\n",
    "# # typically, long cases are from adam.\n",
    "# # I'm not sure whether these numbers are accruate. but maybe let's ignore them for now.\n",
    "# check_long_ones()"
   ]
  },
  {
   "cell_type": "code",
   "execution_count": 9,
   "metadata": {},
   "outputs": [],
   "source": [
    "# I think it's easier to analyze per data set.\n",
    "def study_one_subset(df_this_only_corr):\n",
    "    # this df_this_only_corr should be a series.\n",
    "    # with (neuron, arch, opt) as the (multi) index.\n",
    "    \n",
    "    # first, I want to know how good my opt approximation is.\n",
    "    # \n",
    "    # I will show two ways.\n",
    "    # first, use my opt approximation to replace the best\n",
    "    # one for every combination of neuron and arch.\n",
    "    # show scatter plot, pearsonr, as well as how much performance is lost.\n",
    "    #\n",
    "    # second, I want to see, if for each neuron I choose the best architecture,\n",
    "    # how much performance is lost.\n",
    "    #\n",
    "    # there are actually two ways to choose best architecture.\n",
    "    # a) one is, best one is chosen based on the exact version of loss.\n",
    "    # b) another one is, best one is chosen separately.\n",
    "    # \n",
    "    # by the last plot in _examine_opt (second, b)), you can see that,\n",
    "    # given enough architectures to choose from, these optimization methods can achieve neear optimal.\n",
    "    \n",
    "    a = _examine_opt(df_this_only_corr)\n",
    "    \n",
    "    # ok. then, I'd like to check archtectures.\n",
    "    # here, I will use these arch's performance on the approx version.\n",
    "    \n",
    "    _examine_arch(a)\n"
   ]
  },
  {
   "cell_type": "code",
   "execution_count": 10,
   "metadata": {},
   "outputs": [],
   "source": [
    "def _examine_arch(df_neuron_by_arch):\n",
    "    # mark input as tmp_sutff.\n",
    "    # then you can run things like\n",
    "    # tmp_stuff.T.mean(axis=1).sort_values()\n",
    "    # or tmp_stuff.T.median(axis=1).sort_values()\n",
    "    \n",
    "    # my finding is that k9cX_nobn_k6s2max_vanilla\n",
    "    # where X is number of channels often perform best.\n",
    "    \n",
    "    # essentially, I can remove those k13 stuff.\n",
    "    # also, dropout and factored works poorly.\n",
    "    # so remove them as well.\n",
    "    # k6s2 stuff may not be that evident.\n",
    "    # so I will examine that next.\n",
    "    print(df_neuron_by_arch.T.mean(axis=1).sort_values(ascending=False).iloc[:10])\n",
    "    print(df_neuron_by_arch.T.median(axis=1).sort_values(ascending=False).iloc[:10])\n",
    "    \n",
    "    \n",
    "#     columns = df_neuron_by_arch.columns\n",
    "#     columsn_to_preserve = [x for x in columns if x.startswith('k9c') and x.endswith('vanilla')]\n",
    "#     df_neuron_by_arch = df_neuron_by_arch[columsn_to_preserve]\n",
    "    \n",
    "    print(df_neuron_by_arch.T.mean(axis=1).sort_values(ascending=False))\n",
    "    print(df_neuron_by_arch.T.median(axis=1).sort_values(ascending=False))\n",
    "    \n",
    "    # just search 'k6s2max' in the output, and see that most of them are on top.\n",
    "    "
   ]
  },
  {
   "cell_type": "code",
   "execution_count": 11,
   "metadata": {},
   "outputs": [],
   "source": [
    "def show_stuff(x1, x2, figsize=(10, 10), title='',\n",
    "              xlabel=None, ylabel=None):\n",
    "    plt.close('all')\n",
    "    plt.figure(figsize=figsize)\n",
    "    plt.scatter(x1, x2, s=5)\n",
    "    plt.xlim(0,1)\n",
    "    plt.ylim(0,1)\n",
    "    if xlabel is not None:\n",
    "        plt.xlabel(xlabel)\n",
    "    if ylabel is not None:\n",
    "        plt.ylabel(ylabel)\n",
    "    plt.plot([0,1], [0,1], linestyle='--', color='r')\n",
    "    plt.title(title + 'corr {:.2f}'.format(pearsonr(x1,x2)[0]))\n",
    "    plt.axis('equal')\n",
    "    plt.show()\n",
    "    \n"
   ]
  },
  {
   "cell_type": "code",
   "execution_count": 12,
   "metadata": {},
   "outputs": [],
   "source": [
    "def _extract_max_value_from_neuron_by_arch_stuff(neuron_by_arch_stuff: np.ndarray, max_idx=None):\n",
    "    assert isinstance(neuron_by_arch_stuff, np.ndarray)\n",
    "    n_neuron, n_arch = neuron_by_arch_stuff.shape\n",
    "    if max_idx is None:\n",
    "        max_idx = np.argmax(neuron_by_arch_stuff, axis=1)\n",
    "    assert max_idx.shape == (n_neuron,)\n",
    "    \n",
    "    best_perf_per_neuron = neuron_by_arch_stuff[np.arange(n_neuron), max_idx]\n",
    "    assert best_perf_per_neuron.shape == (n_neuron, )\n",
    "    # OCD, sanity check.\n",
    "    for neuron_idx in range(n_neuron):\n",
    "        assert best_perf_per_neuron[neuron_idx] == neuron_by_arch_stuff[neuron_idx, max_idx[neuron_idx]]\n",
    "    \n",
    "    return neuron_by_arch_stuff[np.arange(n_neuron), max_idx], max_idx"
   ]
  },
  {
   "cell_type": "code",
   "execution_count": 13,
   "metadata": {},
   "outputs": [],
   "source": [
    "def _examine_opt(df_this_only_corr):\n",
    "    # seems that best opt can be approximated by max(1e-3L2_1e-3L2_adam002_mse, 1e-4L2_1e-3L2_adam002_mse,\n",
    "    #                                              '1e-3L2_1e-3L2_sgd_mse',     '1e-4L2_1e-3L2_sgd_mse')\n",
    "    # let's see how well that goes.\n",
    "    # this is by running code like\n",
    "    # opt_var = all_data['corr'].xs('OT', level='subset').unstack('arch').unstack('neuron').median(axis=1).sort_values()\n",
    "    # where you can replace OT with all,\n",
    "    # median with mean.\n",
    "    # and check by eye.\n",
    "    # notice that mean and median may give pretty different results.\n",
    "\n",
    "\n",
    "    opt_approxer = (\n",
    "                   '1e-3L2_1e-3L2_adam002_mse', '1e-4L2_1e-3L2_adam002_mse',\n",
    "                    '1e-3L2_1e-3L2_sgd_mse',     '1e-4L2_1e-3L2_sgd_mse'\n",
    "                   )\n",
    "    \n",
    "    opt_in_columns = df_this_only_corr.unstack('opt')\n",
    "    \n",
    "    opt_best = opt_in_columns.max(axis=1).values\n",
    "    assert np.all(opt_best > 0)\n",
    "    opt_best_approx = np.asarray([df_this_only_corr.unstack('opt')[x].values for x in opt_approxer]).max(axis=0)\n",
    "    assert opt_best.shape == opt_best_approx.shape\n",
    "    # compute how much is lost.\n",
    "    preserved_performance = opt_best_approx.mean()/opt_best.mean()\n",
    "    print('preserved performance', preserved_performance)\n",
    "    show_stuff(opt_best, opt_best_approx, (8, 8), 'approx vs. exact, all arch, all neurons, ',\n",
    "              'exact', 'approx')\n",
    "    \n",
    "    \n",
    "    both_exact_and_opt = pd.DataFrame(OrderedDict([('exact', opt_best), ('approx', opt_best_approx)]),\n",
    "                                      index = opt_in_columns.index.copy())\n",
    "    both_exact_and_opt.columns.name = 'opt_type'\n",
    "    \n",
    "    \n",
    "    \n",
    "    best_arch_performance_exact, max_idx =  _extract_max_value_from_neuron_by_arch_stuff(both_exact_and_opt['exact'].unstack('arch').values)\n",
    "    best_arch_performance_approx, _ =  _extract_max_value_from_neuron_by_arch_stuff(both_exact_and_opt['approx'].unstack('arch').values, max_idx)\n",
    "    \n",
    "    best_arch_performance_own_idx, _ =  _extract_max_value_from_neuron_by_arch_stuff(both_exact_and_opt['approx'].unstack('arch').values)\n",
    "    \n",
    "    assert best_arch_performance_exact.shape == best_arch_performance_approx.shape\n",
    "    #return best_arch_performance_exact, best_arch_performance_approx\n",
    "\n",
    "    show_stuff(best_arch_performance_exact, best_arch_performance_approx, (6, 6),\n",
    "              'approx vs. exact, best arch (determined by exact), all neurons, ',\n",
    "              'exact', 'approx')\n",
    "    \n",
    "    show_stuff(best_arch_performance_exact, best_arch_performance_own_idx, (6, 6),\n",
    "              'approx vs. exact, best arch (determined by each), all neurons, ',\n",
    "              'exact', 'approx')\n",
    "    \n",
    "    return both_exact_and_opt['approx'].unstack('arch')"
   ]
  },
  {
   "cell_type": "code",
   "execution_count": 14,
   "metadata": {
    "scrolled": false
   },
   "outputs": [
    {
     "name": "stdout",
     "output_type": "stream",
     "text": [
      "preserved performance 0.97200153417\n"
     ]
    },
    {
     "data": {
      "image/png": "[encoded data removed]",
      "text/plain": [
       "<matplotlib.figure.Figure at 0x2b409775e550>"
      ]
     },
     "metadata": {},
     "output_type": "display_data"
    },
    {
     "data": {
      "image/png": "[encoded data removed]",
      "text/plain": [
       "<matplotlib.figure.Figure at 0x2b40994e3b70>"
      ]
     },
     "metadata": {},
     "output_type": "display_data"
    },
    {
     "data": {
      "image/png": "[encoded data removed]",
      "text/plain": [
       "<matplotlib.figure.Figure at 0x2b409b582fd0>"
      ]
     },
     "metadata": {},
     "output_type": "display_data"
    },
    {
     "name": "stdout",
     "output_type": "stream",
     "text": [
      "arch\n",
      "c7_k5d2_k3d1p1_k6s2max    0.639567\n",
      "c7_k4d2_k3d1p1_k6s2max    0.638838\n",
      "c7_k7d1_k3d1p1_k6s2max    0.637673\n",
      "c7_k5d1_k3d1p1_k6s2max    0.629971\n",
      "dtype: float64\n",
      "arch\n",
      "c7_k4d2_k3d1p1_k6s2max    0.611377\n",
      "c7_k5d2_k3d1p1_k6s2max    0.608241\n",
      "c7_k7d1_k3d1p1_k6s2max    0.606497\n",
      "c7_k5d1_k3d1p1_k6s2max    0.600980\n",
      "dtype: float64\n",
      "arch\n",
      "c7_k5d2_k3d1p1_k6s2max    0.639567\n",
      "c7_k4d2_k3d1p1_k6s2max    0.638838\n",
      "c7_k7d1_k3d1p1_k6s2max    0.637673\n",
      "c7_k5d1_k3d1p1_k6s2max    0.629971\n",
      "dtype: float64\n",
      "arch\n",
      "c7_k4d2_k3d1p1_k6s2max    0.611377\n",
      "c7_k5d2_k3d1p1_k6s2max    0.608241\n",
      "c7_k7d1_k3d1p1_k6s2max    0.606497\n",
      "c7_k5d1_k3d1p1_k6s2max    0.600980\n",
      "dtype: float64\n"
     ]
    }
   ],
   "source": [
    "tmp_stuff = study_one_subset(all_data['corr'].xs('OT', level='subset'))"
   ]
  }
 ],
 "metadata": {
  "kernelspec": {
   "display_name": "Python 3",
   "language": "python",
   "name": "python3"
  },
  "language_info": {
   "codemirror_mode": {
    "name": "ipython",
    "version": 3
   },
   "file_extension": ".py",
   "mimetype": "text/x-python",
   "name": "python",
   "nbconvert_exporter": "python",
   "pygments_lexer": "ipython3",
   "version": "3.6.4"
  }
 },
 "nbformat": 4,
 "nbformat_minor": 2
}

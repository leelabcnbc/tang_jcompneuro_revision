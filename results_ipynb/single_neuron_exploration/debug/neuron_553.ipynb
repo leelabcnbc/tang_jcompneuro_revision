{
 "cells": [
  {
   "cell_type": "markdown",
   "metadata": {},
   "source": [
    "a small scale test on neuron 553 of Monkey A."
   ]
  },
  {
   "cell_type": "code",
   "execution_count": 1,
   "metadata": {},
   "outputs": [],
   "source": [
    "from torch.backends import cudnn\n",
    "# this config is fastest.\n",
    "cudnn.benchmark = False\n",
    "cudnn.enabled = True"
   ]
  },
  {
   "cell_type": "code",
   "execution_count": 2,
   "metadata": {},
   "outputs": [],
   "source": [
    "from collections import OrderedDict\n",
    "import os.path\n",
    "from itertools import product\n",
    "\n",
    "import numpy as np\n",
    "import h5py\n",
    "\n",
    "from tang_jcompneuro.cnn_exploration import one_layer_models_to_explore, init_config_to_use_fn\n",
    "from tang_jcompneuro.training_aux import count_params, train_one_case\n",
    "from tang_jcompneuro.cnn import CNN\n",
    "from tang_jcompneuro.configs.cnn_opt import legacy_opt_generator\n",
    "from tang_jcompneuro import dir_dictionary"
   ]
  },
  {
   "cell_type": "code",
   "execution_count": 3,
   "metadata": {},
   "outputs": [],
   "source": [
    "# timer.\n",
    "# https://stackoverflow.com/questions/5849800/tic-toc-functions-analog-in-python\n",
    "import time\n",
    "class Timer(object):\n",
    "    def __init__(self, name=None):\n",
    "        self.name = name\n",
    "\n",
    "    def __enter__(self):\n",
    "        self.tstart = time.time()\n",
    "\n",
    "    def __exit__(self, type, value, traceback):\n",
    "        if self.name:\n",
    "            print('[%s]' % self.name, end=' ')\n",
    "        print('Elapsed: %s' % (time.time() - self.tstart))"
   ]
  },
  {
   "cell_type": "code",
   "execution_count": 4,
   "metadata": {},
   "outputs": [],
   "source": [
    "arch_config_list = one_layer_models_to_explore()"
   ]
  },
  {
   "cell_type": "code",
   "execution_count": 5,
   "metadata": {},
   "outputs": [],
   "source": [
    "arch_configs_to_test = (\n",
    "    'k9c12_nobn_k8s4max_vanilla',\n",
    "    'k9c12_bn_k8s4max_vanilla',\n",
    "#     'legacy_b12',  # same as 'k9c12_nobn_k8s4max_vanilla'.\n",
    ")\n",
    "arch_config_list = OrderedDict([(k, arch_config_list[k])  for k in arch_configs_to_test ])\n",
    "opt_configs_to_test = legacy_opt_generator()"
   ]
  },
  {
   "cell_type": "code",
   "execution_count": 6,
   "metadata": {
    "scrolled": false
   },
   "outputs": [
    {
     "data": {
      "text/plain": [
       "OrderedDict([('k9c12_nobn_k8s4max_vanilla',\n",
       "              {'act_fn': 'relu',\n",
       "               'conv': [{'bn': False,\n",
       "                 'kernel_size': 9,\n",
       "                 'out_channel': 12,\n",
       "                 'padding': 0,\n",
       "                 'pool': {'kernel_size': 8,\n",
       "                  'padding': 0,\n",
       "                  'pool_type': 'max',\n",
       "                  'stride': 4},\n",
       "                 'stride': 1}],\n",
       "               'fc': {'dropout': None, 'factored': False},\n",
       "               'linear_output': True}),\n",
       "             ('k9c12_bn_k8s4max_vanilla',\n",
       "              {'act_fn': 'relu',\n",
       "               'conv': [{'bn': True,\n",
       "                 'kernel_size': 9,\n",
       "                 'out_channel': 12,\n",
       "                 'padding': 0,\n",
       "                 'pool': {'kernel_size': 8,\n",
       "                  'padding': 0,\n",
       "                  'pool_type': 'max',\n",
       "                  'stride': 4},\n",
       "                 'stride': 1}],\n",
       "               'fc': {'dropout': None, 'factored': False},\n",
       "               'linear_output': True})])"
      ]
     },
     "execution_count": 6,
     "metadata": {},
     "output_type": "execute_result"
    }
   ],
   "source": [
    "arch_config_list"
   ]
  },
  {
   "cell_type": "code",
   "execution_count": 7,
   "metadata": {},
   "outputs": [
    {
     "data": {
      "text/plain": [
       "OrderedDict([('baseline',\n",
       "              {'conv': [{'l1': 0.0,\n",
       "                 'l1_bias': 0.0,\n",
       "                 'l2': 0.0001,\n",
       "                 'l2_bias': 0.0001}],\n",
       "               'fc': {'l1': 0.0,\n",
       "                'l1_bias': 0.0,\n",
       "                'l2': 0.0001,\n",
       "                'l2_bias': 0.0001},\n",
       "               'loss': 'mse',\n",
       "               'optimizer': {'lr': 0.1,\n",
       "                'momentum': 0.9,\n",
       "                'optimizer_type': 'sgd'}}),\n",
       "             ('middle_decay',\n",
       "              {'conv': [{'l1': 0.0,\n",
       "                 'l1_bias': 0.0,\n",
       "                 'l2': 0.001,\n",
       "                 'l2_bias': 0.001}],\n",
       "               'fc': {'l1': 0.0,\n",
       "                'l1_bias': 0.0,\n",
       "                'l2': 0.001,\n",
       "                'l2_bias': 0.001},\n",
       "               'loss': 'mse',\n",
       "               'optimizer': {'lr': 0.1,\n",
       "                'momentum': 0.9,\n",
       "                'optimizer_type': 'sgd'}}),\n",
       "             ('adam_longer',\n",
       "              {'conv': [{'l1': 0.0,\n",
       "                 'l1_bias': 0.0,\n",
       "                 'l2': 0.0001,\n",
       "                 'l2_bias': 0.0001}],\n",
       "               'fc': {'l1': 0.0,\n",
       "                'l1_bias': 0.0,\n",
       "                'l2': 0.0001,\n",
       "                'l2_bias': 0.0001},\n",
       "               'loss': 'mse',\n",
       "               'optimizer': {'lr': 0.001, 'optimizer_type': 'adam'}})])"
      ]
     },
     "execution_count": 7,
     "metadata": {},
     "output_type": "execute_result"
    }
   ],
   "source": [
    "opt_configs_to_test"
   ]
  },
  {
   "cell_type": "code",
   "execution_count": 8,
   "metadata": {},
   "outputs": [
    {
     "data": {
      "text/plain": [
       "{'conv_init': 'kaiming_fan_out', 'fc_init': 0.0001}"
      ]
     },
     "execution_count": 8,
     "metadata": {},
     "output_type": "execute_result"
    }
   ],
   "source": [
    "init_config_to_use_fn()"
   ]
  },
  {
   "cell_type": "code",
   "execution_count": 9,
   "metadata": {},
   "outputs": [],
   "source": [
    "# load dataset.\n",
    "def load_dataset(neuron_idx, subset):\n",
    "    group_to_use = OrderedDict()\n",
    "    group_to_use['new'] = f'/MkA_Shape/{subset}/with_val/100/0'\n",
    "    group_to_use['legacy'] = f'/MkA_Shape/{subset}/without_val/100/0'\n",
    "    \n",
    "    result = OrderedDict()\n",
    "    \n",
    "    datafile = os.path.join(dir_dictionary['datasets'], 'split_datasets.hdf5')\n",
    "    with h5py.File(datafile, 'r') as f:\n",
    "        for k, g in group_to_use.items():\n",
    "            g_this = f[g]\n",
    "            # load X_train/test/val\n",
    "            # load y_train/test/val\n",
    "            X_train = g_this['train/X'][...]\n",
    "            y_train = g_this['train/y'][:, neuron_idx:neuron_idx+1]\n",
    "            X_test = g_this['test/X'][...]\n",
    "            y_test = g_this['test/y'][:, neuron_idx:neuron_idx+1]\n",
    "            \n",
    "            X_val = g_this['val/X'][...] if 'val' in g_this else None\n",
    "            y_val = g_this['val/y'][:, neuron_idx:neuron_idx+1] if 'val' in g_this else None\n",
    "            result[k] = (X_train, y_train, X_test, y_test, X_val, y_val)\n",
    "    \n",
    "    assert np.array_equal(result['new'][2], result['legacy'][2])\n",
    "    assert np.array_equal(result['new'][3], result['legacy'][3])\n",
    "    \n",
    "    return result"
   ]
  },
  {
   "cell_type": "code",
   "execution_count": 16,
   "metadata": {},
   "outputs": [],
   "source": [
    "dataset_dict = load_dataset(553, 'all')"
   ]
  },
  {
   "cell_type": "code",
   "execution_count": 17,
   "metadata": {},
   "outputs": [],
   "source": [
    "# ok. let's train.\n",
    "def do():\n",
    "    for (arch_name, arch_config), (opt_name, opt_config) in product(arch_config_list.items(), opt_configs_to_test.items()):\n",
    "        # train legacy\n",
    "        dataset_this = dataset_dict['legacy']\n",
    "        # BN models don't work.\n",
    "        # because binary image can create a batch of all zero, etc.\n",
    "        # and that gives extreme values next layer.\n",
    "        # if you increase bn_eps, then it's fine.\n",
    "        # however, that prevents effective learning. basically,\n",
    "        # worse than or same as no BN.\n",
    "        model = CNN(arch_config, init_config_to_use_fn(), mean_response=dataset_this[1].mean(axis=0), bn_eps=1)\n",
    "        model.cuda()\n",
    "        with Timer('old'):\n",
    "            _, old_cc = train_one_case(model, dataset_this, opt_config, seed=0, legacy=True)\n",
    "        dataset_this = dataset_dict['new']\n",
    "        del model\n",
    "        model = CNN(arch_config, init_config_to_use_fn(), mean_response=dataset_this[1].mean(axis=0), bn_eps=1)\n",
    "        model.cuda()\n",
    "        with Timer('new'):\n",
    "            _, new_cc = train_one_case(model, dataset_this, opt_config, seed=0)\n",
    "        # train new.\n",
    "        del model\n",
    "        print((arch_name, opt_name), old_cc, new_cc)"
   ]
  },
  {
   "cell_type": "code",
   "execution_count": 18,
   "metadata": {
    "scrolled": false
   },
   "outputs": [
    {
     "name": "stdout",
     "output_type": "stream",
     "text": [
      "========starting phase 1/1==========\n",
      "========end phase 1/1==========\n",
      "[old] Elapsed: 18.338154077529907\n",
      "========starting phase 1/1==========\n",
      "========starting epoch 1000==========\n",
      "val metric\n",
      " {'neg_corr': -0.61469704, 'corr': 0.61469704, 'mse': 0.0047237189}\n",
      "test metric\n",
      " {'neg_corr': -0.61848414, 'corr': 0.61848414, 'mse': 0.0047682012}\n",
      "========done epoch 1000==========\n",
      "========starting epoch 2000==========\n",
      "val metric\n",
      " {'neg_corr': -0.63323694, 'corr': 0.63323694, 'mse': 0.0046056658}\n",
      "test metric\n",
      " {'neg_corr': -0.66902661, 'corr': 0.66902661, 'mse': 0.004311264}\n",
      "========done epoch 2000==========\n",
      "========starting epoch 3000==========\n",
      "val metric\n",
      " {'neg_corr': -0.64174056, 'corr': 0.64174056, 'mse': 0.0046025217}\n",
      "test metric\n",
      " {'neg_corr': -0.67691702, 'corr': 0.67691702, 'mse': 0.0042340797}\n",
      "========done epoch 3000==========\n",
      "early stopping after epoch 3500\n",
      "========end phase 1/1==========\n",
      "[new] Elapsed: 13.245948076248169\n",
      "('k9c12_nobn_k8s4max_vanilla', 'baseline') 0.618553 0.687492\n",
      "========starting phase 1/1==========\n",
      "========end phase 1/1==========\n",
      "[old] Elapsed: 15.218517303466797\n",
      "========starting phase 1/1==========\n",
      "========starting epoch 1000==========\n",
      "val metric\n",
      " {'neg_corr': -0.62568891, 'corr': 0.62568891, 'mse': 0.0047055758}\n",
      "test metric\n",
      " {'neg_corr': -0.61073232, 'corr': 0.61073232, 'mse': 0.004919196}\n",
      "========done epoch 1000==========\n",
      "========starting epoch 2000==========\n",
      "val metric\n",
      " {'neg_corr': -0.63376415, 'corr': 0.63376415, 'mse': 0.0046449443}\n",
      "test metric\n",
      " {'neg_corr': -0.63663596, 'corr': 0.63663596, 'mse': 0.0047323923}\n",
      "========done epoch 2000==========\n",
      "========starting epoch 3000==========\n",
      "val metric\n",
      " {'neg_corr': -0.63632149, 'corr': 0.63632149, 'mse': 0.0051160632}\n",
      "test metric\n",
      " {'neg_corr': -0.64628172, 'corr': 0.64628172, 'mse': 0.0050517968}\n",
      "========done epoch 3000==========\n",
      "early stopping after epoch 3400\n",
      "========end phase 1/1==========\n",
      "[new] Elapsed: 12.5099778175354\n",
      "('k9c12_nobn_k8s4max_vanilla', 'middle_decay') 0.610673 0.643983\n",
      "========starting phase 1/1==========\n",
      "========end phase 1/1==========\n",
      "[old] Elapsed: 20.47431969642639\n",
      "========starting phase 1/1==========\n",
      "========starting epoch 1000==========\n",
      "val metric\n",
      " {'neg_corr': -0.56768918, 'corr': 0.56768918, 'mse': 0.0052032094}\n",
      "test metric\n",
      " {'neg_corr': -0.58686519, 'corr': 0.58686519, 'mse': 0.0051330798}\n",
      "========done epoch 1000==========\n",
      "========starting epoch 2000==========\n",
      "val metric\n",
      " {'neg_corr': -0.58176178, 'corr': 0.58176178, 'mse': 0.0052106176}\n",
      "test metric\n",
      " {'neg_corr': -0.62580377, 'corr': 0.62580377, 'mse': 0.0048493547}\n",
      "========done epoch 2000==========\n",
      "========starting epoch 3000==========\n",
      "val metric\n",
      " {'neg_corr': -0.59282011, 'corr': 0.59282011, 'mse': 0.0052652811}\n",
      "test metric\n",
      " {'neg_corr': -0.6399852, 'corr': 0.6399852, 'mse': 0.0048352322}\n",
      "========done epoch 3000==========\n",
      "========starting epoch 4000==========\n",
      "val metric\n",
      " {'neg_corr': -0.59768194, 'corr': 0.59768194, 'mse': 0.005437403}\n",
      "test metric\n",
      " {'neg_corr': -0.63825125, 'corr': 0.63825125, 'mse': 0.0051138666}\n",
      "========done epoch 4000==========\n",
      "========starting epoch 5000==========\n",
      "val metric\n",
      " {'neg_corr': -0.60104454, 'corr': 0.60104454, 'mse': 0.0052392199}\n",
      "test metric\n",
      " {'neg_corr': -0.65060842, 'corr': 0.65060842, 'mse': 0.004773166}\n",
      "========done epoch 5000==========\n",
      "early stopping after epoch 5800\n",
      "========end phase 1/1==========\n",
      "[new] Elapsed: 22.996680974960327\n",
      "('k9c12_nobn_k8s4max_vanilla', 'adam_longer') 0.633038 0.6504\n",
      "========starting phase 1/1==========\n",
      "========end phase 1/1==========\n",
      "[old] Elapsed: 14.709784030914307\n",
      "========starting phase 1/1==========\n",
      "========starting epoch 1000==========\n",
      "val metric\n",
      " {'neg_corr': -0.54248965, 'corr': 0.54248965, 'mse': 0.0058171982}\n",
      "test metric\n",
      " {'neg_corr': -0.52573133, 'corr': 0.52573133, 'mse': 0.0060765478}\n",
      "========done epoch 1000==========\n",
      "========starting epoch 2000==========\n",
      "val metric\n",
      " {'neg_corr': -0.58641076, 'corr': 0.58641076, 'mse': 0.0051309848}\n",
      "test metric\n",
      " {'neg_corr': -0.57808793, 'corr': 0.57808793, 'mse': 0.0053700525}\n",
      "========done epoch 2000==========\n",
      "========starting epoch 3000==========\n",
      "val metric\n",
      " {'neg_corr': -0.60661578, 'corr': 0.60661578, 'mse': 0.0052022771}\n",
      "test metric\n",
      " {'neg_corr': -0.62398303, 'corr': 0.62398303, 'mse': 0.0050465432}\n",
      "========done epoch 3000==========\n",
      "========starting epoch 4000==========\n",
      "val metric\n",
      " {'neg_corr': -0.60595852, 'corr': 0.60595852, 'mse': 0.0054064877}\n",
      "test metric\n",
      " {'neg_corr': -0.61754954, 'corr': 0.61754954, 'mse': 0.0054722363}\n",
      "========done epoch 4000==========\n",
      "early stopping after epoch 4400\n",
      "========end phase 1/1==========\n",
      "[new] Elapsed: 15.326603174209595\n",
      "('k9c12_bn_k8s4max_vanilla', 'baseline') 0.649912 0.625336\n",
      "========starting phase 1/1==========\n",
      "========end phase 1/1==========\n",
      "[old] Elapsed: 19.024668216705322\n",
      "========starting phase 1/1==========\n",
      "========starting epoch 1000==========\n",
      "val metric\n",
      " {'neg_corr': -0.54256177, 'corr': 0.54256177, 'mse': 0.0054969541}\n",
      "test metric\n",
      " {'neg_corr': -0.54872411, 'corr': 0.54872411, 'mse': 0.0055092024}\n",
      "========done epoch 1000==========\n",
      "========starting epoch 2000==========\n",
      "val metric\n",
      " {'neg_corr': -0.62121695, 'corr': 0.62121695, 'mse': 0.0046901312}\n",
      "test metric\n",
      " {'neg_corr': -0.60768974, 'corr': 0.60768974, 'mse': 0.0049142838}\n",
      "========done epoch 2000==========\n",
      "========starting epoch 3000==========\n",
      "val metric\n",
      " {'neg_corr': -0.64358479, 'corr': 0.64358479, 'mse': 0.0045153755}\n",
      "test metric\n",
      " {'neg_corr': -0.63430095, 'corr': 0.63430095, 'mse': 0.004698412}\n",
      "========done epoch 3000==========\n",
      "early stopping after epoch 3600\n",
      "========end phase 1/1==========\n",
      "[new] Elapsed: 12.297065496444702\n",
      "('k9c12_bn_k8s4max_vanilla', 'middle_decay') 0.626709 0.649783\n",
      "========starting phase 1/1==========\n",
      "========end phase 1/1==========\n",
      "[old] Elapsed: 17.409578800201416\n",
      "========starting phase 1/1==========\n",
      "========starting epoch 1000==========\n",
      "val metric\n",
      " {'neg_corr': -0.54979217, 'corr': 0.54979217, 'mse': 0.0053777169}\n",
      "test metric\n",
      " {'neg_corr': -0.53472769, 'corr': 0.53472769, 'mse': 0.0056599812}\n",
      "========done epoch 1000==========\n",
      "========starting epoch 2000==========\n",
      "val metric\n",
      " {'neg_corr': -0.55725408, 'corr': 0.55725408, 'mse': 0.0054800371}\n",
      "test metric\n",
      " {'neg_corr': -0.54660261, 'corr': 0.54660261, 'mse': 0.0057640234}\n",
      "========done epoch 2000==========\n",
      "========starting epoch 3000==========\n",
      "val metric\n",
      " {'neg_corr': -0.55951881, 'corr': 0.55951881, 'mse': 0.0058578905}\n",
      "test metric\n",
      " {'neg_corr': -0.57014757, 'corr': 0.57014757, 'mse': 0.0059039034}\n",
      "========done epoch 3000==========\n",
      "early stopping after epoch 3500\n",
      "========end phase 1/1==========\n",
      "[new] Elapsed: 13.938993453979492\n",
      "('k9c12_bn_k8s4max_vanilla', 'adam_longer') 0.583086 0.565129\n"
     ]
    }
   ],
   "source": [
    "do()"
   ]
  },
  {
   "cell_type": "code",
   "execution_count": null,
   "metadata": {},
   "outputs": [],
   "source": []
  }
 ],
 "metadata": {
  "kernelspec": {
   "display_name": "Python 3",
   "language": "python",
   "name": "python3"
  },
  "language_info": {
   "codemirror_mode": {
    "name": "ipython",
    "version": 3
   },
   "file_extension": ".py",
   "mimetype": "text/x-python",
   "name": "python",
   "nbconvert_exporter": "python",
   "pygments_lexer": "ipython3",
   "version": "3.6.4"
  }
 },
 "nbformat": 4,
 "nbformat_minor": 2
}

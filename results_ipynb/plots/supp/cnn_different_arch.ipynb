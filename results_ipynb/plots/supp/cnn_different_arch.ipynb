{
 "cells": [
  {
   "cell_type": "markdown",
   "metadata": {},
   "source": [
    "right now, this compares 9 channel CNN vs. GLMs, in terms of raw performance (cc^2 or cc), on ALL neurons (so no subset stuff yet)"
   ]
  },
  {
   "cell_type": "code",
   "execution_count": 1,
   "metadata": {},
   "outputs": [],
   "source": [
    "%matplotlib inline\n",
    "import matplotlib.pyplot as plt"
   ]
  },
  {
   "cell_type": "code",
   "execution_count": 2,
   "metadata": {},
   "outputs": [],
   "source": [
    "import numpy as np\n",
    "import pandas as pd\n",
    "from tang_jcompneuro.model_fitting_postprocess import load_data_generic"
   ]
  },
  {
   "cell_type": "code",
   "execution_count": null,
   "metadata": {},
   "outputs": [],
   "source": []
  },
  {
   "cell_type": "code",
   "execution_count": 3,
   "metadata": {},
   "outputs": [],
   "source": [
    "def check_all(squared, score_col_name):\n",
    "    models_to_examine = [\n",
    "        ('cnn', 'b.9'),\n",
    "        ('cnn', 'b.10'),\n",
    "        ('cnn', 'b.12'),\n",
    "        ('cnn', '2l_k7d1_k3d1p1.7'),\n",
    "        ('cnn', '2l_k5d1_k3d1p1.7'),\n",
    "#         ('glm', 'fpower_softplus'),\n",
    "        ('cnn', '2l_k5d2_k3d1p1.7'),\n",
    "        ('cnn', '2l_k4d2_k3d1p1.7'),\n",
    "    ] # TODO should make this a ordered dict.\n",
    "      # so that it will be easier to collect best val model for each model class.\n",
    "    \n",
    "    return load_data_generic(models_to_examine, load_naive=False, metric='ccnorm_5', squared=squared,\n",
    "                            score_col_name=score_col_name)"
   ]
  },
  {
   "cell_type": "code",
   "execution_count": 4,
   "metadata": {},
   "outputs": [
    {
     "name": "stdout",
     "output_type": "stream",
     "text": [
      "MkA_Shape all\n",
      "MkA_Shape OT\n",
      "MkE2_Shape all\n",
      "MkE2_Shape OT\n"
     ]
    }
   ],
   "source": [
    "df_all_cc2 = check_all(squared=True, score_col_name='cc2').xs(100, level='percentage').sort_index()"
   ]
  },
  {
   "cell_type": "code",
   "execution_count": 5,
   "metadata": {},
   "outputs": [],
   "source": [
    "# this is the way to change a multiindex's names.\n",
    "# df_all.index.rename(['haha','haha2','haha3'], inplace=True)"
   ]
  },
  {
   "cell_type": "code",
   "execution_count": 6,
   "metadata": {},
   "outputs": [
    {
     "data": {
      "text/html": [
       "<div>\n",
       "<style scoped>\n",
       "    .dataframe tbody tr th:only-of-type {\n",
       "        vertical-align: middle;\n",
       "    }\n",
       "\n",
       "    .dataframe tbody tr th {\n",
       "        vertical-align: top;\n",
       "    }\n",
       "\n",
       "    .dataframe thead th {\n",
       "        text-align: right;\n",
       "    }\n",
       "</style>\n",
       "<table border=\"1\" class=\"dataframe\">\n",
       "  <thead>\n",
       "    <tr style=\"text-align: right;\">\n",
       "      <th></th>\n",
       "      <th>subset</th>\n",
       "      <th>OT</th>\n",
       "      <th>all</th>\n",
       "    </tr>\n",
       "    <tr>\n",
       "      <th>dataset</th>\n",
       "      <th>model</th>\n",
       "      <th></th>\n",
       "      <th></th>\n",
       "    </tr>\n",
       "  </thead>\n",
       "  <tbody>\n",
       "    <tr>\n",
       "      <th rowspan=\"7\" valign=\"top\">MkA_Shape</th>\n",
       "      <th>cnn_2l_k4d2_k3d1p1.7$False/False</th>\n",
       "      <td>0.497739</td>\n",
       "      <td>0.519880</td>\n",
       "    </tr>\n",
       "    <tr>\n",
       "      <th>cnn_2l_k5d1_k3d1p1.7$False/False</th>\n",
       "      <td>0.488781</td>\n",
       "      <td>0.517351</td>\n",
       "    </tr>\n",
       "    <tr>\n",
       "      <th>cnn_2l_k5d2_k3d1p1.7$False/False</th>\n",
       "      <td>0.497182</td>\n",
       "      <td>0.522709</td>\n",
       "    </tr>\n",
       "    <tr>\n",
       "      <th>cnn_2l_k7d1_k3d1p1.7$False/False</th>\n",
       "      <td>0.495024</td>\n",
       "      <td>0.526322</td>\n",
       "    </tr>\n",
       "    <tr>\n",
       "      <th>cnn_b.10$False/False</th>\n",
       "      <td>0.466594</td>\n",
       "      <td>0.508332</td>\n",
       "    </tr>\n",
       "    <tr>\n",
       "      <th>cnn_b.12$False/False</th>\n",
       "      <td>0.474667</td>\n",
       "      <td>0.514160</td>\n",
       "    </tr>\n",
       "    <tr>\n",
       "      <th>cnn_b.9$False/False</th>\n",
       "      <td>0.473150</td>\n",
       "      <td>0.507491</td>\n",
       "    </tr>\n",
       "    <tr>\n",
       "      <th rowspan=\"7\" valign=\"top\">MkE2_Shape</th>\n",
       "      <th>cnn_2l_k4d2_k3d1p1.7$False/False</th>\n",
       "      <td>0.535674</td>\n",
       "      <td>0.545667</td>\n",
       "    </tr>\n",
       "    <tr>\n",
       "      <th>cnn_2l_k5d1_k3d1p1.7$False/False</th>\n",
       "      <td>0.537828</td>\n",
       "      <td>0.553052</td>\n",
       "    </tr>\n",
       "    <tr>\n",
       "      <th>cnn_2l_k5d2_k3d1p1.7$False/False</th>\n",
       "      <td>0.522176</td>\n",
       "      <td>0.544316</td>\n",
       "    </tr>\n",
       "    <tr>\n",
       "      <th>cnn_2l_k7d1_k3d1p1.7$False/False</th>\n",
       "      <td>0.535613</td>\n",
       "      <td>0.557072</td>\n",
       "    </tr>\n",
       "    <tr>\n",
       "      <th>cnn_b.10$False/False</th>\n",
       "      <td>0.516914</td>\n",
       "      <td>0.542612</td>\n",
       "    </tr>\n",
       "    <tr>\n",
       "      <th>cnn_b.12$False/False</th>\n",
       "      <td>0.524222</td>\n",
       "      <td>0.550695</td>\n",
       "    </tr>\n",
       "    <tr>\n",
       "      <th>cnn_b.9$False/False</th>\n",
       "      <td>0.514725</td>\n",
       "      <td>0.540943</td>\n",
       "    </tr>\n",
       "  </tbody>\n",
       "</table>\n",
       "</div>"
      ],
      "text/plain": [
       "subset                                             OT       all\n",
       "dataset    model                                               \n",
       "MkA_Shape  cnn_2l_k4d2_k3d1p1.7$False/False  0.497739  0.519880\n",
       "           cnn_2l_k5d1_k3d1p1.7$False/False  0.488781  0.517351\n",
       "           cnn_2l_k5d2_k3d1p1.7$False/False  0.497182  0.522709\n",
       "           cnn_2l_k7d1_k3d1p1.7$False/False  0.495024  0.526322\n",
       "           cnn_b.10$False/False              0.466594  0.508332\n",
       "           cnn_b.12$False/False              0.474667  0.514160\n",
       "           cnn_b.9$False/False               0.473150  0.507491\n",
       "MkE2_Shape cnn_2l_k4d2_k3d1p1.7$False/False  0.535674  0.545667\n",
       "           cnn_2l_k5d1_k3d1p1.7$False/False  0.537828  0.553052\n",
       "           cnn_2l_k5d2_k3d1p1.7$False/False  0.522176  0.544316\n",
       "           cnn_2l_k7d1_k3d1p1.7$False/False  0.535613  0.557072\n",
       "           cnn_b.10$False/False              0.516914  0.542612\n",
       "           cnn_b.12$False/False              0.524222  0.550695\n",
       "           cnn_b.9$False/False               0.514725  0.540943"
      ]
     },
     "execution_count": 6,
     "metadata": {},
     "output_type": "execute_result"
    }
   ],
   "source": [
    "# OT neurons. these numbers are little lower than Fig A.5 and Fig 6 of first submission. \n",
    "# as expected, due to previous model's overfitting.\n",
    "df_all_cc2.apply(lambda x: x['cc2']['OT']['mean'], axis=1).unstack('subset')"
   ]
  },
  {
   "cell_type": "code",
   "execution_count": 7,
   "metadata": {},
   "outputs": [
    {
     "data": {
      "text/html": [
       "<div>\n",
       "<style scoped>\n",
       "    .dataframe tbody tr th:only-of-type {\n",
       "        vertical-align: middle;\n",
       "    }\n",
       "\n",
       "    .dataframe tbody tr th {\n",
       "        vertical-align: top;\n",
       "    }\n",
       "\n",
       "    .dataframe thead th {\n",
       "        text-align: right;\n",
       "    }\n",
       "</style>\n",
       "<table border=\"1\" class=\"dataframe\">\n",
       "  <thead>\n",
       "    <tr style=\"text-align: right;\">\n",
       "      <th></th>\n",
       "      <th>subset</th>\n",
       "      <th>OT</th>\n",
       "      <th>all</th>\n",
       "    </tr>\n",
       "    <tr>\n",
       "      <th>dataset</th>\n",
       "      <th>model</th>\n",
       "      <th></th>\n",
       "      <th></th>\n",
       "    </tr>\n",
       "  </thead>\n",
       "  <tbody>\n",
       "    <tr>\n",
       "      <th rowspan=\"7\" valign=\"top\">MkA_Shape</th>\n",
       "      <th>cnn_2l_k4d2_k3d1p1.7$False/False</th>\n",
       "      <td>0.246809</td>\n",
       "      <td>0.441707</td>\n",
       "    </tr>\n",
       "    <tr>\n",
       "      <th>cnn_2l_k5d1_k3d1p1.7$False/False</th>\n",
       "      <td>0.241783</td>\n",
       "      <td>0.438452</td>\n",
       "    </tr>\n",
       "    <tr>\n",
       "      <th>cnn_2l_k5d2_k3d1p1.7$False/False</th>\n",
       "      <td>0.239739</td>\n",
       "      <td>0.443920</td>\n",
       "    </tr>\n",
       "    <tr>\n",
       "      <th>cnn_2l_k7d1_k3d1p1.7$False/False</th>\n",
       "      <td>0.245976</td>\n",
       "      <td>0.450182</td>\n",
       "    </tr>\n",
       "    <tr>\n",
       "      <th>cnn_b.10$False/False</th>\n",
       "      <td>0.225049</td>\n",
       "      <td>0.423358</td>\n",
       "    </tr>\n",
       "    <tr>\n",
       "      <th>cnn_b.12$False/False</th>\n",
       "      <td>0.231753</td>\n",
       "      <td>0.426111</td>\n",
       "    </tr>\n",
       "    <tr>\n",
       "      <th>cnn_b.9$False/False</th>\n",
       "      <td>0.232761</td>\n",
       "      <td>0.424384</td>\n",
       "    </tr>\n",
       "    <tr>\n",
       "      <th rowspan=\"7\" valign=\"top\">MkE2_Shape</th>\n",
       "      <th>cnn_2l_k4d2_k3d1p1.7$False/False</th>\n",
       "      <td>0.248805</td>\n",
       "      <td>0.403088</td>\n",
       "    </tr>\n",
       "    <tr>\n",
       "      <th>cnn_2l_k5d1_k3d1p1.7$False/False</th>\n",
       "      <td>0.254240</td>\n",
       "      <td>0.406536</td>\n",
       "    </tr>\n",
       "    <tr>\n",
       "      <th>cnn_2l_k5d2_k3d1p1.7$False/False</th>\n",
       "      <td>0.242208</td>\n",
       "      <td>0.410119</td>\n",
       "    </tr>\n",
       "    <tr>\n",
       "      <th>cnn_2l_k7d1_k3d1p1.7$False/False</th>\n",
       "      <td>0.253400</td>\n",
       "      <td>0.412075</td>\n",
       "    </tr>\n",
       "    <tr>\n",
       "      <th>cnn_b.10$False/False</th>\n",
       "      <td>0.233190</td>\n",
       "      <td>0.398298</td>\n",
       "    </tr>\n",
       "    <tr>\n",
       "      <th>cnn_b.12$False/False</th>\n",
       "      <td>0.236468</td>\n",
       "      <td>0.401814</td>\n",
       "    </tr>\n",
       "    <tr>\n",
       "      <th>cnn_b.9$False/False</th>\n",
       "      <td>0.229838</td>\n",
       "      <td>0.396948</td>\n",
       "    </tr>\n",
       "  </tbody>\n",
       "</table>\n",
       "</div>"
      ],
      "text/plain": [
       "subset                                             OT       all\n",
       "dataset    model                                               \n",
       "MkA_Shape  cnn_2l_k4d2_k3d1p1.7$False/False  0.246809  0.441707\n",
       "           cnn_2l_k5d1_k3d1p1.7$False/False  0.241783  0.438452\n",
       "           cnn_2l_k5d2_k3d1p1.7$False/False  0.239739  0.443920\n",
       "           cnn_2l_k7d1_k3d1p1.7$False/False  0.245976  0.450182\n",
       "           cnn_b.10$False/False              0.225049  0.423358\n",
       "           cnn_b.12$False/False              0.231753  0.426111\n",
       "           cnn_b.9$False/False               0.232761  0.424384\n",
       "MkE2_Shape cnn_2l_k4d2_k3d1p1.7$False/False  0.248805  0.403088\n",
       "           cnn_2l_k5d1_k3d1p1.7$False/False  0.254240  0.406536\n",
       "           cnn_2l_k5d2_k3d1p1.7$False/False  0.242208  0.410119\n",
       "           cnn_2l_k7d1_k3d1p1.7$False/False  0.253400  0.412075\n",
       "           cnn_b.10$False/False              0.233190  0.398298\n",
       "           cnn_b.12$False/False              0.236468  0.401814\n",
       "           cnn_b.9$False/False               0.229838  0.396948"
      ]
     },
     "execution_count": 7,
     "metadata": {},
     "output_type": "execute_result"
    }
   ],
   "source": [
    "# HO neurons\n",
    "df_all_cc2.apply(lambda x: x['cc2']['HO']['mean'], axis=1).unstack('subset')"
   ]
  },
  {
   "cell_type": "code",
   "execution_count": 8,
   "metadata": {},
   "outputs": [],
   "source": [
    "# ok. time to plot.\n",
    "# this time I will only plot Monkey A,\n",
    "# one for gqm.4 gaussian vs. poisson\n",
    "# another for linear poisson vs softplus."
   ]
  },
  {
   "cell_type": "code",
   "execution_count": 9,
   "metadata": {},
   "outputs": [],
   "source": [
    "from tang_jcompneuro.plotting import image_subset_and_neuron_subset_list, show_one_basic"
   ]
  },
  {
   "cell_type": "code",
   "execution_count": 10,
   "metadata": {},
   "outputs": [],
   "source": [
    "from tang_jcompneuro import dir_dictionary\n",
    "import os.path"
   ]
  },
  {
   "cell_type": "code",
   "execution_count": 11,
   "metadata": {},
   "outputs": [],
   "source": [
    "# magic numbers here follow\n",
    "# https://github.com/leelabcnbc/tang_jcompneuro/blob/master/thesis_plots/v1_fitting/results_glm_opt_detailed.ipynb\n",
    "def draw_one_stuff(monkey, model_name_x, model_name_y, save=None):\n",
    "    # draw one by one.\n",
    "    model_name_x_real = f'cnn_{model_name_x}$False/False'\n",
    "    model_name_y_real = f'cnn_{model_name_y}$False/False'\n",
    "    assert model_name_y == '2l_k4d2_k3d1p1.7'\n",
    "    model_name_y = '2l.7'\n",
    "    num_panel = len(image_subset_and_neuron_subset_list)\n",
    "    \n",
    "    plt.close('all')\n",
    "    fig, axes = plt.subplots(1, num_panel, sharex=True, sharey=True, squeeze=False,\n",
    "                            figsize=(5.5,2.5))\n",
    "    for idx, (ax, (img_subset, neuron_subset)) in enumerate(zip(axes.ravel(), image_subset_and_neuron_subset_list)):\n",
    "        data_x = df_all_cc2.at[(monkey, img_subset, model_name_x_real), 'cc2'][neuron_subset]['raw']\n",
    "        data_y = df_all_cc2.at[(monkey, img_subset, model_name_y_real), 'cc2'][neuron_subset]['raw']\n",
    "        print(data_x.min(), data_x.max())\n",
    "        print(data_y.min(), data_y.max())\n",
    "        show_one_basic(data_x, data_y, title=f'{neuron_subset} neurons\\n{img_subset} stimuli',\n",
    "                      ax=ax,mean_title='mean $CC_\\mathrm{norm}^2$', xlabel=model_name_x,\n",
    "                      ylabel=model_name_y  if idx == 0 else None)\n",
    "    monkey_title = {'MkA_Shape': 'A', 'MkE2_Shape': 'B'}[monkey]\n",
    "    fig.suptitle(f'{model_name_y} vs. {model_name_x} on monkey {monkey_title}')\n",
    "    # adjust figure \n",
    "    fig.subplots_adjust(top=0.75, bottom=0.175, left=0.1, right=0.98, hspace=0.1, wspace=0.075)\n",
    "    \n",
    "    if save is not None:\n",
    "        save_dir = os.path.join(dir_dictionary['plots'], 'supp', 'cnn_different_arch')\n",
    "        os.makedirs(save_dir, exist_ok=True)\n",
    "        fig.savefig(os.path.join(save_dir, f'{save}.pdf'), dpi=300)\n",
    "    \n",
    "    plt.show()\n",
    "    "
   ]
  },
  {
   "cell_type": "code",
   "execution_count": 12,
   "metadata": {
    "scrolled": false
   },
   "outputs": [
    {
     "name": "stdout",
     "output_type": "stream",
     "text": [
      "0.00375188278074 1.0143110662\n",
      "0.0145366097231 1.04958792852\n",
      "0.00618595711386 0.86107714963\n",
      "0.0190840674754 0.867015056731\n",
      "0.00473971944384 0.83881373639\n",
      "0.00428719117234 0.872470987358\n"
     ]
    },
    {
     "data": {
      "image/png": "[encoded data removed]",
      "text/plain": [
       "<matplotlib.figure.Figure at 0x2b1c8fd73208>"
      ]
     },
     "metadata": {},
     "output_type": "display_data"
    }
   ],
   "source": [
    "draw_one_stuff('MkA_Shape', 'b.9', '2l_k4d2_k3d1p1.7', 'base_vs_2l_A')"
   ]
  },
  {
   "cell_type": "code",
   "execution_count": 13,
   "metadata": {},
   "outputs": [
    {
     "name": "stdout",
     "output_type": "stream",
     "text": [
      "0.00621548681138 0.989269414271\n",
      "0.0120551560909 1.0017064722\n",
      "0.0343608653602 0.850459700304\n",
      "0.0306776785274 0.869785773744\n",
      "0.00499755238294 0.899931773829\n",
      "0.0172585556769 0.911165206863\n"
     ]
    },
    {
     "data": {
      "image/png": "[encoded data removed]",
      "text/plain": [
       "<matplotlib.figure.Figure at 0x2b1c91e65940>"
      ]
     },
     "metadata": {},
     "output_type": "display_data"
    }
   ],
   "source": [
    "draw_one_stuff('MkE2_Shape', 'b.9', '2l_k4d2_k3d1p1.7', 'base_vs_2l_E2')"
   ]
  }
 ],
 "metadata": {
  "kernelspec": {
   "display_name": "Python 3",
   "language": "python",
   "name": "python3"
  },
  "language_info": {
   "codemirror_mode": {
    "name": "ipython",
    "version": 3
   },
   "file_extension": ".py",
   "mimetype": "text/x-python",
   "name": "python",
   "nbconvert_exporter": "python",
   "pygments_lexer": "ipython3",
   "version": "3.6.4"
  }
 },
 "nbformat": 4,
 "nbformat_minor": 2
}

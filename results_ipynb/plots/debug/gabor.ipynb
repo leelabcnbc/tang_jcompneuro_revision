{
 "cells": [
  {
   "cell_type": "code",
   "execution_count": 1,
   "metadata": {},
   "outputs": [],
   "source": [
    "%matplotlib inline\n",
    "import matplotlib.pyplot as plt\n"
   ]
  },
  {
   "cell_type": "code",
   "execution_count": 2,
   "metadata": {},
   "outputs": [],
   "source": [
    "import numpy as np\n",
    "import pandas as pd\n",
    "pd.options.display.max_rows = 999\n",
    "from tang_jcompneuro.model_fitting_postprocess import load_data_generic"
   ]
  },
  {
   "cell_type": "code",
   "execution_count": 5,
   "metadata": {},
   "outputs": [],
   "source": [
    "def check_all(squared, score_col_name):\n",
    "    models_to_examine = [\n",
    "        ('gabor', 'simple')\n",
    "    ]\n",
    "    \n",
    "    \n",
    "    return load_data_generic(models_to_examine, load_naive=False, metric='ccnorm_5', squared=squared,\n",
    "                            score_col_name=score_col_name,\n",
    "                            datasets_to_check=('MkA_Shape',\n",
    "                                               'MkE2_Shape'\n",
    "                                              ),\n",
    "                      subsets_to_check=('all',\n",
    "                                        'OT'\n",
    "                                       ),)\n"
   ]
  },
  {
   "cell_type": "code",
   "execution_count": 6,
   "metadata": {},
   "outputs": [
    {
     "name": "stdout",
     "output_type": "stream",
     "text": [
      "MkA_Shape all\n",
      "MkA_Shape OT\n",
      "MkE2_Shape all\n",
      "MkE2_Shape OT\n"
     ]
    }
   ],
   "source": [
    "df_all_cc2 = check_all(squared=True, score_col_name='cc2').xs(100, level='percentage').sort_index()"
   ]
  },
  {
   "cell_type": "code",
   "execution_count": 7,
   "metadata": {
    "scrolled": false
   },
   "outputs": [
    {
     "data": {
      "text/html": [
       "<div>\n",
       "<style scoped>\n",
       "    .dataframe tbody tr th:only-of-type {\n",
       "        vertical-align: middle;\n",
       "    }\n",
       "\n",
       "    .dataframe tbody tr th {\n",
       "        vertical-align: top;\n",
       "    }\n",
       "\n",
       "    .dataframe thead th {\n",
       "        text-align: right;\n",
       "    }\n",
       "</style>\n",
       "<table border=\"1\" class=\"dataframe\">\n",
       "  <thead>\n",
       "    <tr style=\"text-align: right;\">\n",
       "      <th></th>\n",
       "      <th>subset</th>\n",
       "      <th>OT</th>\n",
       "      <th>all</th>\n",
       "    </tr>\n",
       "    <tr>\n",
       "      <th>dataset</th>\n",
       "      <th>model</th>\n",
       "      <th></th>\n",
       "      <th></th>\n",
       "    </tr>\n",
       "  </thead>\n",
       "  <tbody>\n",
       "    <tr>\n",
       "      <th>MkA_Shape</th>\n",
       "      <th>gabor_simple$False/False</th>\n",
       "      <td>0.135204</td>\n",
       "      <td>0.159118</td>\n",
       "    </tr>\n",
       "    <tr>\n",
       "      <th>MkE2_Shape</th>\n",
       "      <th>gabor_simple$False/False</th>\n",
       "      <td>0.116399</td>\n",
       "      <td>0.155465</td>\n",
       "    </tr>\n",
       "  </tbody>\n",
       "</table>\n",
       "</div>"
      ],
      "text/plain": [
       "subset                                     OT       all\n",
       "dataset    model                                       \n",
       "MkA_Shape  gabor_simple$False/False  0.135204  0.159118\n",
       "MkE2_Shape gabor_simple$False/False  0.116399  0.155465"
      ]
     },
     "execution_count": 7,
     "metadata": {},
     "output_type": "execute_result"
    }
   ],
   "source": [
    "HO_neuron_perf = df_all_cc2.apply(lambda x: x['cc2']['HO']['mean'], axis=1).unstack('subset')\n",
    "HO_neuron_perf"
   ]
  },
  {
   "cell_type": "code",
   "execution_count": 8,
   "metadata": {},
   "outputs": [
    {
     "data": {
      "text/html": [
       "<div>\n",
       "<style scoped>\n",
       "    .dataframe tbody tr th:only-of-type {\n",
       "        vertical-align: middle;\n",
       "    }\n",
       "\n",
       "    .dataframe tbody tr th {\n",
       "        vertical-align: top;\n",
       "    }\n",
       "\n",
       "    .dataframe thead th {\n",
       "        text-align: right;\n",
       "    }\n",
       "</style>\n",
       "<table border=\"1\" class=\"dataframe\">\n",
       "  <thead>\n",
       "    <tr style=\"text-align: right;\">\n",
       "      <th></th>\n",
       "      <th>subset</th>\n",
       "      <th>OT</th>\n",
       "      <th>all</th>\n",
       "    </tr>\n",
       "    <tr>\n",
       "      <th>dataset</th>\n",
       "      <th>model</th>\n",
       "      <th></th>\n",
       "      <th></th>\n",
       "    </tr>\n",
       "  </thead>\n",
       "  <tbody>\n",
       "    <tr>\n",
       "      <th>MkA_Shape</th>\n",
       "      <th>gabor_simple$False/False</th>\n",
       "      <td>0.216447</td>\n",
       "      <td>0.205305</td>\n",
       "    </tr>\n",
       "    <tr>\n",
       "      <th>MkE2_Shape</th>\n",
       "      <th>gabor_simple$False/False</th>\n",
       "      <td>0.237685</td>\n",
       "      <td>0.221754</td>\n",
       "    </tr>\n",
       "  </tbody>\n",
       "</table>\n",
       "</div>"
      ],
      "text/plain": [
       "subset                                     OT       all\n",
       "dataset    model                                       \n",
       "MkA_Shape  gabor_simple$False/False  0.216447  0.205305\n",
       "MkE2_Shape gabor_simple$False/False  0.237685  0.221754"
      ]
     },
     "execution_count": 8,
     "metadata": {},
     "output_type": "execute_result"
    }
   ],
   "source": [
    "OT_neuron_perf = df_all_cc2.apply(lambda x: x['cc2']['OT']['mean'], axis=1).unstack('subset')\n",
    "OT_neuron_perf"
   ]
  }
 ],
 "metadata": {
  "kernelspec": {
   "display_name": "Python 3",
   "language": "python",
   "name": "python3"
  },
  "language_info": {
   "codemirror_mode": {
    "name": "ipython",
    "version": 3
   },
   "file_extension": ".py",
   "mimetype": "text/x-python",
   "name": "python",
   "nbconvert_exporter": "python",
   "pygments_lexer": "ipython3",
   "version": "3.6.4"
  }
 },
 "nbformat": 4,
 "nbformat_minor": 2
}

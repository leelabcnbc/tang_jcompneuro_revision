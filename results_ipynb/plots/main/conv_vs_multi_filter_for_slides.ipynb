{
 "cells": [
  {
   "cell_type": "markdown",
   "metadata": {},
   "source": [
    "the main figure of the paper."
   ]
  },
  {
   "cell_type": "code",
   "execution_count": 1,
   "metadata": {},
   "outputs": [],
   "source": [
    "%matplotlib inline\n",
    "import matplotlib.pyplot as plt"
   ]
  },
  {
   "cell_type": "code",
   "execution_count": 2,
   "metadata": {},
   "outputs": [],
   "source": [
    "import numpy as np\n",
    "import pandas as pd\n",
    "pd.options.display.max_rows = 999\n",
    "from tang_jcompneuro.model_fitting_postprocess import load_data_generic"
   ]
  },
  {
   "cell_type": "code",
   "execution_count": 3,
   "metadata": {},
   "outputs": [],
   "source": [
    "cnn_mapping_dict = {\n",
    "#     'b.9': 'B.9',\n",
    "#     'b.1': 'B.1',\n",
    "    'b.9_avg': 'conv',\n",
    "    'mlp.20': 'no conv',\n",
    "}\n",
    "\n",
    "\n",
    "def modelname_alternative(model_type, model_subtype, _1, _2):\n",
    "    if model_type == 'cnn':\n",
    "        assert not _2\n",
    "        if _1:\n",
    "            raise RuntimeError\n",
    "            suffix = cnn_mapping_dict[model_subtype] + '_all'\n",
    "        else:\n",
    "            suffix = cnn_mapping_dict[model_subtype]\n",
    "    elif model_type == 'gabor':\n",
    "        suffix = 'Gabor_' + {'simple': 's', 'complex': 'c', 'multi,1,2': '1s2c', 'single': 'single'}[model_subtype]\n",
    "        \n",
    "    else:\n",
    "        raise NotImplementedError\n",
    "    # dollar is later used to find those relevant models.\n",
    "    return f'{model_type}${suffix}'\n",
    "    # well, I guess I don't need to be that fancy.\n",
    "    # just manually doing it should be fine.\n",
    "    # also more flexible, as I can control order more freely.\n",
    "#     reutr\n",
    "    \n",
    "\n",
    "\n",
    "def check_all(squared, score_col_name):\n",
    "    models_to_examine = [\n",
    "#         ('cnn', 'b.9'),\n",
    "#         ('cnn', 'b.1'),\n",
    "        ('cnn', 'mlp.20'),\n",
    "        ('cnn', 'b.9_avg'),\n",
    "#         ('gabor', 'simple'),\n",
    "#         ('gabor', 'complex'),\n",
    "#         ('gabor', 'multi,1,2'),\n",
    "#         ('gabor', 'single', True, False, ('simple', 'complex')),\n",
    "    ]\n",
    "    \n",
    "    \n",
    "    return load_data_generic(models_to_examine, load_naive=False, metric='ccnorm_5', squared=squared,\n",
    "                            score_col_name=score_col_name, modelname_alternative=modelname_alternative,\n",
    "#                             datasets_to_check=('MkA_Shape',)\n",
    "                            )\n"
   ]
  },
  {
   "cell_type": "code",
   "execution_count": 4,
   "metadata": {
    "scrolled": false
   },
   "outputs": [
    {
     "name": "stdout",
     "output_type": "stream",
     "text": [
      "MkA_Shape all\n",
      "MkA_Shape OT\n",
      "MkE2_Shape all\n",
      "MkE2_Shape OT\n"
     ]
    }
   ],
   "source": [
    "df_all_cc2 = check_all(squared=True, score_col_name='cc2').xs(100, level='percentage').sort_index()"
   ]
  },
  {
   "cell_type": "code",
   "execution_count": 5,
   "metadata": {
    "scrolled": false
   },
   "outputs": [
    {
     "data": {
      "text/html": [
       "<div>\n",
       "<style scoped>\n",
       "    .dataframe tbody tr th:only-of-type {\n",
       "        vertical-align: middle;\n",
       "    }\n",
       "\n",
       "    .dataframe tbody tr th {\n",
       "        vertical-align: top;\n",
       "    }\n",
       "\n",
       "    .dataframe thead th {\n",
       "        text-align: right;\n",
       "    }\n",
       "</style>\n",
       "<table border=\"1\" class=\"dataframe\">\n",
       "  <thead>\n",
       "    <tr style=\"text-align: right;\">\n",
       "      <th></th>\n",
       "      <th></th>\n",
       "      <th></th>\n",
       "      <th>cc2</th>\n",
       "    </tr>\n",
       "    <tr>\n",
       "      <th>dataset</th>\n",
       "      <th>subset</th>\n",
       "      <th>model</th>\n",
       "      <th></th>\n",
       "    </tr>\n",
       "  </thead>\n",
       "  <tbody>\n",
       "    <tr>\n",
       "      <th rowspan=\"4\" valign=\"top\">MkA_Shape</th>\n",
       "      <th rowspan=\"2\" valign=\"top\">OT</th>\n",
       "      <th>cnn$conv</th>\n",
       "      <td>{'OT': {'raw': [0.546390109851, 0.664418314007...</td>\n",
       "    </tr>\n",
       "    <tr>\n",
       "      <th>cnn$no conv</th>\n",
       "      <td>{'OT': {'raw': [0.538138322118, 0.457842917396...</td>\n",
       "    </tr>\n",
       "    <tr>\n",
       "      <th rowspan=\"2\" valign=\"top\">all</th>\n",
       "      <th>cnn$conv</th>\n",
       "      <td>{'OT': {'raw': [0.497707883209, 0.718963574846...</td>\n",
       "    </tr>\n",
       "    <tr>\n",
       "      <th>cnn$no conv</th>\n",
       "      <td>{'OT': {'raw': [0.506790228846, 0.710090784051...</td>\n",
       "    </tr>\n",
       "    <tr>\n",
       "      <th rowspan=\"4\" valign=\"top\">MkE2_Shape</th>\n",
       "      <th rowspan=\"2\" valign=\"top\">OT</th>\n",
       "      <th>cnn$conv</th>\n",
       "      <td>{'OT': {'raw': [0.270066832855, 0.740817613377...</td>\n",
       "    </tr>\n",
       "    <tr>\n",
       "      <th>cnn$no conv</th>\n",
       "      <td>{'OT': {'raw': [0.249382249218, 0.573812570945...</td>\n",
       "    </tr>\n",
       "    <tr>\n",
       "      <th rowspan=\"2\" valign=\"top\">all</th>\n",
       "      <th>cnn$conv</th>\n",
       "      <td>{'OT': {'raw': [0.456324972084, 0.747700811801...</td>\n",
       "    </tr>\n",
       "    <tr>\n",
       "      <th>cnn$no conv</th>\n",
       "      <td>{'OT': {'raw': [0.297716821903, 0.617258155366...</td>\n",
       "    </tr>\n",
       "  </tbody>\n",
       "</table>\n",
       "</div>"
      ],
      "text/plain": [
       "                                                                             cc2\n",
       "dataset    subset model                                                         \n",
       "MkA_Shape  OT     cnn$conv     {'OT': {'raw': [0.546390109851, 0.664418314007...\n",
       "                  cnn$no conv  {'OT': {'raw': [0.538138322118, 0.457842917396...\n",
       "           all    cnn$conv     {'OT': {'raw': [0.497707883209, 0.718963574846...\n",
       "                  cnn$no conv  {'OT': {'raw': [0.506790228846, 0.710090784051...\n",
       "MkE2_Shape OT     cnn$conv     {'OT': {'raw': [0.270066832855, 0.740817613377...\n",
       "                  cnn$no conv  {'OT': {'raw': [0.249382249218, 0.573812570945...\n",
       "           all    cnn$conv     {'OT': {'raw': [0.456324972084, 0.747700811801...\n",
       "                  cnn$no conv  {'OT': {'raw': [0.297716821903, 0.617258155366..."
      ]
     },
     "execution_count": 5,
     "metadata": {},
     "output_type": "execute_result"
    }
   ],
   "source": [
    "df_all_cc2"
   ]
  },
  {
   "cell_type": "code",
   "execution_count": 6,
   "metadata": {
    "scrolled": false
   },
   "outputs": [
    {
     "data": {
      "text/html": [
       "<div>\n",
       "<style scoped>\n",
       "    .dataframe tbody tr th:only-of-type {\n",
       "        vertical-align: middle;\n",
       "    }\n",
       "\n",
       "    .dataframe tbody tr th {\n",
       "        vertical-align: top;\n",
       "    }\n",
       "\n",
       "    .dataframe thead th {\n",
       "        text-align: right;\n",
       "    }\n",
       "</style>\n",
       "<table border=\"1\" class=\"dataframe\">\n",
       "  <thead>\n",
       "    <tr style=\"text-align: right;\">\n",
       "      <th></th>\n",
       "      <th>subset</th>\n",
       "      <th>OT</th>\n",
       "      <th>all</th>\n",
       "    </tr>\n",
       "    <tr>\n",
       "      <th>dataset</th>\n",
       "      <th>model</th>\n",
       "      <th></th>\n",
       "      <th></th>\n",
       "    </tr>\n",
       "  </thead>\n",
       "  <tbody>\n",
       "    <tr>\n",
       "      <th rowspan=\"2\" valign=\"top\">MkA_Shape</th>\n",
       "      <th>cnn$conv</th>\n",
       "      <td>0.250641</td>\n",
       "      <td>0.367786</td>\n",
       "    </tr>\n",
       "    <tr>\n",
       "      <th>cnn$no conv</th>\n",
       "      <td>0.179152</td>\n",
       "      <td>0.304627</td>\n",
       "    </tr>\n",
       "    <tr>\n",
       "      <th rowspan=\"2\" valign=\"top\">MkE2_Shape</th>\n",
       "      <th>cnn$conv</th>\n",
       "      <td>0.252035</td>\n",
       "      <td>0.377163</td>\n",
       "    </tr>\n",
       "    <tr>\n",
       "      <th>cnn$no conv</th>\n",
       "      <td>0.184651</td>\n",
       "      <td>0.293833</td>\n",
       "    </tr>\n",
       "  </tbody>\n",
       "</table>\n",
       "</div>"
      ],
      "text/plain": [
       "subset                        OT       all\n",
       "dataset    model                          \n",
       "MkA_Shape  cnn$conv     0.250641  0.367786\n",
       "           cnn$no conv  0.179152  0.304627\n",
       "MkE2_Shape cnn$conv     0.252035  0.377163\n",
       "           cnn$no conv  0.184651  0.293833"
      ]
     },
     "execution_count": 6,
     "metadata": {},
     "output_type": "execute_result"
    }
   ],
   "source": [
    "# seems that I don't need those small init ones.\n",
    "# using the default one already looks good enough, in terms of mean performance.\n",
    "HO_neuron_perf = df_all_cc2.apply(lambda x: x['cc2']['HO']['mean'], axis=1).unstack('subset')\n",
    "HO_neuron_perf"
   ]
  },
  {
   "cell_type": "code",
   "execution_count": 7,
   "metadata": {},
   "outputs": [
    {
     "data": {
      "text/html": [
       "<div>\n",
       "<style scoped>\n",
       "    .dataframe tbody tr th:only-of-type {\n",
       "        vertical-align: middle;\n",
       "    }\n",
       "\n",
       "    .dataframe tbody tr th {\n",
       "        vertical-align: top;\n",
       "    }\n",
       "\n",
       "    .dataframe thead th {\n",
       "        text-align: right;\n",
       "    }\n",
       "</style>\n",
       "<table border=\"1\" class=\"dataframe\">\n",
       "  <thead>\n",
       "    <tr style=\"text-align: right;\">\n",
       "      <th></th>\n",
       "      <th>subset</th>\n",
       "      <th>OT</th>\n",
       "      <th>all</th>\n",
       "    </tr>\n",
       "    <tr>\n",
       "      <th>dataset</th>\n",
       "      <th>model</th>\n",
       "      <th></th>\n",
       "      <th></th>\n",
       "    </tr>\n",
       "  </thead>\n",
       "  <tbody>\n",
       "    <tr>\n",
       "      <th rowspan=\"2\" valign=\"top\">MkA_Shape</th>\n",
       "      <th>cnn$conv</th>\n",
       "      <td>0</td>\n",
       "      <td>0</td>\n",
       "    </tr>\n",
       "    <tr>\n",
       "      <th>cnn$no conv</th>\n",
       "      <td>0</td>\n",
       "      <td>0</td>\n",
       "    </tr>\n",
       "    <tr>\n",
       "      <th rowspan=\"2\" valign=\"top\">MkE2_Shape</th>\n",
       "      <th>cnn$conv</th>\n",
       "      <td>0</td>\n",
       "      <td>0</td>\n",
       "    </tr>\n",
       "    <tr>\n",
       "      <th>cnn$no conv</th>\n",
       "      <td>0</td>\n",
       "      <td>0</td>\n",
       "    </tr>\n",
       "  </tbody>\n",
       "</table>\n",
       "</div>"
      ],
      "text/plain": [
       "subset                  OT  all\n",
       "dataset    model               \n",
       "MkA_Shape  cnn$conv      0    0\n",
       "           cnn$no conv   0    0\n",
       "MkE2_Shape cnn$conv      0    0\n",
       "           cnn$no conv   0    0"
      ]
     },
     "execution_count": 7,
     "metadata": {},
     "output_type": "execute_result"
    }
   ],
   "source": [
    "HO_fail = df_all_cc2.apply(lambda x: np.sum(x['cc2']['HO']['raw']==0), axis=1).unstack('subset')\n",
    "HO_fail # not necessarily fail. just all zero."
   ]
  },
  {
   "cell_type": "code",
   "execution_count": 8,
   "metadata": {},
   "outputs": [
    {
     "data": {
      "text/html": [
       "<div>\n",
       "<style scoped>\n",
       "    .dataframe tbody tr th:only-of-type {\n",
       "        vertical-align: middle;\n",
       "    }\n",
       "\n",
       "    .dataframe tbody tr th {\n",
       "        vertical-align: top;\n",
       "    }\n",
       "\n",
       "    .dataframe thead th {\n",
       "        text-align: right;\n",
       "    }\n",
       "</style>\n",
       "<table border=\"1\" class=\"dataframe\">\n",
       "  <thead>\n",
       "    <tr style=\"text-align: right;\">\n",
       "      <th></th>\n",
       "      <th>subset</th>\n",
       "      <th>OT</th>\n",
       "      <th>all</th>\n",
       "    </tr>\n",
       "    <tr>\n",
       "      <th>dataset</th>\n",
       "      <th>model</th>\n",
       "      <th></th>\n",
       "      <th></th>\n",
       "    </tr>\n",
       "  </thead>\n",
       "  <tbody>\n",
       "    <tr>\n",
       "      <th rowspan=\"2\" valign=\"top\">MkA_Shape</th>\n",
       "      <th>cnn$conv</th>\n",
       "      <td>0.499659</td>\n",
       "      <td>0.484823</td>\n",
       "    </tr>\n",
       "    <tr>\n",
       "      <th>cnn$no conv</th>\n",
       "      <td>0.375387</td>\n",
       "      <td>0.407508</td>\n",
       "    </tr>\n",
       "    <tr>\n",
       "      <th rowspan=\"2\" valign=\"top\">MkE2_Shape</th>\n",
       "      <th>cnn$conv</th>\n",
       "      <td>0.538177</td>\n",
       "      <td>0.543661</td>\n",
       "    </tr>\n",
       "    <tr>\n",
       "      <th>cnn$no conv</th>\n",
       "      <td>0.425298</td>\n",
       "      <td>0.453367</td>\n",
       "    </tr>\n",
       "  </tbody>\n",
       "</table>\n",
       "</div>"
      ],
      "text/plain": [
       "subset                        OT       all\n",
       "dataset    model                          \n",
       "MkA_Shape  cnn$conv     0.499659  0.484823\n",
       "           cnn$no conv  0.375387  0.407508\n",
       "MkE2_Shape cnn$conv     0.538177  0.543661\n",
       "           cnn$no conv  0.425298  0.453367"
      ]
     },
     "execution_count": 8,
     "metadata": {},
     "output_type": "execute_result"
    }
   ],
   "source": [
    "OT_neuron_perf = df_all_cc2.apply(lambda x: x['cc2']['OT']['mean'], axis=1).unstack('subset')\n",
    "OT_neuron_perf"
   ]
  },
  {
   "cell_type": "code",
   "execution_count": 9,
   "metadata": {},
   "outputs": [
    {
     "data": {
      "text/html": [
       "<div>\n",
       "<style scoped>\n",
       "    .dataframe tbody tr th:only-of-type {\n",
       "        vertical-align: middle;\n",
       "    }\n",
       "\n",
       "    .dataframe tbody tr th {\n",
       "        vertical-align: top;\n",
       "    }\n",
       "\n",
       "    .dataframe thead th {\n",
       "        text-align: right;\n",
       "    }\n",
       "</style>\n",
       "<table border=\"1\" class=\"dataframe\">\n",
       "  <thead>\n",
       "    <tr style=\"text-align: right;\">\n",
       "      <th></th>\n",
       "      <th>subset</th>\n",
       "      <th>OT</th>\n",
       "      <th>all</th>\n",
       "    </tr>\n",
       "    <tr>\n",
       "      <th>dataset</th>\n",
       "      <th>model</th>\n",
       "      <th></th>\n",
       "      <th></th>\n",
       "    </tr>\n",
       "  </thead>\n",
       "  <tbody>\n",
       "    <tr>\n",
       "      <th rowspan=\"2\" valign=\"top\">MkA_Shape</th>\n",
       "      <th>cnn$conv</th>\n",
       "      <td>0</td>\n",
       "      <td>0</td>\n",
       "    </tr>\n",
       "    <tr>\n",
       "      <th>cnn$no conv</th>\n",
       "      <td>0</td>\n",
       "      <td>0</td>\n",
       "    </tr>\n",
       "    <tr>\n",
       "      <th rowspan=\"2\" valign=\"top\">MkE2_Shape</th>\n",
       "      <th>cnn$conv</th>\n",
       "      <td>0</td>\n",
       "      <td>0</td>\n",
       "    </tr>\n",
       "    <tr>\n",
       "      <th>cnn$no conv</th>\n",
       "      <td>0</td>\n",
       "      <td>0</td>\n",
       "    </tr>\n",
       "  </tbody>\n",
       "</table>\n",
       "</div>"
      ],
      "text/plain": [
       "subset                  OT  all\n",
       "dataset    model               \n",
       "MkA_Shape  cnn$conv      0    0\n",
       "           cnn$no conv   0    0\n",
       "MkE2_Shape cnn$conv      0    0\n",
       "           cnn$no conv   0    0"
      ]
     },
     "execution_count": 9,
     "metadata": {},
     "output_type": "execute_result"
    }
   ],
   "source": [
    "# so nobody actually fails.\n",
    "OT_fail = df_all_cc2.apply(lambda x: np.sum(x['cc2']['OT']['raw']==0), axis=1).unstack('subset')\n",
    "OT_fail"
   ]
  },
  {
   "cell_type": "code",
   "execution_count": 10,
   "metadata": {},
   "outputs": [],
   "source": [
    "import os.path\n",
    "from tang_jcompneuro import dir_dictionary\n",
    "from collections import OrderedDict"
   ]
  },
  {
   "cell_type": "code",
   "execution_count": 11,
   "metadata": {},
   "outputs": [],
   "source": [
    "from tang_jcompneuro.plotting import (image_subset_and_neuron_subset_list,\n",
    "                                      show_one_decomposed_bar,\n",
    "                                      show_one_decomposed_scatter,\n",
    "#                                       show_one_basic\n",
    "                                     )"
   ]
  },
  {
   "cell_type": "code",
   "execution_count": 12,
   "metadata": {},
   "outputs": [],
   "source": [
    "from tang_jcompneuro.cell_classification import get_ready_to_use_classification"
   ]
  },
  {
   "cell_type": "code",
   "execution_count": 13,
   "metadata": {},
   "outputs": [],
   "source": [
    "cell_class_dict_coarse = get_ready_to_use_classification(coarse=True, readonly=True)\n",
    "cell_class_dict_fine = get_ready_to_use_classification(coarse=False, readonly=True)"
   ]
  },
  {
   "cell_type": "code",
   "execution_count": 14,
   "metadata": {},
   "outputs": [],
   "source": [
    "def fetch_data_mean(dataset, img_subset, neuron_subset, model_type, model_subtype):\n",
    "    if neuron_subset == 'OT':\n",
    "        return OT_neuron_perf.at[(dataset, f'{model_type}${model_subtype}'), img_subset]\n",
    "    elif neuron_subset == 'HO':\n",
    "        return HO_neuron_perf.at[(dataset, f'{model_type}${model_subtype}'), img_subset]\n",
    "    else:\n",
    "        raise NotImplementedError\n",
    "        \n",
    "        \n",
    "def fetch_data_raw(dataset, img_subset, neuron_subset, model_type, model_subtype):\n",
    "    return df_all_cc2.at[(dataset, img_subset, f'{model_type}${model_subtype}'), 'cc2'][neuron_subset]['raw']\n",
    "\n",
    "def get_local_index_mask(dataset, neuron_subset):\n",
    "    coarse_mask = cell_class_dict_coarse[dataset][neuron_subset]\n",
    "    fine_this = cell_class_dict_fine[dataset][neuron_subset]\n",
    "    result = []\n",
    "    sum_now = 0\n",
    "    mask_start = np.zeros((coarse_mask.sum(),), dtype=np.bool_)\n",
    "    for v in fine_this.values():\n",
    "        assert v.shape == coarse_mask.shape\n",
    "        assert v.dtype == coarse_mask.dtype == np.bool_\n",
    "        value_to_add = v[coarse_mask]\n",
    "        sum_now += value_to_add.sum()\n",
    "        result.append(value_to_add)\n",
    "        assert mask_start.shape == value_to_add.shape\n",
    "        mask_start = np.logical_or(mask_start, value_to_add)\n",
    "    assert coarse_mask.sum() == sum_now\n",
    "    assert np.array_equal(mask_start, np.ones((coarse_mask.sum(),), dtype=np.bool_))\n",
    "    # again, check that this mask is a good one.\n",
    "    return result"
   ]
  },
  {
   "cell_type": "code",
   "execution_count": 15,
   "metadata": {},
   "outputs": [],
   "source": [
    "# ok. time to work on plots.\n",
    "# # https://github.com/leelabcnbc/tang_jcompneuro/blob/master/thesis_plots/v1_fitting/comparison_among_all_non_vgg_models_decomposed_by_fine_subsets.ipynb\n",
    "def draw_one_stuff(dataset, save=None, letter_bias=0):\n",
    "    \n",
    "    models_to_work_on =   [('cnn', x) for x in ('no conv', 'conv')]\n",
    "    models_to_work_on = models_to_work_on[::-1]\n",
    "    assert len(set([x[1] for x in models_to_work_on])) == len(models_to_work_on)\n",
    "    \n",
    "    \n",
    "    \n",
    "    \n",
    "    \n",
    "    monkey = {'MkA_Shape': 'A', 'MkE2_Shape': 'B'}[dataset]\n",
    "    \n",
    "    \n",
    "    \n",
    "    \n",
    "    \n",
    "    \n",
    "    # draw one by one.\n",
    "    num_panel = len(image_subset_and_neuron_subset_list)\n",
    "    \n",
    "    plt.close('all')\n",
    "    fig, axes = plt.subplots(1, num_panel, sharex=False, sharey=True, squeeze=False,\n",
    "                            figsize=(4.5,2))\n",
    "    \n",
    "\n",
    " \n",
    "    for idx, (ax, (img_subset, neuron_subset)) in enumerate(zip(axes.ravel(), image_subset_and_neuron_subset_list)):\n",
    "#         data_x = df_all_cc2.at[('MkA_Shape', img_subset, model_name_x_real), 'cc2'][neuron_subset]['raw']\n",
    "#         data_y = df_all_cc2.at[('MkA_Shape', img_subset, model_name_y_real), 'cc2'][neuron_subset]['raw']\n",
    "#         show_one_basic(data_x, data_y, title=f'{neuron_subset} neurons\\n{img_subset} stimuli',\n",
    "#                       ax=ax,mean_title='mean $CC_\\mathrm{norm}^2$', xlabel=model_name_x,\n",
    "#                       ylabel=model_name_y  if idx == 0 else None)\n",
    "        print(img_subset, neuron_subset)\n",
    "        color_bias = {'HO': 0, 'OT': 5}[neuron_subset]\n",
    "        # gather data.\n",
    "        # for each model, collect subsets in chunks.\n",
    "        # and divide data by fine subsets\n",
    "        stat_raw_array = [fetch_data_raw(dataset, img_subset, neuron_subset, x, y) for x, y in models_to_work_on]\n",
    "        stat_mean_ref_array = np.asarray([fetch_data_mean(dataset, img_subset, neuron_subset, x, y) for x, y in models_to_work_on])\n",
    "        stat_chunks_array = []\n",
    "        raw_chunks_array = []\n",
    "        \n",
    "        \n",
    "        local_index_mask_all = get_local_index_mask(dataset, neuron_subset)\n",
    "        \n",
    "        for mask_this in local_index_mask_all:\n",
    "            stat_chunks_array.append([x[mask_this].sum()/mask_this.size for x in stat_raw_array])\n",
    "            \n",
    "            \n",
    "            raw_chunks_array.append(np.asarray([x[mask_this] for x in stat_raw_array]))\n",
    "            \n",
    "        stat_chunks_array = np.asarray(stat_chunks_array)\n",
    "        assert stat_chunks_array.shape == (len(local_index_mask_all), len(models_to_work_on))\n",
    "#         print(stat_chunks_array)\n",
    "        stat_mean_ref_array_debug = stat_chunks_array.sum(axis=0)\n",
    "        assert stat_mean_ref_array_debug.shape == stat_mean_ref_array.shape\n",
    "        assert np.allclose(stat_mean_ref_array_debug, stat_mean_ref_array)\n",
    "        stat_name_array = [x[1] for x in models_to_work_on]\n",
    "#         print(stat_name_array)\n",
    "        \n",
    "        \n",
    "        \n",
    "            \n",
    "#         ok. pass into my fancy function and draw!\n",
    "        show_one_decomposed_bar(stat_chunks_array, stat_name_array,\n",
    "                                ax=ax, xlabel='mean $CC_\\mathrm{norm}^2$',\n",
    "                                title=f'{neuron_subset} neurons\\n{img_subset} stimuli',\n",
    "                               color_bias=color_bias, set_ylabel=True if idx==0 else False,\n",
    "                               ylabel_styles=None,height=0.8,\n",
    "                               color_list=[[  'blue','#BFBFFF', ]]*7,)\n",
    "         \n",
    "        \n",
    "    \n",
    "        \n",
    "#     fig.suptitle(f'Convolution vs. multi filters for monkey {monkey}')\n",
    "    # adjust figure \n",
    "    fig.subplots_adjust(top=0.8, bottom=0.225, left=0.15, right=0.99, hspace=0.05, wspace=0.1)\n",
    "    \n",
    "\n",
    "    if save is not None:\n",
    "        save_dir = os.path.join(dir_dictionary['plots'], 'main', 'conv_vs_multi_filter_for_slides')\n",
    "        os.makedirs(save_dir, exist_ok=True)\n",
    "        fig.savefig(os.path.join(save_dir, f'{save}_bars.pdf'), dpi=300)\n",
    "        \n",
    "    plt.show()"
   ]
  },
  {
   "cell_type": "code",
   "execution_count": 16,
   "metadata": {
    "scrolled": false
   },
   "outputs": [
    {
     "name": "stdout",
     "output_type": "stream",
     "text": [
      "OT OT\n",
      "all OT\n",
      "all HO\n"
     ]
    },
    {
     "data": {
      "image/png": "[encoded data removed]",
      "text/plain": [
       "<matplotlib.figure.Figure at 0x2aba2caaa550>"
      ]
     },
     "metadata": {},
     "output_type": "display_data"
    }
   ],
   "source": [
    "draw_one_stuff('MkA_Shape', 'A')"
   ]
  },
  {
   "cell_type": "code",
   "execution_count": 17,
   "metadata": {
    "scrolled": false
   },
   "outputs": [
    {
     "name": "stdout",
     "output_type": "stream",
     "text": [
      "OT OT\n",
      "all OT\n",
      "all HO\n"
     ]
    },
    {
     "data": {
      "image/png": "[encoded data removed]",
      "text/plain": [
       "<matplotlib.figure.Figure at 0x2aba30c7f048>"
      ]
     },
     "metadata": {},
     "output_type": "display_data"
    }
   ],
   "source": [
    "draw_one_stuff('MkE2_Shape', 'E2')"
   ]
  }
 ],
 "metadata": {
  "kernelspec": {
   "display_name": "Python 3",
   "language": "python",
   "name": "python3"
  },
  "language_info": {
   "codemirror_mode": {
    "name": "ipython",
    "version": 3
   },
   "file_extension": ".py",
   "mimetype": "text/x-python",
   "name": "python",
   "nbconvert_exporter": "python",
   "pygments_lexer": "ipython3",
   "version": "3.6.4"
  }
 },
 "nbformat": 4,
 "nbformat_minor": 2
}
